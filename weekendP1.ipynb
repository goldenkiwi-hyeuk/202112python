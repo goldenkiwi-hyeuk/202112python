{
  "nbformat": 4,
  "nbformat_minor": 0,
  "metadata": {
    "colab": {
      "name": "weekendP1.ipynb",
      "provenance": [],
      "authorship_tag": "ABX9TyNrnsY2AOmxrizQAGYph8HK",
      "include_colab_link": true
    },
    "kernelspec": {
      "name": "python3",
      "display_name": "Python 3"
    },
    "language_info": {
      "name": "python"
    }
  },
  "cells": [
    {
      "cell_type": "markdown",
      "metadata": {
        "id": "view-in-github",
        "colab_type": "text"
      },
      "source": [
        "<a href=\"https://colab.research.google.com/github/goldenkiwi-hyeuk/202112python/blob/main/weekendP1.ipynb\" target=\"_parent\"><img src=\"https://colab.research.google.com/assets/colab-badge.svg\" alt=\"Open In Colab\"/></a>"
      ]
    },
    {
      "cell_type": "code",
      "execution_count": 142,
      "metadata": {
        "colab": {
          "base_uri": "https://localhost:8080/"
        },
        "id": "48hlhr3GgtIj",
        "outputId": "8f6c2033-a2cd-4d76-d22b-c05eb8ae331b"
      },
      "outputs": [
        {
          "output_type": "execute_result",
          "data": {
            "text/plain": [
              "[1, 2, 3, 4, 5]"
            ]
          },
          "metadata": {},
          "execution_count": 142
        }
      ],
      "source": [
        "# 그 언어의 자료형만 잘이해하면 그 언어의 절반이 끝난다!!!!\n",
        "# List, Tuple, Dict, Set\n",
        "\n",
        "# List - mutable, 수정과 삭제가 가능하다, 인덱싱, 슬라이싱 가능 [대괄호]로 표현\n",
        "#        하나의 리스트에 숫자형, 문자형, 튜플, 딕 .... 섞어서 저장이 가능하다[장점? 단점으로 작용하기도 함.]\n",
        "\n",
        "# 리스트 만들기\n",
        "\n",
        "odd = [1,2,3,4,5]\n",
        "odd"
      ]
    },
    {
      "cell_type": "code",
      "source": [
        "a = []"
      ],
      "metadata": {
        "id": "G-hbgUEmmKgh"
      },
      "execution_count": 143,
      "outputs": []
    },
    {
      "cell_type": "code",
      "source": [
        "b = [1,2,3]"
      ],
      "metadata": {
        "id": "sT6Un4YvnKXo"
      },
      "execution_count": 144,
      "outputs": []
    },
    {
      "cell_type": "code",
      "source": [
        "c = ['a','b','c']"
      ],
      "metadata": {
        "id": "6rZRujphnMjE"
      },
      "execution_count": 145,
      "outputs": []
    },
    {
      "cell_type": "code",
      "source": [
        "d = [1,2,'c','d']"
      ],
      "metadata": {
        "id": "3lAExmZrnPM9"
      },
      "execution_count": 146,
      "outputs": []
    },
    {
      "cell_type": "code",
      "source": [
        "e = [1, 2, ['good', 'morning']]"
      ],
      "metadata": {
        "id": "I3m_4lQanTTN"
      },
      "execution_count": 147,
      "outputs": []
    },
    {
      "cell_type": "code",
      "source": [
        "# 리스트 인덱싱 - 몇 번째 요소를 추출[1개를 뽑는것]"
      ],
      "metadata": {
        "id": "eY-ZtMJenXoM"
      },
      "execution_count": 148,
      "outputs": []
    },
    {
      "cell_type": "code",
      "source": [
        "a = [1,2,3]\n",
        "a[0]"
      ],
      "metadata": {
        "colab": {
          "base_uri": "https://localhost:8080/"
        },
        "id": "DxEZijAenmjD",
        "outputId": "4cf2688f-5a77-4a0c-9dbf-3a991562a9b9"
      },
      "execution_count": 149,
      "outputs": [
        {
          "output_type": "execute_result",
          "data": {
            "text/plain": [
              "1"
            ]
          },
          "metadata": {},
          "execution_count": 149
        }
      ]
    },
    {
      "cell_type": "code",
      "source": [
        "a[0] + a[2]"
      ],
      "metadata": {
        "colab": {
          "base_uri": "https://localhost:8080/"
        },
        "id": "I3g3OseInqK3",
        "outputId": "e41ce1c4-d2b9-4c79-aceb-a5193076ad4a"
      },
      "execution_count": 150,
      "outputs": [
        {
          "output_type": "execute_result",
          "data": {
            "text/plain": [
              "4"
            ]
          },
          "metadata": {},
          "execution_count": 150
        }
      ]
    },
    {
      "cell_type": "code",
      "source": [
        "a[-1]  # 맨 끝에껄 뽑는경우"
      ],
      "metadata": {
        "colab": {
          "base_uri": "https://localhost:8080/"
        },
        "id": "CtEfRHP8ns46",
        "outputId": "e557c9ad-d441-4aff-804d-33e3126e32d4"
      },
      "execution_count": 151,
      "outputs": [
        {
          "output_type": "execute_result",
          "data": {
            "text/plain": [
              "3"
            ]
          },
          "metadata": {},
          "execution_count": 151
        }
      ]
    },
    {
      "cell_type": "code",
      "source": [
        "# 리스트 슬라이싱 - 여러게 추출\n",
        "\n",
        "a = [1,2,3,4,5]\n",
        "a[0:2] # 0번째 부터 2미만 까지 "
      ],
      "metadata": {
        "colab": {
          "base_uri": "https://localhost:8080/"
        },
        "id": "g0wf1BGYphdE",
        "outputId": "3f4d1468-97ed-4526-8c71-c720f124c712"
      },
      "execution_count": 152,
      "outputs": [
        {
          "output_type": "execute_result",
          "data": {
            "text/plain": [
              "[1, 2]"
            ]
          },
          "metadata": {},
          "execution_count": 152
        }
      ]
    },
    {
      "cell_type": "code",
      "source": [
        "b = a[:2] # : 이전 공백은 처음부터\n",
        "b"
      ],
      "metadata": {
        "colab": {
          "base_uri": "https://localhost:8080/"
        },
        "id": "3xGQb0MZpuDP",
        "outputId": "19da71a3-52f0-4e91-92a1-9ced730f5f96"
      },
      "execution_count": 153,
      "outputs": [
        {
          "output_type": "execute_result",
          "data": {
            "text/plain": [
              "[1, 2]"
            ]
          },
          "metadata": {},
          "execution_count": 153
        }
      ]
    },
    {
      "cell_type": "code",
      "source": [
        "c = a[2:] # : 이후 공백은 끝까지\n",
        "c"
      ],
      "metadata": {
        "colab": {
          "base_uri": "https://localhost:8080/"
        },
        "id": "On0Zkydtpy2I",
        "outputId": "50561aef-2ebd-4dc2-ae97-9ba1891364d2"
      },
      "execution_count": 154,
      "outputs": [
        {
          "output_type": "execute_result",
          "data": {
            "text/plain": [
              "[3, 4, 5]"
            ]
          },
          "metadata": {},
          "execution_count": 154
        }
      ]
    },
    {
      "cell_type": "code",
      "source": [
        "len(a) # 총 요소의 갯수"
      ],
      "metadata": {
        "colab": {
          "base_uri": "https://localhost:8080/"
        },
        "id": "6i3zE_Jrp9c9",
        "outputId": "e90c8d8d-f409-4b36-8e03-6e242194f525"
      },
      "execution_count": 155,
      "outputs": [
        {
          "output_type": "execute_result",
          "data": {
            "text/plain": [
              "5"
            ]
          },
          "metadata": {},
          "execution_count": 155
        }
      ]
    },
    {
      "cell_type": "code",
      "source": [
        "# 리스트의 수정과 삭제\n",
        "\n",
        "a = [1,2,3]\n",
        "a[2] = 4\n",
        "a"
      ],
      "metadata": {
        "colab": {
          "base_uri": "https://localhost:8080/"
        },
        "id": "YfcEy9dKqAYa",
        "outputId": "a54dbb3c-2ca5-4d0d-94e3-7a644751db00"
      },
      "execution_count": 156,
      "outputs": [
        {
          "output_type": "execute_result",
          "data": {
            "text/plain": [
              "[1, 2, 4]"
            ]
          },
          "metadata": {},
          "execution_count": 156
        }
      ]
    },
    {
      "cell_type": "code",
      "source": [
        "del a[1]"
      ],
      "metadata": {
        "id": "lqgGTyhDqLFg"
      },
      "execution_count": 157,
      "outputs": []
    },
    {
      "cell_type": "code",
      "source": [
        "a"
      ],
      "metadata": {
        "colab": {
          "base_uri": "https://localhost:8080/"
        },
        "id": "vVVsyVtEqPhM",
        "outputId": "719c21f0-a94a-477a-92e7-8a983a0e028c"
      },
      "execution_count": 158,
      "outputs": [
        {
          "output_type": "execute_result",
          "data": {
            "text/plain": [
              "[1, 4]"
            ]
          },
          "metadata": {},
          "execution_count": 158
        }
      ]
    },
    {
      "cell_type": "code",
      "source": [
        "a = [1,2,3,4,5]\n",
        "del a[2:]\n",
        "a"
      ],
      "metadata": {
        "colab": {
          "base_uri": "https://localhost:8080/"
        },
        "id": "-eKvkj4KqQhw",
        "outputId": "36483e81-4198-4d32-c8e8-9e0b8f8387a6"
      },
      "execution_count": 159,
      "outputs": [
        {
          "output_type": "execute_result",
          "data": {
            "text/plain": [
              "[1, 2]"
            ]
          },
          "metadata": {},
          "execution_count": 159
        }
      ]
    },
    {
      "cell_type": "code",
      "source": [
        "# 리스트 관련 함수들 정리\n",
        "# append - 리스트에 요소를 추가\n",
        "\n",
        "a = [1,2,3]\n",
        "a.append(4)\n",
        "a"
      ],
      "metadata": {
        "colab": {
          "base_uri": "https://localhost:8080/"
        },
        "id": "xKxDI6aLqVfJ",
        "outputId": "50d39902-b73b-4aed-b513-172eab9b86f8"
      },
      "execution_count": 160,
      "outputs": [
        {
          "output_type": "execute_result",
          "data": {
            "text/plain": [
              "[1, 2, 3, 4]"
            ]
          },
          "metadata": {},
          "execution_count": 160
        }
      ]
    },
    {
      "cell_type": "code",
      "source": [
        "# pop - 요소를 끄집어내기 / 인덱싱과는 다르게 리스트에서 끄집어내며 삭제함\n",
        "a.pop()"
      ],
      "metadata": {
        "colab": {
          "base_uri": "https://localhost:8080/"
        },
        "id": "t-nS7nVHqfOT",
        "outputId": "d20a493e-a7b4-457f-8110-e1b428af5248"
      },
      "execution_count": 161,
      "outputs": [
        {
          "output_type": "execute_result",
          "data": {
            "text/plain": [
              "4"
            ]
          },
          "metadata": {},
          "execution_count": 161
        }
      ]
    },
    {
      "cell_type": "code",
      "source": [
        "a"
      ],
      "metadata": {
        "colab": {
          "base_uri": "https://localhost:8080/"
        },
        "id": "OC8P-_3Rqpr0",
        "outputId": "0d2f3a1c-2da2-49ab-a9aa-4a32a9d5eb5a"
      },
      "execution_count": 162,
      "outputs": [
        {
          "output_type": "execute_result",
          "data": {
            "text/plain": [
              "[1, 2, 3]"
            ]
          },
          "metadata": {},
          "execution_count": 162
        }
      ]
    },
    {
      "cell_type": "code",
      "source": [
        "a.pop()"
      ],
      "metadata": {
        "colab": {
          "base_uri": "https://localhost:8080/"
        },
        "id": "aCqmeecrqw39",
        "outputId": "53eee1b2-b09f-4b8c-b9d2-b1bcc2daf435"
      },
      "execution_count": 163,
      "outputs": [
        {
          "output_type": "execute_result",
          "data": {
            "text/plain": [
              "3"
            ]
          },
          "metadata": {},
          "execution_count": 163
        }
      ]
    },
    {
      "cell_type": "code",
      "source": [
        "a"
      ],
      "metadata": {
        "colab": {
          "base_uri": "https://localhost:8080/"
        },
        "id": "kazifEP0qycw",
        "outputId": "34b259fb-f34e-4000-823a-9b7daa3eb6e2"
      },
      "execution_count": 164,
      "outputs": [
        {
          "output_type": "execute_result",
          "data": {
            "text/plain": [
              "[1, 2]"
            ]
          },
          "metadata": {},
          "execution_count": 164
        }
      ]
    },
    {
      "cell_type": "code",
      "source": [
        "a.pop(0)"
      ],
      "metadata": {
        "colab": {
          "base_uri": "https://localhost:8080/"
        },
        "id": "a704G7_7qy5w",
        "outputId": "c346eb89-ae15-4083-a356-d959daf322df"
      },
      "execution_count": 165,
      "outputs": [
        {
          "output_type": "execute_result",
          "data": {
            "text/plain": [
              "1"
            ]
          },
          "metadata": {},
          "execution_count": 165
        }
      ]
    },
    {
      "cell_type": "code",
      "source": [
        "a"
      ],
      "metadata": {
        "colab": {
          "base_uri": "https://localhost:8080/"
        },
        "id": "w4TU2eVrq0qb",
        "outputId": "c87b08ae-b2bd-4b3d-ec0d-ce74ae45b88f"
      },
      "execution_count": 166,
      "outputs": [
        {
          "output_type": "execute_result",
          "data": {
            "text/plain": [
              "[2]"
            ]
          },
          "metadata": {},
          "execution_count": 166
        }
      ]
    },
    {
      "cell_type": "code",
      "source": [
        "# Tuple - immutable, 수정과 삭제가 불가능하다, 인덱싱, 슬라이싱 가능 (소괄호)로 표현\n",
        "#        하나의 리스트에 숫자형, 문자형, 튜플, 딕 .... 섞어서 저장이 가능하다\n",
        "#        하나만 튜플로 만들때는 쉼표를 넣어준다.. (2,)"
      ],
      "metadata": {
        "id": "vy65buSNq1At"
      },
      "execution_count": 167,
      "outputs": []
    },
    {
      "cell_type": "code",
      "source": [
        "t1 = ()\n",
        "\n",
        "t2 = (1,2,3)\n",
        "t3 = ('a', 'b', 'c')\n",
        "t4 = ('a', 'b', 1, 2,3)\n",
        "\n",
        "t5 = 1,2,3    # 괄호를 치지 않아도 인식함\n",
        "t6 = (2,)"
      ],
      "metadata": {
        "id": "_fnmPgcSrDGB"
      },
      "execution_count": 168,
      "outputs": []
    },
    {
      "cell_type": "code",
      "source": [
        "t1 = (1,2,3,4,5)\n",
        "del t1[0]  # 튜플은 삭제 불가능"
      ],
      "metadata": {
        "colab": {
          "base_uri": "https://localhost:8080/",
          "height": 195
        },
        "id": "YJoGeWZOrd-R",
        "outputId": "c8db1d1b-859e-4648-856c-c26a787b2fcb"
      },
      "execution_count": 169,
      "outputs": [
        {
          "output_type": "error",
          "ename": "TypeError",
          "evalue": "ignored",
          "traceback": [
            "\u001b[0;31m---------------------------------------------------------------------------\u001b[0m",
            "\u001b[0;31mTypeError\u001b[0m                                 Traceback (most recent call last)",
            "\u001b[0;32m<ipython-input-169-4a9bc6e84e28>\u001b[0m in \u001b[0;36m<module>\u001b[0;34m()\u001b[0m\n\u001b[1;32m      1\u001b[0m \u001b[0mt1\u001b[0m \u001b[0;34m=\u001b[0m \u001b[0;34m(\u001b[0m\u001b[0;36m1\u001b[0m\u001b[0;34m,\u001b[0m\u001b[0;36m2\u001b[0m\u001b[0;34m,\u001b[0m\u001b[0;36m3\u001b[0m\u001b[0;34m,\u001b[0m\u001b[0;36m4\u001b[0m\u001b[0;34m,\u001b[0m\u001b[0;36m5\u001b[0m\u001b[0;34m)\u001b[0m\u001b[0;34m\u001b[0m\u001b[0;34m\u001b[0m\u001b[0m\n\u001b[0;32m----> 2\u001b[0;31m \u001b[0;32mdel\u001b[0m \u001b[0mt1\u001b[0m\u001b[0;34m[\u001b[0m\u001b[0;36m0\u001b[0m\u001b[0;34m]\u001b[0m  \u001b[0;31m# 튜플은 삭제 불가능\u001b[0m\u001b[0;34m\u001b[0m\u001b[0;34m\u001b[0m\u001b[0m\n\u001b[0m",
            "\u001b[0;31mTypeError\u001b[0m: 'tuple' object doesn't support item deletion"
          ]
        }
      ]
    },
    {
      "cell_type": "code",
      "source": [
        "t1 = (1,2,3,4,5)\n",
        "t1[0] = 9  # 튜플은 수정 불가능"
      ],
      "metadata": {
        "id": "wu6Etib2rtYd"
      },
      "execution_count": null,
      "outputs": []
    },
    {
      "cell_type": "code",
      "source": [
        "# 튜플에서 인덱싱\n",
        "t1 = (1,2,3,4,5)\n",
        "t1[0]"
      ],
      "metadata": {
        "id": "XEJ7QxRWr0lT"
      },
      "execution_count": null,
      "outputs": []
    },
    {
      "cell_type": "code",
      "source": [
        "# 튜플에서 슬라이싱\n",
        "t1 = (1,2,3,4,5)\n",
        "t1[1:]"
      ],
      "metadata": {
        "id": "cM-wHUZyso_l"
      },
      "execution_count": null,
      "outputs": []
    },
    {
      "cell_type": "code",
      "source": [
        "len(t1)"
      ],
      "metadata": {
        "id": "NzoJPrYGs6AE"
      },
      "execution_count": null,
      "outputs": []
    },
    {
      "cell_type": "code",
      "source": [
        "# 딕셔너리 - 이름 : 이몽룡, 나이: 13 ..., 키 : 밸류의 데이터 자료형\n",
        "#            판다스 시리즈, 자바 맵.....\n",
        "#            인덱싱과 슬라이싱 불가능, mutable 수정과 삭제가 가능하다. {중괄호} 사용"
      ],
      "metadata": {
        "id": "uNg9jx4ps8uq"
      },
      "execution_count": null,
      "outputs": []
    },
    {
      "cell_type": "code",
      "source": [
        "dic = {'이름':'이몽룡', '나이':'13', '여친':'성춘향'}"
      ],
      "metadata": {
        "id": "Z21Tgrtntk1n"
      },
      "execution_count": null,
      "outputs": []
    },
    {
      "cell_type": "code",
      "source": [
        "dic['과거시험'] = '합격'"
      ],
      "metadata": {
        "id": "UbgrBRKZttoZ"
      },
      "execution_count": null,
      "outputs": []
    },
    {
      "cell_type": "code",
      "source": [
        "dic  # 순서가 없기 때문에 마구잡이로 들어감"
      ],
      "metadata": {
        "id": "8XxQZqFUt2QH"
      },
      "execution_count": null,
      "outputs": []
    },
    {
      "cell_type": "code",
      "source": [
        "del dic['여친']"
      ],
      "metadata": {
        "id": "Aw178eB3t3Xt"
      },
      "execution_count": null,
      "outputs": []
    },
    {
      "cell_type": "code",
      "source": [
        "dic # 순서가 없기 때문에 인덱싱, 슬라이싱 사용불가"
      ],
      "metadata": {
        "id": "WdWLyL_vuDF-"
      },
      "execution_count": null,
      "outputs": []
    },
    {
      "cell_type": "code",
      "source": [
        "dic['이름']   "
      ],
      "metadata": {
        "id": "O3oFJekNuD3c"
      },
      "execution_count": null,
      "outputs": []
    },
    {
      "cell_type": "code",
      "source": [
        "# 리스트나 튜플은 요소값을 얻어낼때 인덱싱이나 슬라이싱을 사용했따.\n",
        "# 그러나 딕셔너리는 인덱싱과 슬라이싱이 불가능하며\n",
        "# 키값으로 밸류값을 얻어내는 방법만 사용한다"
      ],
      "metadata": {
        "id": "cqbARDjsuNQg"
      },
      "execution_count": null,
      "outputs": []
    },
    {
      "cell_type": "code",
      "source": [
        "# 딕셔너리 관련 함수들\n",
        "dic.keys()"
      ],
      "metadata": {
        "id": "67zCiOx8v_po"
      },
      "execution_count": null,
      "outputs": []
    },
    {
      "cell_type": "code",
      "source": [
        "list(dic.keys())"
      ],
      "metadata": {
        "id": "uqLQp1KYwERs"
      },
      "execution_count": null,
      "outputs": []
    },
    {
      "cell_type": "code",
      "source": [
        "dic.values()"
      ],
      "metadata": {
        "id": "3hClBZOBwI0U"
      },
      "execution_count": null,
      "outputs": []
    },
    {
      "cell_type": "code",
      "source": [
        "dic.items()"
      ],
      "metadata": {
        "id": "Gebj9oqKwKnL"
      },
      "execution_count": null,
      "outputs": []
    },
    {
      "cell_type": "code",
      "source": [
        "'이름' in dic"
      ],
      "metadata": {
        "id": "5UepJhADwNNX"
      },
      "execution_count": null,
      "outputs": []
    },
    {
      "cell_type": "code",
      "source": [
        "'이메일' in dic"
      ],
      "metadata": {
        "id": "5NhYDu-Swerf"
      },
      "execution_count": null,
      "outputs": []
    },
    {
      "cell_type": "code",
      "source": [
        "# Set 집합 - 중복을 허용하지 않는다. 순서가 없다. unordered\n",
        "#            인덱싱과 슬라이싱 불가능, 수정과 삭제는 가능하다. mutable\n",
        "#            중복 제거용 필터 형태로 사용된다.\n",
        "\n",
        "s1 = set('Hello')\n",
        "s1"
      ],
      "metadata": {
        "id": "WUNPhmKjwhlQ"
      },
      "execution_count": null,
      "outputs": []
    },
    {
      "cell_type": "code",
      "source": [
        "s1 = set([1,2,3])\n",
        "s1.add(4)\n",
        "s1"
      ],
      "metadata": {
        "id": "e7Io650yw1b-"
      },
      "execution_count": null,
      "outputs": []
    },
    {
      "cell_type": "code",
      "source": [
        "s1.remove(2)\n",
        "s1"
      ],
      "metadata": {
        "id": "I_mCY48pxLmG"
      },
      "execution_count": null,
      "outputs": []
    },
    {
      "cell_type": "code",
      "source": [
        "s = {\"1\", 3, 4, 5}\n",
        "s"
      ],
      "metadata": {
        "id": "sI2aXku1xO1g"
      },
      "execution_count": null,
      "outputs": []
    },
    {
      "cell_type": "code",
      "source": [
        "type(s)"
      ],
      "metadata": {
        "id": "sc1OlQl_yB4V"
      },
      "execution_count": null,
      "outputs": []
    },
    {
      "cell_type": "code",
      "source": [
        "!pip install pandas\n",
        "import pandas as pd"
      ],
      "metadata": {
        "id": "w4rHvra-yDHx"
      },
      "execution_count": null,
      "outputs": []
    },
    {
      "cell_type": "code",
      "source": [
        "# 시리즈, 데이터 프레임(*)\n",
        "\n",
        "# Series 키값과 밸류값 형태 즉 파이썬 딕셔너리와 유사한 구조\n",
        "\n",
        "dict_data ={'a':1, 'b':2, 'c':3} # 파이썬 딕셔너리"
      ],
      "metadata": {
        "id": "7uw61KhX3u9b"
      },
      "execution_count": null,
      "outputs": []
    },
    {
      "cell_type": "code",
      "source": [
        "sr = pd.Series(dict_data)"
      ],
      "metadata": {
        "id": "N9vKfuRJ59vi"
      },
      "execution_count": null,
      "outputs": []
    },
    {
      "cell_type": "code",
      "source": [
        "sr\n",
        "print(sr.index)"
      ],
      "metadata": {
        "id": "RSse9MPV6DV6"
      },
      "execution_count": null,
      "outputs": []
    },
    {
      "cell_type": "code",
      "source": [
        "type(sr)"
      ],
      "metadata": {
        "id": "pjg_aAL16Dro"
      },
      "execution_count": null,
      "outputs": []
    },
    {
      "cell_type": "code",
      "source": [
        "type(dict_data)"
      ],
      "metadata": {
        "id": "V6AkJxXr6FQe"
      },
      "execution_count": null,
      "outputs": []
    },
    {
      "cell_type": "code",
      "source": [
        "list_data = ['2021-12-14', 3.14, 'ABC', 100, True]\n",
        "\n",
        "sr = pd.Series(list_data)\n",
        "sr\n",
        "\n",
        "# 시리즈의 인덱스 배열과 데이터 값의 배열을\n",
        "# 인덱스는 0~4 범위의 정수로 인덱스\n",
        "# 데이터값이 밸류 값으로 나열되어 시리즈를 생성한다.\n",
        "# 즉 키값이 없는 리스트를 시리즈로 변경시키면 인덱스가 키값이 된다."
      ],
      "metadata": {
        "id": "Lo30T48e6Hci"
      },
      "execution_count": null,
      "outputs": []
    },
    {
      "cell_type": "code",
      "source": [
        "print(sr.index)"
      ],
      "metadata": {
        "id": "9Z25BiM46nq2"
      },
      "execution_count": null,
      "outputs": []
    },
    {
      "cell_type": "code",
      "source": [
        "print(sr.values)"
      ],
      "metadata": {
        "id": "D7HtmORQ6z35"
      },
      "execution_count": null,
      "outputs": []
    },
    {
      "cell_type": "code",
      "source": [
        "tuple_data = ('홍길동', '2000-12-04', '남', '학생')"
      ],
      "metadata": {
        "id": "B7vJzOH-63zo"
      },
      "execution_count": null,
      "outputs": []
    },
    {
      "cell_type": "code",
      "source": [
        "sr = pd.Series(tuple_data)\n",
        "sr"
      ],
      "metadata": {
        "id": "qm6m9Fy7_qXc"
      },
      "execution_count": null,
      "outputs": []
    },
    {
      "cell_type": "code",
      "source": [
        "sr1 = pd.Series(tuple_data, index = ['이름', '생일', '성별', '직업']) # 인덱스 직접 부여 가능\n",
        "sr1"
      ],
      "metadata": {
        "id": "xyKik7nt_vh-"
      },
      "execution_count": null,
      "outputs": []
    },
    {
      "cell_type": "code",
      "source": [
        "sr1[0] # 시리즈와 딕셔너리의 차이점 시리즈는 인덱싱이 가능함\n",
        "# 해당 인덱스의 밸류값이 나옴"
      ],
      "metadata": {
        "id": "7bB6_HW1_7ba"
      },
      "execution_count": null,
      "outputs": []
    },
    {
      "cell_type": "code",
      "source": [
        "sr1['이름']"
      ],
      "metadata": {
        "id": "UFpnWdpdABqm"
      },
      "execution_count": null,
      "outputs": []
    },
    {
      "cell_type": "code",
      "source": [
        "# 데이터 프레임 - 행과 열로 만들어지는 2차원 배열 형태의 자료구조\n",
        "# 가장 익숙한 형태 = 엑셀"
      ],
      "metadata": {
        "id": "RV4d0z6VAIiK"
      },
      "execution_count": null,
      "outputs": []
    },
    {
      "cell_type": "code",
      "source": [
        "dict_data = {'c0':[1,2,3], 'c1':[4,5,6], 'c2':[7,8,9], 'c3':[10,11,12], 'c4':[13,14,15]}"
      ],
      "metadata": {
        "id": "z7BVfa5QFehz"
      },
      "execution_count": null,
      "outputs": []
    },
    {
      "cell_type": "code",
      "source": [
        "df = pd.DataFrame(dict_data)\n",
        "df"
      ],
      "metadata": {
        "id": "NtHHCo7CFyjY"
      },
      "execution_count": null,
      "outputs": []
    },
    {
      "cell_type": "code",
      "source": [
        "type(df)"
      ],
      "metadata": {
        "id": "H12YPc_XF2yx"
      },
      "execution_count": null,
      "outputs": []
    },
    {
      "cell_type": "code",
      "source": [
        "df = pd.DataFrame([[15,'남','강남중'], [17, '여', '서초중']], index = ['준서', '예은'], columns = ['나이', '성별','학교'])"
      ],
      "metadata": {
        "id": "VCDNOocWF5gk"
      },
      "execution_count": null,
      "outputs": []
    },
    {
      "cell_type": "code",
      "source": [
        "df"
      ],
      "metadata": {
        "id": "gL-h11n7Ge1O"
      },
      "execution_count": null,
      "outputs": []
    },
    {
      "cell_type": "code",
      "source": [
        "df.index"
      ],
      "metadata": {
        "id": "gfFch-gLGfdZ"
      },
      "execution_count": null,
      "outputs": []
    },
    {
      "cell_type": "code",
      "source": [
        "df.columns"
      ],
      "metadata": {
        "id": "7BEoMqU1GiJ_"
      },
      "execution_count": null,
      "outputs": []
    },
    {
      "cell_type": "code",
      "source": [
        "df.index=['학생1','학생2']"
      ],
      "metadata": {
        "id": "Sn09Q6eYGjgd"
      },
      "execution_count": null,
      "outputs": []
    },
    {
      "cell_type": "code",
      "source": [
        "df"
      ],
      "metadata": {
        "id": "JIlM_Ku3GtTC"
      },
      "execution_count": null,
      "outputs": []
    },
    {
      "cell_type": "code",
      "source": [
        "df.columns = ['code1', 'code2', 'code3']"
      ],
      "metadata": {
        "id": "XDn_RLhDGvKb"
      },
      "execution_count": null,
      "outputs": []
    },
    {
      "cell_type": "code",
      "source": [
        "df"
      ],
      "metadata": {
        "id": "QSmSIBdWG07v"
      },
      "execution_count": null,
      "outputs": []
    },
    {
      "cell_type": "code",
      "source": [
        "exam_data = {'수학':[90,80,70], '영어':[98,89,85], \n",
        "             '음악':[85,95,100], '체육':[100,90,90]}"
      ],
      "metadata": {
        "id": "YkvdcDYRG1e9"
      },
      "execution_count": null,
      "outputs": []
    },
    {
      "cell_type": "code",
      "source": [
        "df = pd.DataFrame(exam_data, index = ['지민','정국','슈가'])\n",
        "df"
      ],
      "metadata": {
        "id": "gfv_e1MLHfhO"
      },
      "execution_count": null,
      "outputs": []
    },
    {
      "cell_type": "code",
      "source": [
        "df2 = df[:]\n",
        "df2"
      ],
      "metadata": {
        "id": "W5v7y24bHuU_"
      },
      "execution_count": null,
      "outputs": []
    },
    {
      "cell_type": "code",
      "source": [
        "# 데이터 프레임에서 행 삭제\n",
        "df2.drop('지민')  # 임시 삭제의 개념"
      ],
      "metadata": {
        "id": "TTUBFRJUH50g"
      },
      "execution_count": null,
      "outputs": []
    },
    {
      "cell_type": "code",
      "source": [
        "df2.drop('지민', inplace = True)\n",
        "df2.drop('정국', inplace = True)"
      ],
      "metadata": {
        "id": "P8aoa08wH96e"
      },
      "execution_count": null,
      "outputs": []
    },
    {
      "cell_type": "code",
      "source": [
        "df2"
      ],
      "metadata": {
        "id": "YTts7MXwIaPM"
      },
      "execution_count": null,
      "outputs": []
    },
    {
      "cell_type": "code",
      "source": [
        "df"
      ],
      "metadata": {
        "id": "uR-d8URzIbS3"
      },
      "execution_count": null,
      "outputs": []
    },
    {
      "cell_type": "code",
      "source": [
        "df3 = df[:]\n",
        "df3.drop(['지민', '슈가'], axis = 0, inplace = True) # axis = 0 : 행 방향\n",
        "df3"
      ],
      "metadata": {
        "id": "1IplpWh_IMHS"
      },
      "execution_count": null,
      "outputs": []
    },
    {
      "cell_type": "code",
      "source": [
        "df4 = df[:]\n",
        "df4.drop('수학', axis=1, inplace= True)\n",
        "df4"
      ],
      "metadata": {
        "id": "INAOUtidI_Ps"
      },
      "execution_count": null,
      "outputs": []
    },
    {
      "cell_type": "code",
      "source": [
        "df4 = df[:]\n",
        "df4.drop(['수학','음악', '체육'], axis=1, inplace= True)\n",
        "df4"
      ],
      "metadata": {
        "id": "yVIXgrgPJMuO"
      },
      "execution_count": null,
      "outputs": []
    },
    {
      "cell_type": "code",
      "source": [
        "# 행 선택 , \n",
        "# loc[location] : 인덱스 이름을 기준으로 선택\n",
        "# iloc[index location] : 인덱스 번호를 기준으로 선택"
      ],
      "metadata": {
        "id": "ogu-DKd6JSoH"
      },
      "execution_count": null,
      "outputs": []
    },
    {
      "cell_type": "code",
      "source": [
        "df5= df[:]"
      ],
      "metadata": {
        "id": "dRy__sRaJwHv"
      },
      "execution_count": null,
      "outputs": []
    },
    {
      "cell_type": "code",
      "source": [
        "label1= df.loc['지민'] # 인덱스 값을 글자로 선택\n",
        "label1"
      ],
      "metadata": {
        "id": "tYNeqwbkJzPU"
      },
      "execution_count": null,
      "outputs": []
    },
    {
      "cell_type": "code",
      "source": [
        "index1 = df.iloc[0]\n",
        "index1"
      ],
      "metadata": {
        "id": "jDDlUc5OJ4lO"
      },
      "execution_count": null,
      "outputs": []
    },
    {
      "cell_type": "code",
      "source": [
        "label2 = df.loc[['지민', '슈가']]\n",
        "label2"
      ],
      "metadata": {
        "id": "_yPNKzGMKD6w"
      },
      "execution_count": null,
      "outputs": []
    },
    {
      "cell_type": "code",
      "source": [
        "index2 = df.iloc[[0,1]]\n",
        "index2"
      ],
      "metadata": {
        "id": "1WbhHgEZY8wW"
      },
      "execution_count": null,
      "outputs": []
    },
    {
      "cell_type": "code",
      "source": [
        "label3 = df.loc['지민':'슈가']\n",
        "label3"
      ],
      "metadata": {
        "id": "iVgCsZO4ZIrr"
      },
      "execution_count": null,
      "outputs": []
    },
    {
      "cell_type": "code",
      "source": [
        "index3 = df.iloc[0:3] # 0번째 부터 3미만 즉 2까지\n",
        "index3"
      ],
      "metadata": {
        "id": "vl83pqY0ZTPT"
      },
      "execution_count": null,
      "outputs": []
    },
    {
      "cell_type": "code",
      "source": [
        "df5"
      ],
      "metadata": {
        "id": "TfdDymwZZfTo"
      },
      "execution_count": null,
      "outputs": []
    },
    {
      "cell_type": "code",
      "source": [
        "math1 = df5['수학']\n",
        "math1"
      ],
      "metadata": {
        "id": "dT27RU_-ZgoX"
      },
      "execution_count": null,
      "outputs": []
    },
    {
      "cell_type": "code",
      "source": [
        "eng1 = df5.영어\n",
        "eng1"
      ],
      "metadata": {
        "id": "9ZaIZcb_Znmi"
      },
      "execution_count": null,
      "outputs": []
    },
    {
      "cell_type": "code",
      "source": [
        "etc1 = df5[['음악', '체육']]\n",
        "etc1"
      ],
      "metadata": {
        "id": "SHCC9StSZrsj"
      },
      "execution_count": null,
      "outputs": []
    },
    {
      "cell_type": "code",
      "source": [
        "df5.iloc[: :2]  #0행부터(생략), 끝까지(2행까지), 간격이 2\n",
        "# df5.iloc[0:3:2]와 같은 표현"
      ],
      "metadata": {
        "id": "ko8Moie8Z0SO"
      },
      "execution_count": null,
      "outputs": []
    },
    {
      "cell_type": "code",
      "source": [
        "df5.iloc[::-1]  # 꺼꾸로 뒤집어서 출력"
      ],
      "metadata": {
        "id": "Po1vqrnQaMq_"
      },
      "execution_count": null,
      "outputs": []
    },
    {
      "cell_type": "code",
      "source": [
        "df5"
      ],
      "metadata": {
        "id": "F2kAPOPQaQwo"
      },
      "execution_count": null,
      "outputs": []
    },
    {
      "cell_type": "code",
      "source": [
        "df['국어'] = 80\n",
        "df"
      ],
      "metadata": {
        "id": "fAaWFTv5aSPT"
      },
      "execution_count": null,
      "outputs": []
    },
    {
      "cell_type": "code",
      "source": [
        "df.loc[3] = 0\n",
        "df"
      ],
      "metadata": {
        "id": "P8V_K5swcVXZ"
      },
      "execution_count": null,
      "outputs": []
    },
    {
      "cell_type": "code",
      "source": [
        "df.loc['뷔'] = [90,80,99,100,90]\n",
        "df"
      ],
      "metadata": {
        "id": "N5WNUS0weAKo"
      },
      "execution_count": null,
      "outputs": []
    },
    {
      "cell_type": "code",
      "source": [
        "df"
      ],
      "metadata": {
        "colab": {
          "base_uri": "https://localhost:8080/",
          "height": 206
        },
        "id": "Tl7JKOdyeVbf",
        "outputId": "74aff1a0-bf93-4e77-8093-6da9c34849a0"
      },
      "execution_count": 170,
      "outputs": [
        {
          "output_type": "execute_result",
          "data": {
            "text/html": [
              "<div>\n",
              "<style scoped>\n",
              "    .dataframe tbody tr th:only-of-type {\n",
              "        vertical-align: middle;\n",
              "    }\n",
              "\n",
              "    .dataframe tbody tr th {\n",
              "        vertical-align: top;\n",
              "    }\n",
              "\n",
              "    .dataframe thead th {\n",
              "        text-align: right;\n",
              "    }\n",
              "</style>\n",
              "<table border=\"1\" class=\"dataframe\">\n",
              "  <thead>\n",
              "    <tr style=\"text-align: right;\">\n",
              "      <th></th>\n",
              "      <th>수학</th>\n",
              "      <th>영어</th>\n",
              "      <th>음악</th>\n",
              "      <th>체육</th>\n",
              "      <th>국어</th>\n",
              "    </tr>\n",
              "  </thead>\n",
              "  <tbody>\n",
              "    <tr>\n",
              "      <th>지민</th>\n",
              "      <td>90</td>\n",
              "      <td>98</td>\n",
              "      <td>85</td>\n",
              "      <td>100</td>\n",
              "      <td>80</td>\n",
              "    </tr>\n",
              "    <tr>\n",
              "      <th>정국</th>\n",
              "      <td>80</td>\n",
              "      <td>89</td>\n",
              "      <td>95</td>\n",
              "      <td>90</td>\n",
              "      <td>80</td>\n",
              "    </tr>\n",
              "    <tr>\n",
              "      <th>슈가</th>\n",
              "      <td>70</td>\n",
              "      <td>85</td>\n",
              "      <td>100</td>\n",
              "      <td>90</td>\n",
              "      <td>80</td>\n",
              "    </tr>\n",
              "    <tr>\n",
              "      <th>3</th>\n",
              "      <td>0</td>\n",
              "      <td>0</td>\n",
              "      <td>0</td>\n",
              "      <td>0</td>\n",
              "      <td>0</td>\n",
              "    </tr>\n",
              "    <tr>\n",
              "      <th>뷔</th>\n",
              "      <td>90</td>\n",
              "      <td>80</td>\n",
              "      <td>99</td>\n",
              "      <td>100</td>\n",
              "      <td>90</td>\n",
              "    </tr>\n",
              "  </tbody>\n",
              "</table>\n",
              "</div>"
            ],
            "text/plain": [
              "    수학  영어   음악   체육  국어\n",
              "지민  90  98   85  100  80\n",
              "정국  80  89   95   90  80\n",
              "슈가  70  85  100   90  80\n",
              "3    0   0    0    0   0\n",
              "뷔   90  80   99  100  90"
            ]
          },
          "metadata": {},
          "execution_count": 170
        }
      ]
    },
    {
      "cell_type": "code",
      "source": [
        ""
      ],
      "metadata": {
        "id": "GdWB58wkeP2F"
      },
      "execution_count": null,
      "outputs": []
    }
  ]
}