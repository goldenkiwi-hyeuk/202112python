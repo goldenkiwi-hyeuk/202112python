{
  "nbformat": 4,
  "nbformat_minor": 0,
  "metadata": {
    "colab": {
      "name": "Tensor.ipynb",
      "provenance": [],
      "authorship_tag": "ABX9TyPya6M7EznOXZoM4g6L5wkU",
      "include_colab_link": true
    },
    "kernelspec": {
      "name": "python3",
      "display_name": "Python 3"
    },
    "language_info": {
      "name": "python"
    }
  },
  "cells": [
    {
      "cell_type": "markdown",
      "metadata": {
        "id": "view-in-github",
        "colab_type": "text"
      },
      "source": [
        "<a href=\"https://colab.research.google.com/github/goldenkiwi-hyeuk/202112python/blob/main/Tensor.ipynb\" target=\"_parent\"><img src=\"https://colab.research.google.com/assets/colab-badge.svg\" alt=\"Open In Colab\"/></a>"
      ]
    },
    {
      "cell_type": "code",
      "execution_count": 127,
      "metadata": {
        "id": "ccPGe_CtNN2x"
      },
      "outputs": [],
      "source": [
        "# 텐서플로 TensorFlow : 2015년 구글 브레인 팀에서 공개한 라이브러리\n",
        "# 파이썬 뿐만 아니라 JS Swift ...  등등 을 지원한다.\n",
        "# 텐서플로는 딥러닝 연산 처리 라이브러리\n",
        "# 이름에서 볼수 있듯 텐서 Tensor라고 불르는 데이터를 사용한다.\n",
        "# 노드와 노드를 연결하는 간선 edge로 이루어진 그래프 구조를  통해\n",
        "# 데이터를 이용시시키면서 연산이 이루어진다.\n",
        "\n",
        "# 텐서플로2의 특징\n",
        "# 1. 모델구조를 만들고 학습을 진행하는 과정이 직관적이다.\n",
        "# 2. 실행결과를 즉시 바로 확인 할수 있어 편리하다.\n",
        "# 3. 파이썬 도구를 사용해서 학습과정을 설계한다.\n",
        "# *. 텐서플로1은 일종의 컴파일러 방식으로 볼수 있고 텐서플로2느느 일종의 인터프리터 방식이라고 볼수 있다.\n"
      ]
    },
    {
      "cell_type": "code",
      "source": [
        "import tensorflow as tf"
      ],
      "metadata": {
        "id": "JZ3xm1fSQPmO"
      },
      "execution_count": 128,
      "outputs": []
    },
    {
      "cell_type": "code",
      "source": [
        "a = 1\n",
        "b = 2\n",
        "c= tf.math.add(a,b)\n",
        "print(c)"
      ],
      "metadata": {
        "colab": {
          "base_uri": "https://localhost:8080/"
        },
        "id": "59MZifG6RGh5",
        "outputId": "7454ce39-bfe2-4af8-b878-c2a97c3c1b11"
      },
      "execution_count": 129,
      "outputs": [
        {
          "output_type": "stream",
          "name": "stdout",
          "text": [
            "tf.Tensor(3, shape=(), dtype=int32)\n"
          ]
        }
      ]
    },
    {
      "cell_type": "code",
      "source": [
        "# 텐서플로의 자료구조\n",
        "# 텐서프로에서 자료를 표현하는 기본구조인 텐서\n",
        "\n",
        "# 0차원 텐서 - 스칼라 Scalar\n",
        "# 1차원 텐서 - 벡터 Vector\n",
        "# 2차원 텐서 - 행렬 Matrix\n",
        "# 고차원 텐서\n",
        "\n",
        "# 점이 선으로 선이 면으로 면이 입체로 변하는 공간개념으로 생각하자\n",
        "# 텐서에서의 각 차원은 각각 고유 정보를 나타내는 축이라고 이해하자\n",
        "\n",
        "# tensor의 사전적 의미 : '어떤 방향으로 뻗다', '어떤 방향으로 잡아당기다'\n",
        "# 즉 방향성을 갖는 어떤 물리량 -> 벡터\n",
        "\n",
        "# 스칼라 Scalar - 스칼라는 정수, 실수와 같은 상수를 나타낸다. 양은 나타내지만 방향성은 없다. 따라서 차수는 0이된다,\n",
        "#                 또 다른 표현으로 rank - 0 텐서(랭크제로텐서). 여기서 랭크는 텐서의 차수를 나타낸다."
      ],
      "metadata": {
        "id": "1rGD1mS_RRdR"
      },
      "execution_count": 130,
      "outputs": []
    },
    {
      "cell_type": "code",
      "source": [
        "a = tf.constant(1)\n",
        "b = tf.constant(2)\n",
        "\n",
        "print(a)\n",
        "print(b)\n",
        "# shape =() 차수가 -인 스칼라를 의미한다.\n",
        "# 정수 1과 2는 0차원 텐서인 스칼라로 저장이 되었다.\n",
        "# dtype = int32   32비트 정수형"
      ],
      "metadata": {
        "colab": {
          "base_uri": "https://localhost:8080/"
        },
        "id": "2jxzHE97TXRy",
        "outputId": "6b443b42-8f81-48bd-c05f-9824302b2b3c"
      },
      "execution_count": 131,
      "outputs": [
        {
          "output_type": "stream",
          "name": "stdout",
          "text": [
            "tf.Tensor(1, shape=(), dtype=int32)\n",
            "tf.Tensor(2, shape=(), dtype=int32)\n"
          ]
        }
      ]
    },
    {
      "cell_type": "code",
      "source": [
        "print(tf.rank(a)) # 텐서플로의 데이터 타입을 자세히 확인 가능한 tf.rank()함수\n",
        "# 변수 a에 저장된 텐서의 랭크 값은 0인 스칼라 텐서"
      ],
      "metadata": {
        "colab": {
          "base_uri": "https://localhost:8080/"
        },
        "id": "OShGkwfRUCmF",
        "outputId": "f43108af-17da-4b84-da46-35638e0e36ef"
      },
      "execution_count": 132,
      "outputs": [
        {
          "output_type": "stream",
          "name": "stdout",
          "text": [
            "tf.Tensor(0, shape=(), dtype=int32)\n"
          ]
        }
      ]
    },
    {
      "cell_type": "code",
      "source": [
        "# 텐서 자료변환\n",
        "a = tf.cast(a, tf.float32)"
      ],
      "metadata": {
        "id": "ImYD_CC1UfFX"
      },
      "execution_count": 133,
      "outputs": []
    },
    {
      "cell_type": "code",
      "source": [
        "print(a.dtype)"
      ],
      "metadata": {
        "colab": {
          "base_uri": "https://localhost:8080/"
        },
        "id": "qI8HDHpJU9Ty",
        "outputId": "ab0164b7-1530-449f-82de-6d6948ceabb0"
      },
      "execution_count": 134,
      "outputs": [
        {
          "output_type": "stream",
          "name": "stdout",
          "text": [
            "<dtype: 'float32'>\n"
          ]
        }
      ]
    },
    {
      "cell_type": "code",
      "source": [
        "b = tf.cast(b, tf.float32)"
      ],
      "metadata": {
        "id": "VbLrc1rAU_6U"
      },
      "execution_count": 135,
      "outputs": []
    },
    {
      "cell_type": "code",
      "source": [
        "print(b.dtype)"
      ],
      "metadata": {
        "colab": {
          "base_uri": "https://localhost:8080/"
        },
        "id": "YHLWAPHYVU8Z",
        "outputId": "a21d8996-c761-49bb-bd53-fb9eff7400f5"
      },
      "execution_count": 136,
      "outputs": [
        {
          "output_type": "stream",
          "name": "stdout",
          "text": [
            "<dtype: 'float32'>\n"
          ]
        }
      ]
    },
    {
      "cell_type": "code",
      "source": [
        "# 텐서플로에서는 float32를 숫자의 기본 자료형으로 사용한다."
      ],
      "metadata": {
        "id": "0EPXwPPHVZnE"
      },
      "execution_count": 137,
      "outputs": []
    },
    {
      "cell_type": "code",
      "source": [
        "c = tf.math.add(a,b)\n",
        "print(c)"
      ],
      "metadata": {
        "colab": {
          "base_uri": "https://localhost:8080/"
        },
        "id": "78bdfr4sVRMk",
        "outputId": "f3ebdd15-e447-481e-c9b1-1747ca5aff19"
      },
      "execution_count": 138,
      "outputs": [
        {
          "output_type": "stream",
          "name": "stdout",
          "text": [
            "tf.Tensor(3.0, shape=(), dtype=float32)\n"
          ]
        }
      ]
    },
    {
      "cell_type": "code",
      "source": [
        "tf.rank(c)\n",
        "# 의 결과는 <tf.Tensor: shape=(), dtype=int32, numpy=0>로 나온다.\n",
        "# 여기서 dtype =int32는 c의 차원이 0인데 차원의 데이터타입이 int32라는 의미이다.\n",
        "# c가 가지고 있는 값의 데이터 타입의 형태는 위의 결과처럼 float32"
      ],
      "metadata": {
        "colab": {
          "base_uri": "https://localhost:8080/"
        },
        "id": "2ZoX8y0oVwD7",
        "outputId": "5949f483-b5ef-4412-c264-e4a4fbc73ba9"
      },
      "execution_count": 139,
      "outputs": [
        {
          "output_type": "execute_result",
          "data": {
            "text/plain": [
              "<tf.Tensor: shape=(), dtype=int32, numpy=0>"
            ]
          },
          "metadata": {},
          "execution_count": 139
        }
      ]
    },
    {
      "cell_type": "code",
      "source": [
        "print(tf.math.subtract(a,b))\n",
        "# 빼기 subtract"
      ],
      "metadata": {
        "colab": {
          "base_uri": "https://localhost:8080/"
        },
        "id": "qvxliUW9V2MV",
        "outputId": "9b3e076b-2016-422b-8305-615e3ae5f437"
      },
      "execution_count": 140,
      "outputs": [
        {
          "output_type": "stream",
          "name": "stdout",
          "text": [
            "tf.Tensor(-1.0, shape=(), dtype=float32)\n"
          ]
        }
      ]
    },
    {
      "cell_type": "code",
      "source": [
        "print(tf.math.multiply(a,b))\n",
        "# 곱셉 multiply"
      ],
      "metadata": {
        "colab": {
          "base_uri": "https://localhost:8080/"
        },
        "id": "1h7v6fimZGJi",
        "outputId": "b9bacdc4-a32b-4242-ec42-4f4c864bc13c"
      },
      "execution_count": 141,
      "outputs": [
        {
          "output_type": "stream",
          "name": "stdout",
          "text": [
            "tf.Tensor(2.0, shape=(), dtype=float32)\n"
          ]
        }
      ]
    },
    {
      "cell_type": "code",
      "source": [
        "print(tf.math.divide(a,b))\n",
        "# 나누기 divide"
      ],
      "metadata": {
        "colab": {
          "base_uri": "https://localhost:8080/"
        },
        "id": "wooSbvVmZYZ_",
        "outputId": "86e0dc4a-2123-4b91-9c4d-03cd30c00b45"
      },
      "execution_count": 142,
      "outputs": [
        {
          "output_type": "stream",
          "name": "stdout",
          "text": [
            "tf.Tensor(0.5, shape=(), dtype=float32)\n"
          ]
        }
      ]
    },
    {
      "cell_type": "code",
      "source": [
        "print(tf.math.mod(a,b))\n",
        "# 나머지 연산자 mod"
      ],
      "metadata": {
        "colab": {
          "base_uri": "https://localhost:8080/"
        },
        "id": "4Y1p_hKtZpQk",
        "outputId": "153c3eb5-2fee-405f-d7c3-05071b1c58e4"
      },
      "execution_count": 143,
      "outputs": [
        {
          "output_type": "stream",
          "name": "stdout",
          "text": [
            "tf.Tensor(1.0, shape=(), dtype=float32)\n"
          ]
        }
      ]
    },
    {
      "cell_type": "code",
      "source": [
        "print(tf.math.floordiv(a,b))\n",
        "# 몫 연산자 floordiv"
      ],
      "metadata": {
        "colab": {
          "base_uri": "https://localhost:8080/"
        },
        "id": "ARN7-Z1TZvAe",
        "outputId": "990eff2e-4fb5-4904-987b-deb49af96d5c"
      },
      "execution_count": 144,
      "outputs": [
        {
          "output_type": "stream",
          "name": "stdout",
          "text": [
            "tf.Tensor(0.0, shape=(), dtype=float32)\n"
          ]
        }
      ]
    },
    {
      "cell_type": "code",
      "source": [
        "# 벡터 (Vector) - 벡터는 여러개의 스칼라를 원소로 갖는 1차원의 배열\n",
        "#                 스칼라 여러개가 동일한 축 방향으로 나열되는 개념\n",
        "#                 벡터는 원소들로 구성되는 여러개의 값들을 모여서 하나의 대표성을 갖는 값이 된다.\n",
        "#                 각 원소들의 크기 뿐 아니라 원소들이 나열되는 순서에도 의미가 있다. 형태만 보면 파이썬의 리스트와 유사하다.\n",
        "#                 벡터는 하나의 축을 갖고 차수가 1인 랭크-1 텐서라고 부른다.\n",
        "\n",
        "py_list = [10,20,30]\n",
        "vec1 = tf.constant(py_list, dtype = tf.float32)\n",
        "print(vec1)"
      ],
      "metadata": {
        "colab": {
          "base_uri": "https://localhost:8080/"
        },
        "id": "TgVeU-xWZ412",
        "outputId": "7a99559b-07d4-4267-803d-03c53f5ee556"
      },
      "execution_count": 145,
      "outputs": [
        {
          "output_type": "stream",
          "name": "stdout",
          "text": [
            "tf.Tensor([10. 20. 30.], shape=(3,), dtype=float32)\n"
          ]
        }
      ]
    },
    {
      "cell_type": "code",
      "source": [
        "import numpy as np\n",
        "num_arr = np.array([10.,10.,10.])\n",
        "vec2 = tf.constant(num_arr, dtype=tf.float32)\n",
        "\n",
        "print(vec2)\n",
        "# shape(3,) 원소의 갯수 1개의 축"
      ],
      "metadata": {
        "colab": {
          "base_uri": "https://localhost:8080/"
        },
        "id": "p7t-baRrbYbv",
        "outputId": "f16a927f-c077-4266-d9c4-affe00976941"
      },
      "execution_count": 146,
      "outputs": [
        {
          "output_type": "stream",
          "name": "stdout",
          "text": [
            "tf.Tensor([10. 10. 10.], shape=(3,), dtype=float32)\n"
          ]
        }
      ]
    },
    {
      "cell_type": "code",
      "source": [
        "print(tf.rank(vec1))\n",
        "print(tf.rank(vec2))\n",
        "# shape =()인 이유는 1차원이라는 것이 0차원으로 저장되었기 때문"
      ],
      "metadata": {
        "colab": {
          "base_uri": "https://localhost:8080/"
        },
        "id": "b-Tcfl9bb_Ny",
        "outputId": "2dbdcb68-37bc-43e8-f1a6-43ef1f7e336a"
      },
      "execution_count": 147,
      "outputs": [
        {
          "output_type": "stream",
          "name": "stdout",
          "text": [
            "tf.Tensor(1, shape=(), dtype=int32)\n",
            "tf.Tensor(1, shape=(), dtype=int32)\n"
          ]
        }
      ]
    },
    {
      "cell_type": "code",
      "source": [
        "add1 = tf.math.add(vec1,vec2)\n",
        "print(add1)\n",
        "print(tf.rank(add1))\n",
        "# 계산을 할때는 같은 위치에 있는 원소들끼리 짝을 이루어 계산한다."
      ],
      "metadata": {
        "colab": {
          "base_uri": "https://localhost:8080/"
        },
        "id": "-DZcki5-ceqg",
        "outputId": "e0069f90-7966-42ad-c761-4afd8a4dc3c9"
      },
      "execution_count": 148,
      "outputs": [
        {
          "output_type": "stream",
          "name": "stdout",
          "text": [
            "tf.Tensor([20. 30. 40.], shape=(3,), dtype=float32)\n",
            "tf.Tensor(1, shape=(), dtype=int32)\n"
          ]
        }
      ]
    },
    {
      "cell_type": "code",
      "source": [
        "add2 = vec1 + vec2\n",
        "print(add2)\n",
        "print(tf.rank(add2))"
      ],
      "metadata": {
        "colab": {
          "base_uri": "https://localhost:8080/"
        },
        "id": "dbWWP7_hdLI7",
        "outputId": "6e81aaba-b932-4b12-be60-eb230eab8c05"
      },
      "execution_count": 149,
      "outputs": [
        {
          "output_type": "stream",
          "name": "stdout",
          "text": [
            "tf.Tensor([20. 30. 40.], shape=(3,), dtype=float32)\n",
            "tf.Tensor(1, shape=(), dtype=int32)\n"
          ]
        }
      ]
    },
    {
      "cell_type": "code",
      "source": [
        "# 스칼라와 마찬가지로 벡터도 tf.math 모듈을통해 다양한 함수를 \n",
        "# 산술 연산을 할수 있따. 이때... 같은 위치에 있는 원소들끼리 연산한다.\n",
        "print(tf.math.subtract(vec1,vec2))\n",
        "print(tf.math.multiply(vec1,vec2))\n",
        "print(tf.math.divide(vec1,vec2))\n",
        "print(tf.math.mod(vec1,vec2))"
      ],
      "metadata": {
        "colab": {
          "base_uri": "https://localhost:8080/"
        },
        "id": "dKSeUhvFdPxV",
        "outputId": "750f4bb4-4fbd-4192-efeb-25e099e30869"
      },
      "execution_count": 150,
      "outputs": [
        {
          "output_type": "stream",
          "name": "stdout",
          "text": [
            "tf.Tensor([ 0. 10. 20.], shape=(3,), dtype=float32)\n",
            "tf.Tensor([100. 200. 300.], shape=(3,), dtype=float32)\n",
            "tf.Tensor([1. 2. 3.], shape=(3,), dtype=float32)\n",
            "tf.Tensor([0. 0. 0.], shape=(3,), dtype=float32)\n"
          ]
        }
      ]
    },
    {
      "cell_type": "code",
      "source": [
        "print(vec1-vec2)\n",
        "print(vec1*vec2)\n",
        "print(vec1/vec2)\n",
        "print(vec1%vec2)"
      ],
      "metadata": {
        "colab": {
          "base_uri": "https://localhost:8080/"
        },
        "id": "LlqaHFz1eAv1",
        "outputId": "defd8d71-9fdb-4d5a-8c00-61803dd17a37"
      },
      "execution_count": 151,
      "outputs": [
        {
          "output_type": "stream",
          "name": "stdout",
          "text": [
            "tf.Tensor([ 0. 10. 20.], shape=(3,), dtype=float32)\n",
            "tf.Tensor([100. 200. 300.], shape=(3,), dtype=float32)\n",
            "tf.Tensor([1. 2. 3.], shape=(3,), dtype=float32)\n",
            "tf.Tensor([0. 0. 0.], shape=(3,), dtype=float32)\n"
          ]
        }
      ]
    },
    {
      "cell_type": "code",
      "source": [
        "# 여러 원소들의 합\n",
        "print(tf.reduce_sum(vec1))\n",
        "print(tf.reduce_sum(vec2))"
      ],
      "metadata": {
        "colab": {
          "base_uri": "https://localhost:8080/"
        },
        "id": "l18vUEhYeXZy",
        "outputId": "9583c600-8ccc-4d28-d907-2d4450227806"
      },
      "execution_count": 152,
      "outputs": [
        {
          "output_type": "stream",
          "name": "stdout",
          "text": [
            "tf.Tensor(60.0, shape=(), dtype=float32)\n",
            "tf.Tensor(30.0, shape=(), dtype=float32)\n"
          ]
        }
      ]
    },
    {
      "cell_type": "code",
      "source": [
        "# 브로드 캐스팅 : 원소들 각 값에 계산하기\n",
        "print(vec1)\n",
        "print(vec1+1)"
      ],
      "metadata": {
        "colab": {
          "base_uri": "https://localhost:8080/"
        },
        "id": "2p0_ylNnejE6",
        "outputId": "3785b7d2-b69e-4a27-e318-16884ede140e"
      },
      "execution_count": 153,
      "outputs": [
        {
          "output_type": "stream",
          "name": "stdout",
          "text": [
            "tf.Tensor([10. 20. 30.], shape=(3,), dtype=float32)\n",
            "tf.Tensor([11. 21. 31.], shape=(3,), dtype=float32)\n"
          ]
        }
      ]
    },
    {
      "cell_type": "code",
      "source": [
        "# 행렬 Matrix\n",
        "# 행렬은 차수가1인 즉 벡터를 같은 축 방향으로 여러개를 나열하는 개념\n",
        "# 즉 1차원 벡터 여러개를 원호로 갖는 배열이다. 텐서플로에서는 랭크-2\n",
        "# pandas에서의 dataframe과 유사하다.\n",
        "\n",
        "# 2차원 리스트 생성\n",
        "list = [[10,20],[30,40]]\n",
        "\n",
        "# 텐서변환\n",
        "mat = tf.constant(list)\n",
        "print(mat)\n",
        "print(tf.rank(mat))"
      ],
      "metadata": {
        "colab": {
          "base_uri": "https://localhost:8080/"
        },
        "id": "IXriQ_j3e3-5",
        "outputId": "a7006a7a-5a3c-453c-ce24-75db674e4e57"
      },
      "execution_count": 154,
      "outputs": [
        {
          "output_type": "stream",
          "name": "stdout",
          "text": [
            "tf.Tensor(\n",
            "[[10 20]\n",
            " [30 40]], shape=(2, 2), dtype=int32)\n",
            "tf.Tensor(2, shape=(), dtype=int32)\n"
          ]
        }
      ]
    },
    {
      "cell_type": "code",
      "source": [
        "vec1 = tf.constant([1,0])\n",
        "vec2 = tf.constant([-1,2])\n",
        "\n",
        "# 텐서 변환\n",
        "mat2= tf.stack([vec1,vec2])\n",
        "print(mat2)\n",
        "print(tf.rank(mat2))"
      ],
      "metadata": {
        "colab": {
          "base_uri": "https://localhost:8080/"
        },
        "id": "MDCCj9o1gGqw",
        "outputId": "9a68e9f7-0d20-4a61-eb85-c0ef5a8d368b"
      },
      "execution_count": 155,
      "outputs": [
        {
          "output_type": "stream",
          "name": "stdout",
          "text": [
            "tf.Tensor(\n",
            "[[ 1  0]\n",
            " [-1  2]], shape=(2, 2), dtype=int32)\n",
            "tf.Tensor(2, shape=(), dtype=int32)\n"
          ]
        }
      ]
    },
    {
      "cell_type": "code",
      "source": [
        "# 산술 연산\n",
        "mul = tf.math.multiply(mat, mat2)\n",
        "print(mul)\n",
        "print(tf.rank(mul))"
      ],
      "metadata": {
        "colab": {
          "base_uri": "https://localhost:8080/"
        },
        "id": "-WX-VLk8g_B5",
        "outputId": "2c39d89d-2078-41b5-b6e6-25192cfde756"
      },
      "execution_count": 156,
      "outputs": [
        {
          "output_type": "stream",
          "name": "stdout",
          "text": [
            "tf.Tensor(\n",
            "[[ 10   0]\n",
            " [-30  80]], shape=(2, 2), dtype=int32)\n",
            "tf.Tensor(2, shape=(), dtype=int32)\n"
          ]
        }
      ]
    },
    {
      "cell_type": "code",
      "source": [
        "add = tf.math.add(mat,mat2)\n",
        "subtract = tf.math.subtract(mat,mat2)\n",
        "print(add)\n",
        "print(tf.rank(add))\n",
        "print(subtract)\n",
        "print(tf.rank(subtract))"
      ],
      "metadata": {
        "colab": {
          "base_uri": "https://localhost:8080/"
        },
        "id": "z_trkNiRhixO",
        "outputId": "dd7c03a9-9338-43f1-b06a-91f1b2d45859"
      },
      "execution_count": 157,
      "outputs": [
        {
          "output_type": "stream",
          "name": "stdout",
          "text": [
            "tf.Tensor(\n",
            "[[11 20]\n",
            " [29 42]], shape=(2, 2), dtype=int32)\n",
            "tf.Tensor(2, shape=(), dtype=int32)\n",
            "tf.Tensor(\n",
            "[[ 9 20]\n",
            " [31 38]], shape=(2, 2), dtype=int32)\n",
            "tf.Tensor(2, shape=(), dtype=int32)\n"
          ]
        }
      ]
    },
    {
      "cell_type": "code",
      "source": [
        "# 매트릭스에서의 브로드 캐스팅\n",
        "bc = tf.math.multiply(mat,3)\n",
        "bc"
      ],
      "metadata": {
        "colab": {
          "base_uri": "https://localhost:8080/"
        },
        "id": "Of5XJnOliAWt",
        "outputId": "d73fa4c5-2684-45d2-b73c-3c0ece5b751f"
      },
      "execution_count": 158,
      "outputs": [
        {
          "output_type": "execute_result",
          "data": {
            "text/plain": [
              "<tf.Tensor: shape=(2, 2), dtype=int32, numpy=\n",
              "array([[ 30,  60],\n",
              "       [ 90, 120]], dtype=int32)>"
            ]
          },
          "metadata": {},
          "execution_count": 158
        }
      ]
    },
    {
      "cell_type": "code",
      "source": [
        "add2 = mat + mat2\n",
        "add2"
      ],
      "metadata": {
        "colab": {
          "base_uri": "https://localhost:8080/"
        },
        "id": "JX86wYHBiML5",
        "outputId": "9b6daed3-4ba2-4186-a586-65deef2a634a"
      },
      "execution_count": 159,
      "outputs": [
        {
          "output_type": "execute_result",
          "data": {
            "text/plain": [
              "<tf.Tensor: shape=(2, 2), dtype=int32, numpy=\n",
              "array([[11, 20],\n",
              "       [29, 42]], dtype=int32)>"
            ]
          },
          "metadata": {},
          "execution_count": 159
        }
      ]
    },
    {
      "cell_type": "code",
      "source": [
        "# 텐서를 넘파이로 변환\n",
        "\n",
        "np_arr = mat.numpy()\n",
        "np_arr"
      ],
      "metadata": {
        "colab": {
          "base_uri": "https://localhost:8080/"
        },
        "id": "3Ppql_szik8t",
        "outputId": "74f910cb-630b-4d96-f707-5904252b8be0"
      },
      "execution_count": 160,
      "outputs": [
        {
          "output_type": "execute_result",
          "data": {
            "text/plain": [
              "array([[10, 20],\n",
              "       [30, 40]], dtype=int32)"
            ]
          },
          "metadata": {},
          "execution_count": 160
        }
      ]
    },
    {
      "cell_type": "code",
      "source": [
        "type(np_arr)"
      ],
      "metadata": {
        "colab": {
          "base_uri": "https://localhost:8080/"
        },
        "id": "xFWPgJByizrX",
        "outputId": "0d6899a7-fccc-4b97-c7c1-942b6c60ae32"
      },
      "execution_count": 161,
      "outputs": [
        {
          "output_type": "execute_result",
          "data": {
            "text/plain": [
              "numpy.ndarray"
            ]
          },
          "metadata": {},
          "execution_count": 161
        }
      ]
    },
    {
      "cell_type": "code",
      "source": [
        "# 고차원 텐서는 너무 내용이 기니 패스"
      ],
      "metadata": {
        "id": "TtxrCuo1i5xC"
      },
      "execution_count": 162,
      "outputs": []
    },
    {
      "cell_type": "code",
      "source": [
        "# 텐서에서의 인덱싱(indexing) - 위치를 기준으로 원소를 추출하는 방법\n",
        "# 파이썬 리스트 또는 넘파이 배열의 인덱싱과 유사하다.\n",
        "# 0부터 시작하고 마지막은 -1로 나타낸다.\n",
        "# 하나만 추출 뿐 아니라 여러 원소를 추출하는 슬라이싱(slicing)도 가능하다.\n",
        "\n",
        "vec = tf.constant([10,20,30,40,50])\n",
        "print(vec)"
      ],
      "metadata": {
        "colab": {
          "base_uri": "https://localhost:8080/"
        },
        "id": "v2bARrsRjVtQ",
        "outputId": "e59bfe7a-8b5a-4bfd-c9b3-4033284561d9"
      },
      "execution_count": 163,
      "outputs": [
        {
          "output_type": "stream",
          "name": "stdout",
          "text": [
            "tf.Tensor([10 20 30 40 50], shape=(5,), dtype=int32)\n"
          ]
        }
      ]
    },
    {
      "cell_type": "code",
      "source": [
        "# 인덱싱방법이 리스트와 동일\n",
        "vec[0] # 프린트를 생략하면 모양이 이상하게 나오기 때문에 print함수를 넣어서 확인하자\n",
        "print(vec[0])"
      ],
      "metadata": {
        "colab": {
          "base_uri": "https://localhost:8080/"
        },
        "id": "1LOLcT5WnwDv",
        "outputId": "8373a7e2-bc6e-49bc-b57b-bfaecc8103a1"
      },
      "execution_count": 164,
      "outputs": [
        {
          "output_type": "stream",
          "name": "stdout",
          "text": [
            "tf.Tensor(10, shape=(), dtype=int32)\n"
          ]
        }
      ]
    },
    {
      "cell_type": "code",
      "source": [
        "print(vec[-1])"
      ],
      "metadata": {
        "colab": {
          "base_uri": "https://localhost:8080/"
        },
        "id": "dU4FycnMoIz0",
        "outputId": "ee64b8c8-7b28-417c-e4e4-5a9c95500b48"
      },
      "execution_count": 165,
      "outputs": [
        {
          "output_type": "stream",
          "name": "stdout",
          "text": [
            "tf.Tensor(50, shape=(), dtype=int32)\n"
          ]
        }
      ]
    },
    {
      "cell_type": "code",
      "source": [
        "print(vec[:3])\n",
        "# 여러개의 원소를 슬라이싱하니 벡터로 나옴"
      ],
      "metadata": {
        "colab": {
          "base_uri": "https://localhost:8080/"
        },
        "id": "vgXr_zrJoNgI",
        "outputId": "121dce9c-75b4-4767-fdd1-ac0d5957ce6b"
      },
      "execution_count": 166,
      "outputs": [
        {
          "output_type": "stream",
          "name": "stdout",
          "text": [
            "tf.Tensor([10 20 30], shape=(3,), dtype=int32)\n"
          ]
        }
      ]
    },
    {
      "cell_type": "code",
      "source": [
        "mat = tf.constant([[10,20,30],[40,50,60]])\n",
        "print(mat)"
      ],
      "metadata": {
        "colab": {
          "base_uri": "https://localhost:8080/"
        },
        "id": "pXV8aDvqoWrW",
        "outputId": "c2fb865e-6c9c-4ac2-d29c-6ed416052922"
      },
      "execution_count": 167,
      "outputs": [
        {
          "output_type": "stream",
          "name": "stdout",
          "text": [
            "tf.Tensor(\n",
            "[[10 20 30]\n",
            " [40 50 60]], shape=(2, 3), dtype=int32)\n"
          ]
        }
      ]
    },
    {
      "cell_type": "code",
      "source": [
        "# matrix의 슬라이싱\n",
        "print(mat[0,:]) # 0번째 행의 모든 열"
      ],
      "metadata": {
        "colab": {
          "base_uri": "https://localhost:8080/"
        },
        "id": "UMOB1i2boxIY",
        "outputId": "81667696-69c9-46f8-f249-710777cfcf67"
      },
      "execution_count": 168,
      "outputs": [
        {
          "output_type": "stream",
          "name": "stdout",
          "text": [
            "tf.Tensor([10 20 30], shape=(3,), dtype=int32)\n"
          ]
        }
      ]
    },
    {
      "cell_type": "code",
      "source": [
        "print(mat[:,1]) # 모든 행의 1열 값"
      ],
      "metadata": {
        "colab": {
          "base_uri": "https://localhost:8080/"
        },
        "id": "n34goda8o3EH",
        "outputId": "af566c37-bf3e-4b5c-9f95-7dfd53fff550"
      },
      "execution_count": 169,
      "outputs": [
        {
          "output_type": "stream",
          "name": "stdout",
          "text": [
            "tf.Tensor([20 50], shape=(2,), dtype=int32)\n"
          ]
        }
      ]
    },
    {
      "cell_type": "code",
      "source": [
        "# 형태 변환 reshape\n",
        "# 앞으로의 머신러닝, 딥러닝에서 텐서 형태를 변환하는 것은 매우 중요하다.\n",
        "\n",
        "tensor = tf.constant(range(0,24))\n",
        "tensor # 1열로 나열된 1차원 데이터"
      ],
      "metadata": {
        "colab": {
          "base_uri": "https://localhost:8080/"
        },
        "id": "knSsMs7xpFdL",
        "outputId": "30234f2a-9f54-43f3-a257-9003de89807d"
      },
      "execution_count": 170,
      "outputs": [
        {
          "output_type": "execute_result",
          "data": {
            "text/plain": [
              "<tf.Tensor: shape=(24,), dtype=int32, numpy=\n",
              "array([ 0,  1,  2,  3,  4,  5,  6,  7,  8,  9, 10, 11, 12, 13, 14, 15, 16,\n",
              "       17, 18, 19, 20, 21, 22, 23], dtype=int32)>"
            ]
          },
          "metadata": {},
          "execution_count": 170
        }
      ]
    },
    {
      "cell_type": "code",
      "source": [
        "# (24,) -> (3,8)\n",
        "tensor1 = tf.reshape(tensor, [3,8])\n",
        "print(tensor1)"
      ],
      "metadata": {
        "colab": {
          "base_uri": "https://localhost:8080/"
        },
        "id": "iY-aPaVRqMGq",
        "outputId": "b74e88ce-b179-4195-c428-4cdd887ad96f"
      },
      "execution_count": 171,
      "outputs": [
        {
          "output_type": "stream",
          "name": "stdout",
          "text": [
            "tf.Tensor(\n",
            "[[ 0  1  2  3  4  5  6  7]\n",
            " [ 8  9 10 11 12 13 14 15]\n",
            " [16 17 18 19 20 21 22 23]], shape=(3, 8), dtype=int32)\n"
          ]
        }
      ]
    },
    {
      "cell_type": "code",
      "source": [
        "# -1을 지정하면 '어떤 값이 와도 상관없다.'\n",
        "# (3,8) -> (4,)\n",
        "tensor2 = tf.reshape(tensor1, [-1,4])\n",
        "print(tensor2)"
      ],
      "metadata": {
        "colab": {
          "base_uri": "https://localhost:8080/"
        },
        "id": "mxXzAsiWqnlT",
        "outputId": "4deb1201-9271-4096-b020-a5a2416e933c"
      },
      "execution_count": 172,
      "outputs": [
        {
          "output_type": "stream",
          "name": "stdout",
          "text": [
            "tf.Tensor(\n",
            "[[ 0  1  2  3]\n",
            " [ 4  5  6  7]\n",
            " [ 8  9 10 11]\n",
            " [12 13 14 15]\n",
            " [16 17 18 19]\n",
            " [20 21 22 23]], shape=(6, 4), dtype=int32)\n"
          ]
        }
      ]
    },
    {
      "cell_type": "code",
      "source": [
        "# 배열을 구성하는 원소가 매우 많고 배열 구조를 알지 못할때\n",
        "tensor3 = tf.reshape(tensor2, [-1]) # 뒤에 아무값도 없이 -1을 넣으면 1차원이 되버림\n",
        "print(tensor3)"
      ],
      "metadata": {
        "colab": {
          "base_uri": "https://localhost:8080/"
        },
        "id": "_IIwILgurCkm",
        "outputId": "bca0808f-b7ae-46a1-be67-2a38530183e2"
      },
      "execution_count": 173,
      "outputs": [
        {
          "output_type": "stream",
          "name": "stdout",
          "text": [
            "tf.Tensor([ 0  1  2  3  4  5  6  7  8  9 10 11 12 13 14 15 16 17 18 19 20 21 22 23], shape=(24,), dtype=int32)\n"
          ]
        }
      ]
    },
    {
      "cell_type": "code",
      "source": [
        "# 다차원 텐서\n",
        "tensor4 = tf.reshape(tensor3, [-1,3,4])\n",
        "print(tensor4) # 고차원 (3,4)짜리 행렬이 2개가 되는 다차원 텐서가 되버림"
      ],
      "metadata": {
        "colab": {
          "base_uri": "https://localhost:8080/"
        },
        "id": "g6XHTEQ2rp-o",
        "outputId": "badc3bc0-14fb-4f54-a038-f4c77231ef22"
      },
      "execution_count": 174,
      "outputs": [
        {
          "output_type": "stream",
          "name": "stdout",
          "text": [
            "tf.Tensor(\n",
            "[[[ 0  1  2  3]\n",
            "  [ 4  5  6  7]\n",
            "  [ 8  9 10 11]]\n",
            "\n",
            " [[12 13 14 15]\n",
            "  [16 17 18 19]\n",
            "  [20 21 22 23]]], shape=(2, 3, 4), dtype=int32)\n"
          ]
        }
      ]
    },
    {
      "cell_type": "code",
      "source": [
        "tensor5 = tf.reshape(tensor4, [3,2,4]) # 행이 2개 열이 4개인 행렬이 3개인 다차원 형태\n",
        "print(tensor5)"
      ],
      "metadata": {
        "colab": {
          "base_uri": "https://localhost:8080/"
        },
        "id": "hHVbTEiur0N8",
        "outputId": "d04369ee-aa8b-46ca-f92c-2396b6f787aa"
      },
      "execution_count": 175,
      "outputs": [
        {
          "output_type": "stream",
          "name": "stdout",
          "text": [
            "tf.Tensor(\n",
            "[[[ 0  1  2  3]\n",
            "  [ 4  5  6  7]]\n",
            "\n",
            " [[ 8  9 10 11]\n",
            "  [12 13 14 15]]\n",
            "\n",
            " [[16 17 18 19]\n",
            "  [20 21 22 23]]], shape=(3, 2, 4), dtype=int32)\n"
          ]
        }
      ]
    },
    {
      "cell_type": "code",
      "source": [
        "tensor6 = tf.reshape(tensor5, [3,2,2,2])\n",
        "print(tensor6)"
      ],
      "metadata": {
        "colab": {
          "base_uri": "https://localhost:8080/"
        },
        "id": "_e1BYFiJsLru",
        "outputId": "6c1cde37-5cb2-459c-b4aa-f2c13596c6b0"
      },
      "execution_count": 176,
      "outputs": [
        {
          "output_type": "stream",
          "name": "stdout",
          "text": [
            "tf.Tensor(\n",
            "[[[[ 0  1]\n",
            "   [ 2  3]]\n",
            "\n",
            "  [[ 4  5]\n",
            "   [ 6  7]]]\n",
            "\n",
            "\n",
            " [[[ 8  9]\n",
            "   [10 11]]\n",
            "\n",
            "  [[12 13]\n",
            "   [14 15]]]\n",
            "\n",
            "\n",
            " [[[16 17]\n",
            "   [18 19]]\n",
            "\n",
            "  [[20 21]\n",
            "   [22 23]]]], shape=(3, 2, 2, 2), dtype=int32)\n"
          ]
        }
      ]
    },
    {
      "cell_type": "code",
      "source": [
        "# tf.Variable 변수\n",
        "\n",
        "# 텐서 플로는 그래프 구조를 이용하여 복잡한 미분 연산을 한다. 이떄 수많은 미분연산을 반복하게 된다.\n",
        "# 이때 각각의 중간 연산 결과를 저장하는 용도로도 변수를 이용하게 된다. 모델을 학습하는 중간 단꼐마다 모델의 가중치를\n",
        "# 변수에 저장하고 계속 반복하면서 변수 값을 업데이트한다.\n",
        "\n",
        "tensor1 = tf.constant([[0,2,3],[3,4,5]])\n",
        "print(tensor1)"
      ],
      "metadata": {
        "colab": {
          "base_uri": "https://localhost:8080/"
        },
        "id": "kPCc2szdsZnK",
        "outputId": "bd17277a-c151-4785-d71a-80eabb0a9442"
      },
      "execution_count": 177,
      "outputs": [
        {
          "output_type": "stream",
          "name": "stdout",
          "text": [
            "tf.Tensor(\n",
            "[[0 2 3]\n",
            " [3 4 5]], shape=(2, 3), dtype=int32)\n"
          ]
        }
      ]
    },
    {
      "cell_type": "code",
      "source": [
        "tensor_var1 = tf.Variable(tensor1)\n",
        "print(tensor_var1)\n",
        "\n",
        "# 변수는 텐서 구조에 저장되어있는 값이 달라질 수 있다는 점에서 값을 변경 할수 없는 상수 형태의 텐서를 만드는 constant함수와 구별된다.\n",
        "# 상수와 변수의 차이"
      ],
      "metadata": {
        "colab": {
          "base_uri": "https://localhost:8080/"
        },
        "id": "4kV4d4eptRYp",
        "outputId": "cfeca5e8-5862-4a18-c77c-4e2a1a56ac36"
      },
      "execution_count": 178,
      "outputs": [
        {
          "output_type": "stream",
          "name": "stdout",
          "text": [
            "<tf.Variable 'Variable:0' shape=(2, 3) dtype=int32, numpy=\n",
            "array([[0, 2, 3],\n",
            "       [3, 4, 5]], dtype=int32)>\n"
          ]
        }
      ]
    },
    {
      "cell_type": "code",
      "source": [
        "tensor_var1.name"
      ],
      "metadata": {
        "colab": {
          "base_uri": "https://localhost:8080/",
          "height": 36
        },
        "id": "CgWFHho_tdCe",
        "outputId": "56e7ffb1-8aaa-43a8-fcb6-a3281eb1f41e"
      },
      "execution_count": 179,
      "outputs": [
        {
          "output_type": "execute_result",
          "data": {
            "application/vnd.google.colaboratory.intrinsic+json": {
              "type": "string"
            },
            "text/plain": [
              "'Variable:0'"
            ]
          },
          "metadata": {},
          "execution_count": 179
        }
      ]
    },
    {
      "cell_type": "code",
      "source": [
        "tensor_var1.shape"
      ],
      "metadata": {
        "colab": {
          "base_uri": "https://localhost:8080/"
        },
        "id": "7ZH0KkCTt5Oj",
        "outputId": "0cf9ab8e-9afc-455b-f143-996876d15195"
      },
      "execution_count": 180,
      "outputs": [
        {
          "output_type": "execute_result",
          "data": {
            "text/plain": [
              "TensorShape([2, 3])"
            ]
          },
          "metadata": {},
          "execution_count": 180
        }
      ]
    },
    {
      "cell_type": "code",
      "source": [
        "tensor_var1.dtype"
      ],
      "metadata": {
        "colab": {
          "base_uri": "https://localhost:8080/"
        },
        "id": "pnrV4dzduC91",
        "outputId": "9a12143d-8b3f-4b93-cdb4-0f29a0d6277d"
      },
      "execution_count": 181,
      "outputs": [
        {
          "output_type": "execute_result",
          "data": {
            "text/plain": [
              "tf.int32"
            ]
          },
          "metadata": {},
          "execution_count": 181
        }
      ]
    },
    {
      "cell_type": "code",
      "source": [
        "tensor_var1.numpy()\n",
        "\n",
        "# 변수로 설정하면 변수의 이름 크기 자료형 배열을 확인할수 있다."
      ],
      "metadata": {
        "colab": {
          "base_uri": "https://localhost:8080/"
        },
        "id": "V2y3ruSeuElT",
        "outputId": "7d65bc7b-7462-4401-e4de-0048bc33ed56"
      },
      "execution_count": 182,
      "outputs": [
        {
          "output_type": "execute_result",
          "data": {
            "text/plain": [
              "array([[0, 2, 3],\n",
              "       [3, 4, 5]], dtype=int32)"
            ]
          },
          "metadata": {},
          "execution_count": 182
        }
      ]
    },
    {
      "cell_type": "code",
      "source": [
        "# assing() 매소드를 이용하여 변수에 새로운 데이터를 할당 할수도 있다.\n",
        "\n",
        "tensor_var1"
      ],
      "metadata": {
        "colab": {
          "base_uri": "https://localhost:8080/"
        },
        "id": "q4NVCa3AuGoE",
        "outputId": "76585de9-9017-472a-8961-2a799eee5d89"
      },
      "execution_count": 207,
      "outputs": [
        {
          "output_type": "execute_result",
          "data": {
            "text/plain": [
              "<tf.Variable 'Variable:0' shape=(2, 3) dtype=int32, numpy=\n",
              "array([[1, 1, 1],\n",
              "       [2, 2, 2]], dtype=int32)>"
            ]
          },
          "metadata": {},
          "execution_count": 207
        }
      ]
    },
    {
      "cell_type": "code",
      "source": [
        "tensor_var1.assign([[1,1,1],[2,2,2]])"
      ],
      "metadata": {
        "colab": {
          "base_uri": "https://localhost:8080/"
        },
        "id": "xPF1na9IubxK",
        "outputId": "f43dc611-084a-457c-ddd8-05d534c50239"
      },
      "execution_count": 184,
      "outputs": [
        {
          "output_type": "execute_result",
          "data": {
            "text/plain": [
              "<tf.Variable 'UnreadVariable' shape=(2, 3) dtype=int32, numpy=\n",
              "array([[1, 1, 1],\n",
              "       [2, 2, 2]], dtype=int32)>"
            ]
          },
          "metadata": {},
          "execution_count": 184
        }
      ]
    },
    {
      "cell_type": "code",
      "source": [
        "# convert_to_tensor() 함수를 사용하면 변수를 텐서로 변환할수 잇따.\n",
        "# 텐서로 변환하고 나면 그 텐서의 크기와 값을 변경할수 없다."
      ],
      "metadata": {
        "id": "C__xkNqBulpa"
      },
      "execution_count": 185,
      "outputs": []
    },
    {
      "cell_type": "code",
      "source": [
        "tensor2 = tf.convert_to_tensor(tensor_var1)\n",
        "print(tensor2)"
      ],
      "metadata": {
        "colab": {
          "base_uri": "https://localhost:8080/"
        },
        "id": "9-OOcW4YvVEn",
        "outputId": "9f9dee46-4b34-43f5-9429-08c6ae19ca9b"
      },
      "execution_count": 186,
      "outputs": [
        {
          "output_type": "stream",
          "name": "stdout",
          "text": [
            "tf.Tensor(\n",
            "[[1 1 1]\n",
            " [2 2 2]], shape=(2, 3), dtype=int32)\n"
          ]
        }
      ]
    },
    {
      "cell_type": "code",
      "source": [
        "# 특히 텐서 변수는 name 속성을 갖을 수 있다.\n",
        "tensor_var2 = tf.Variable(tensor2, name = \"New Name\")\n",
        "print(tensor_var1)\n",
        "print(tensor_var2)"
      ],
      "metadata": {
        "colab": {
          "base_uri": "https://localhost:8080/"
        },
        "id": "2PpsdLaEvjtU",
        "outputId": "e7ea6308-1b11-45f3-8dff-28235b9a33c5"
      },
      "execution_count": 187,
      "outputs": [
        {
          "output_type": "stream",
          "name": "stdout",
          "text": [
            "<tf.Variable 'Variable:0' shape=(2, 3) dtype=int32, numpy=\n",
            "array([[1, 1, 1],\n",
            "       [2, 2, 2]], dtype=int32)>\n",
            "<tf.Variable 'New Name:0' shape=(2, 3) dtype=int32, numpy=\n",
            "array([[1, 1, 1],\n",
            "       [2, 2, 2]], dtype=int32)>\n"
          ]
        }
      ]
    },
    {
      "cell_type": "code",
      "source": [
        "# 텐서 변수도 텐서 연산과 동일하게 사칙연산등의 계산을 처리할 수 있다.\n",
        "tensor_var1 + tensor_var2\n",
        "# 계산의 결과이기 때문에 tf.Tensor로 출력되는 것임 만약 변수로 할당하고 해당 변수를 출력하면 tf.Variable로 나옴"
      ],
      "metadata": {
        "colab": {
          "base_uri": "https://localhost:8080/"
        },
        "id": "ephECeCiv8dy",
        "outputId": "62e94736-5fd0-4f81-b920-9f0710e25374"
      },
      "execution_count": 188,
      "outputs": [
        {
          "output_type": "execute_result",
          "data": {
            "text/plain": [
              "<tf.Tensor: shape=(2, 3), dtype=int32, numpy=\n",
              "array([[2, 2, 2],\n",
              "       [4, 4, 4]], dtype=int32)>"
            ]
          },
          "metadata": {},
          "execution_count": 188
        }
      ]
    },
    {
      "cell_type": "code",
      "source": [
        "# 자동 미분 automatic differentiation\n",
        "\n",
        "# 텐섭플로는 딥러닝 모델을 구성하는 복잡한 인공 신경만의 각 노드에서 계산되는 미분을 자동으로 계산해 준다.\n",
        "# 특히 가 변수의 기울기에 해당하는 그래디언트를 계싼하는데 특화되어 있다.\n",
        "\n",
        "# y = 3x-2 함수식에서 기울기와 y 절편 값을 텐서 자동 미분을 통해 계산\n",
        "\n",
        "# y = 3x-2\n",
        "g = tf.random.Generator.from_seed(2020)\n",
        "X= g.normal(shape=(10,))\n",
        "Y= 3*X-2\n",
        "print(X.numpy())\n",
        "print(Y.numpy())"
      ],
      "metadata": {
        "colab": {
          "base_uri": "https://localhost:8080/"
        },
        "id": "134H3RV0wSWg",
        "outputId": "fc889b06-3bc7-405c-a897-e21bc7dfe474"
      },
      "execution_count": 189,
      "outputs": [
        {
          "output_type": "stream",
          "name": "stdout",
          "text": [
            "[-0.20943771  1.2746525   1.213214   -0.17576952  1.876984    0.16379918\n",
            "  1.082245    0.6199966  -0.44402212  1.3048344 ]\n",
            "[-2.628313    1.8239574   1.6396422  -2.5273085   3.630952   -1.5086024\n",
            "  1.2467351  -0.14001012 -3.3320663   1.9145031 ]\n"
          ]
        }
      ]
    },
    {
      "cell_type": "code",
      "source": [
        "# Keras.io\n",
        "# Keras : 딥러닝 라이브러리들을 쉽고 간결하게 사용할 수 있도록 하는 것이 목적\n",
        "# 케라스 2.3까지는 다른 딥러닝 라이브러리 들도 지원했지만\n",
        "# 2.4부터는 더이상 다른 라이브러리를 지원하지 않고 오직 텐서플로만 지원한다.\n",
        "\n",
        "# 하이퍼파라미터 hyper parameter - 파이썬에서의 하이퍼파라미터와는 다른 의미를 갖는다.\n",
        "#                                  일반적인 하이퍼 파라미터는 딥러닝 뿐 아니라 머신러닝 모델을 훈련할떄 사용자가 직접 설정해주는 설정 값을 뜻한다.\n",
        "#                                  가중치(weights) 편향(bias)는 자동으로 업데이트 되지만 학습 속도나 반복 훈련횟수 등 사용자가 직접 설정해야 하는 값들이 많다.\n",
        "#                                  사용자가 어떤 값을 설정하느냐에 따라 모델 성은과 결과가 달라진다.\n",
        "\n",
        "# 과소 적합 underfitting vs 과대적합 overfitting\n",
        "\n",
        "# 에포크 (epoch) - 딥러닝은 데이터셋을 학습하는 과정을 엄청나게 많이 반복하면서 최적의 모델 가중치를 찾는 과정이다\n",
        "#                  반복 훈련을 할떄 데이터 셋을 전부 학습에 사용하는 1회의 훈련 루프를 1 epoch\n",
        "#                  특히 에폭은 중요한 파라미터이다. 과소적합이다라고 판단되면 epoch을 늘려서 다시 학습시킬 필요가 있다.\n",
        "#                  과대적합이다라고 판단되면 epoch를 줄여서 학습을 조기 종료시키는 것이 과대 적합을 방지하는 하나의 방법이다.\n",
        "\n",
        "# 손실 함수 loss fuction 예측 값과 정답 간의 차이 또는 오차(출력값과 실제값의 차이)"
      ],
      "metadata": {
        "id": "t8a9_GVZxkMt"
      },
      "execution_count": 190,
      "outputs": []
    },
    {
      "cell_type": "code",
      "source": [
        "import numpy as np\n",
        "import matplotlib.pyplot as plt\n",
        "\n",
        "def make_linear(w=0.5, b=0.8, size = 50, noise=1.0):\n",
        "  x = np.random.rand(size)\n",
        "  y = w*x+b\n",
        "  noise = np.random.uniform(-abs(noise), abs(noise), size = y.shape)\n",
        "  yy =y + noise\n",
        "  plt.figure(figsize = (10,7))\n",
        "  plt.plot(x,y,color='r', label=f'y={w}*x+{b}')\n",
        "  plt.scatter(x,yy, label = 'data')\n",
        "  plt.legend(fontsize = 20)\n",
        "  plt.show()\n",
        "  print(f'w:{w}, b{b}')\n",
        "  return x, yy\n",
        "\n",
        "x,y =make_linear(w = 0.3, b =0.5 , size = 100, noise = 0.01)\n",
        "# 생성된 y 데이터는 y = 0.3x+0.5식과 완전히 일치하지 않고\n",
        "# 약간의 노이즈가 추가되었다."
      ],
      "metadata": {
        "colab": {
          "base_uri": "https://localhost:8080/",
          "height": 447
        },
        "id": "TU6FwPHw4eoM",
        "outputId": "70d2aa51-9500-4c67-c910-11e210666a39"
      },
      "execution_count": 191,
      "outputs": [
        {
          "output_type": "display_data",
          "data": {
            "image/png": "[encoded data removed]",
            "text/plain": [
              "<Figure size 720x504 with 1 Axes>"
            ]
          },
          "metadata": {
            "needs_background": "light"
          }
        },
        {
          "output_type": "stream",
          "name": "stdout",
          "text": [
            "w:0.3, b0.5\n"
          ]
        }
      ]
    },
    {
      "cell_type": "code",
      "source": [
        "# 딥러닝 프로세스\n",
        "\n",
        "# 데이터 로드 -> 데이터 전처리(결측치 이상치 처리) -> 데이터분할(훈련용,검증용) -> 모델 생성 -> 훈련 -> 검증 -> 예측"
      ],
      "metadata": {
        "id": "BtMRlP5l5rXu"
      },
      "execution_count": 192,
      "outputs": []
    },
    {
      "cell_type": "code",
      "source": [
        "import numpy as pd\n",
        "\n",
        "x = np.arange(1,6)\n",
        "y = 3*x+2\n",
        "print(x)\n",
        "print(y)"
      ],
      "metadata": {
        "colab": {
          "base_uri": "https://localhost:8080/"
        },
        "id": "oEp2vtFa7S4E",
        "outputId": "240f4598-cee2-43cd-8bce-99da1eca2616"
      },
      "execution_count": 193,
      "outputs": [
        {
          "output_type": "stream",
          "name": "stdout",
          "text": [
            "[1 2 3 4 5]\n",
            "[ 5  8 11 14 17]\n"
          ]
        }
      ]
    },
    {
      "cell_type": "code",
      "source": [
        "plt.plot(x,y)"
      ],
      "metadata": {
        "colab": {
          "base_uri": "https://localhost:8080/",
          "height": 284
        },
        "id": "z34QAMS77g60",
        "outputId": "a4a2cd04-38a2-4557-992a-0e616213ce33"
      },
      "execution_count": 194,
      "outputs": [
        {
          "output_type": "execute_result",
          "data": {
            "text/plain": [
              "[<matplotlib.lines.Line2D at 0x7f3d95f27cd0>]"
            ]
          },
          "metadata": {},
          "execution_count": 194
        },
        {
          "output_type": "display_data",
          "data": {
            "image/png": "[encoded data removed]",
            "text/plain": [
              "<Figure size 432x288 with 1 Axes>"
            ]
          },
          "metadata": {
            "needs_background": "light"
          }
        }
      ]
    },
    {
      "cell_type": "code",
      "source": [
        "# 텐서프로 케라스는 보통 세 가지 방식으로 모델을 생성한다.\n",
        "# 그 중 제일 간결한 Sequential API 방식을 사용하면 쉽게 만들 수 있다.\n",
        "# 층을 이어 붙이듯 일렬로 연결하는 방식이다. 따라서 입력 레이어 부터\n",
        "# 출력 레이어까지 순서를 갖는다.\n",
        "# 입력 데이터는 시퀀스에 가장 앞에 위치하고 순서대로 각 층을 하나씩 통과 하면서 딥러닝 연산을 수행하게 된다.\n",
        "\n",
        "# 직관적으로 구조를 이해랄 수 있기 때문에 케라스 중 가장 간단한 방법이다.\n",
        "# 2개 이상의 다중 입력이나 다중 출력을 갖는 복잡한 구조를 만들수는 없다.\n",
        "\n",
        "model = tf.keras.Sequential([\n",
        "        tf.keras.layers.Dense(10),\n",
        "        tf.keras.layers.Dense(5),\n",
        "        tf.keras.layers.Dense(1)\n",
        "])"
      ],
      "metadata": {
        "id": "mgeBeWoz7tiu"
      },
      "execution_count": 195,
      "outputs": []
    },
    {
      "cell_type": "code",
      "source": [
        "# add 함수를 통해서 추가로 층을 추가할 수 있다.\n",
        "model = tf.keras.Sequential()\n",
        "model.add(tf.keras.layers.Dense(10))\n",
        "model.add(tf.keras.layers.Dense(5))\n",
        "model.add(tf.keras.layers.Dense(1))"
      ],
      "metadata": {
        "id": "IVTzbi2-8I6n"
      },
      "execution_count": 196,
      "outputs": []
    },
    {
      "cell_type": "code",
      "source": [
        "# Sequential API를 사용하여 모델을 구성할 때는 반드시 첫번째 층은\n",
        "# input_shape 매개변수를 지정해야 한다. input_shape 매개변수는 주입할 데이터셋의\n",
        "# shape을 튜플 혹은 리스트로 지정할 수 있다.\n",
        "# 예를들면 데이터셋의 shape이 (150,4)로 구성되었다고 가정하면\n",
        "# input_shape은 (4,) 혹은 [4]로 지정한다.\n",
        "model = tf.keras.Sequential([\n",
        "  tf.keras.layers.Dense(10, input_shape=[4]),\n",
        "  tf.keras.layers.Dense(5),\n",
        "  tf.keras.layers.Dense(1)\n",
        "])\n"
      ],
      "metadata": {
        "id": "fGlusx12-Fgw"
      },
      "execution_count": 197,
      "outputs": []
    },
    {
      "cell_type": "code",
      "source": [
        "# 단순선형회귀 모델\n",
        "model = tf.keras.Sequential([\n",
        "        tf.keras.layers.Dense(1, input_shape=[1])\n",
        "])"
      ],
      "metadata": {
        "id": "SrfeKiR7-c4j"
      },
      "execution_count": 198,
      "outputs": []
    },
    {
      "cell_type": "code",
      "source": [
        "model.summary()\n",
        "# 모델의 요약 : 구조를 확인할 수 있고 층별 노드의 개수가 표기된다.\n",
        "#               하단에는 훈련시 업데이트 할 파라미터의 개수가 표시된다.\n",
        "\n",
        "# Total params 모델 내부에 존재하는 모든 파라미터의 합계\n",
        "# Trainable params 모델 훈련 시 업데이트 할 파라미터의 총 개수\n",
        "# Non-trainable params 모델 훈련 시 업데이트 하지 않을 파라미터의 총 개수\n",
        "\n",
        "# 단순선형회귀 모델에서는 업데이트 파라미터가 가중치 w 편향  b 2개이다\n",
        "# 따라서 총 Param의 개수가 2개로 표기되는 것을 확인 할 수 있다.\n"
      ],
      "metadata": {
        "colab": {
          "base_uri": "https://localhost:8080/"
        },
        "id": "gPElU7OnCXj1",
        "outputId": "0f800730-f050-4ea9-c7ff-2a5e6e747437"
      },
      "execution_count": 199,
      "outputs": [
        {
          "output_type": "stream",
          "name": "stdout",
          "text": [
            "Model: \"sequential_8\"\n",
            "_________________________________________________________________\n",
            " Layer (type)                Output Shape              Param #   \n",
            "=================================================================\n",
            " dense_18 (Dense)            (None, 1)                 2         \n",
            "                                                                 \n",
            "=================================================================\n",
            "Total params: 2\n",
            "Trainable params: 2\n",
            "Non-trainable params: 0\n",
            "_________________________________________________________________\n"
          ]
        }
      ]
    },
    {
      "cell_type": "code",
      "source": [
        "model.compile(optimizer ='sgd', loss = 'mse', metrics= ['mse', 'mae'])\n",
        "# sgd 경사하강법 - 최적화 방법\n",
        "# 평가 지표와 손실 함수 :  mse 평균 제곱 오차 mae 평균 절대 오차"
      ],
      "metadata": {
        "id": "kQtQjhxbDq2e"
      },
      "execution_count": 200,
      "outputs": []
    },
    {
      "cell_type": "code",
      "source": [
        "history = model.fit(x,y,epochs= 1000)"
      ],
      "metadata": {
        "colab": {
          "base_uri": "https://localhost:8080/"
        },
        "id": "zp7Uhf5-FPWX",
        "outputId": "f24167de-4b30-4d1c-8cca-ac395b572a02"
      },
      "execution_count": 201,
      "outputs": [
        {
          "output_type": "stream",
          "name": "stdout",
          "text": [
            "Epoch 1/1000\n",
            "1/1 [==============================] - 0s 339ms/step - loss: 96.2812 - mse: 96.2812 - mae: 9.2056\n",
            "Epoch 2/1000\n",
            "1/1 [==============================] - 0s 7ms/step - loss: 56.2227 - mse: 56.2227 - mae: 7.0763\n",
            "Epoch 3/1000\n",
            "1/1 [==============================] - 0s 6ms/step - loss: 32.8779 - mse: 32.8779 - mae: 5.4506\n",
            "Epoch 4/1000\n",
            "1/1 [==============================] - 0s 6ms/step - loss: 19.2729 - mse: 19.2729 - mae: 4.2094\n",
            "Epoch 5/1000\n",
            "1/1 [==============================] - 0s 8ms/step - loss: 11.3438 - mse: 11.3438 - mae: 3.2618\n",
            "Epoch 6/1000\n",
            "1/1 [==============================] - 0s 8ms/step - loss: 6.7223 - mse: 6.7223 - mae: 2.5382\n",
            "Epoch 7/1000\n",
            "1/1 [==============================] - 0s 7ms/step - loss: 4.0284 - mse: 4.0284 - mae: 1.9857\n",
            "Epoch 8/1000\n",
            "1/1 [==============================] - 0s 5ms/step - loss: 2.4578 - mse: 2.4578 - mae: 1.5637\n",
            "Epoch 9/1000\n",
            "1/1 [==============================] - 0s 5ms/step - loss: 1.5418 - mse: 1.5418 - mae: 1.2414\n",
            "Epoch 10/1000\n",
            "1/1 [==============================] - 0s 5ms/step - loss: 1.0072 - mse: 1.0072 - mae: 0.9953\n",
            "Epoch 11/1000\n",
            "1/1 [==============================] - 0s 7ms/step - loss: 0.6950 - mse: 0.6950 - mae: 0.8072\n",
            "Epoch 12/1000\n",
            "1/1 [==============================] - 0s 6ms/step - loss: 0.5123 - mse: 0.5123 - mae: 0.6634\n",
            "Epoch 13/1000\n",
            "1/1 [==============================] - 0s 6ms/step - loss: 0.4051 - mse: 0.4051 - mae: 0.5535\n",
            "Epoch 14/1000\n",
            "1/1 [==============================] - 0s 5ms/step - loss: 0.3419 - mse: 0.3419 - mae: 0.4789\n",
            "Epoch 15/1000\n",
            "1/1 [==============================] - 0s 5ms/step - loss: 0.3044 - mse: 0.3044 - mae: 0.4549\n",
            "Epoch 16/1000\n",
            "1/1 [==============================] - 0s 7ms/step - loss: 0.2818 - mse: 0.2818 - mae: 0.4364\n",
            "Epoch 17/1000\n",
            "1/1 [==============================] - 0s 4ms/step - loss: 0.2680 - mse: 0.2680 - mae: 0.4219\n",
            "Epoch 18/1000\n",
            "1/1 [==============================] - 0s 7ms/step - loss: 0.2592 - mse: 0.2592 - mae: 0.4134\n",
            "Epoch 19/1000\n",
            "1/1 [==============================] - 0s 4ms/step - loss: 0.2534 - mse: 0.2534 - mae: 0.4155\n",
            "Epoch 20/1000\n",
            "1/1 [==============================] - 0s 8ms/step - loss: 0.2493 - mse: 0.2493 - mae: 0.4168\n",
            "Epoch 21/1000\n",
            "1/1 [==============================] - 0s 4ms/step - loss: 0.2462 - mse: 0.2462 - mae: 0.4175\n",
            "Epoch 22/1000\n",
            "1/1 [==============================] - 0s 5ms/step - loss: 0.2438 - mse: 0.2438 - mae: 0.4176\n",
            "Epoch 23/1000\n",
            "1/1 [==============================] - 0s 5ms/step - loss: 0.2416 - mse: 0.2416 - mae: 0.4174\n",
            "Epoch 24/1000\n",
            "1/1 [==============================] - 0s 4ms/step - loss: 0.2397 - mse: 0.2397 - mae: 0.4169\n",
            "Epoch 25/1000\n",
            "1/1 [==============================] - 0s 6ms/step - loss: 0.2380 - mse: 0.2380 - mae: 0.4162\n",
            "Epoch 26/1000\n",
            "1/1 [==============================] - 0s 5ms/step - loss: 0.2363 - mse: 0.2363 - mae: 0.4153\n",
            "Epoch 27/1000\n",
            "1/1 [==============================] - 0s 7ms/step - loss: 0.2346 - mse: 0.2346 - mae: 0.4143\n",
            "Epoch 28/1000\n",
            "1/1 [==============================] - 0s 5ms/step - loss: 0.2330 - mse: 0.2330 - mae: 0.4132\n",
            "Epoch 29/1000\n",
            "1/1 [==============================] - 0s 7ms/step - loss: 0.2314 - mse: 0.2314 - mae: 0.4121\n",
            "Epoch 30/1000\n",
            "1/1 [==============================] - 0s 5ms/step - loss: 0.2298 - mse: 0.2298 - mae: 0.4109\n",
            "Epoch 31/1000\n",
            "1/1 [==============================] - 0s 8ms/step - loss: 0.2283 - mse: 0.2283 - mae: 0.4096\n",
            "Epoch 32/1000\n",
            "1/1 [==============================] - 0s 5ms/step - loss: 0.2267 - mse: 0.2267 - mae: 0.4083\n",
            "Epoch 33/1000\n",
            "1/1 [==============================] - 0s 5ms/step - loss: 0.2252 - mse: 0.2252 - mae: 0.4070\n",
            "Epoch 34/1000\n",
            "1/1 [==============================] - 0s 5ms/step - loss: 0.2237 - mse: 0.2237 - mae: 0.4057\n",
            "Epoch 35/1000\n",
            "1/1 [==============================] - 0s 10ms/step - loss: 0.2222 - mse: 0.2222 - mae: 0.4044\n",
            "Epoch 36/1000\n",
            "1/1 [==============================] - 0s 4ms/step - loss: 0.2207 - mse: 0.2207 - mae: 0.4031\n",
            "Epoch 37/1000\n",
            "1/1 [==============================] - 0s 10ms/step - loss: 0.2192 - mse: 0.2192 - mae: 0.4017\n",
            "Epoch 38/1000\n",
            "1/1 [==============================] - 0s 11ms/step - loss: 0.2177 - mse: 0.2177 - mae: 0.4004\n",
            "Epoch 39/1000\n",
            "1/1 [==============================] - 0s 11ms/step - loss: 0.2162 - mse: 0.2162 - mae: 0.3991\n",
            "Epoch 40/1000\n",
            "1/1 [==============================] - 0s 11ms/step - loss: 0.2148 - mse: 0.2148 - mae: 0.3977\n",
            "Epoch 41/1000\n",
            "1/1 [==============================] - 0s 10ms/step - loss: 0.2133 - mse: 0.2133 - mae: 0.3964\n",
            "Epoch 42/1000\n",
            "1/1 [==============================] - 0s 8ms/step - loss: 0.2119 - mse: 0.2119 - mae: 0.3951\n",
            "Epoch 43/1000\n",
            "1/1 [==============================] - 0s 10ms/step - loss: 0.2104 - mse: 0.2104 - mae: 0.3937\n",
            "Epoch 44/1000\n",
            "1/1 [==============================] - 0s 8ms/step - loss: 0.2090 - mse: 0.2090 - mae: 0.3924\n",
            "Epoch 45/1000\n",
            "1/1 [==============================] - 0s 8ms/step - loss: 0.2076 - mse: 0.2076 - mae: 0.3911\n",
            "Epoch 46/1000\n",
            "1/1 [==============================] - 0s 9ms/step - loss: 0.2062 - mse: 0.2062 - mae: 0.3898\n",
            "Epoch 47/1000\n",
            "1/1 [==============================] - 0s 8ms/step - loss: 0.2048 - mse: 0.2048 - mae: 0.3884\n",
            "Epoch 48/1000\n",
            "1/1 [==============================] - 0s 8ms/step - loss: 0.2034 - mse: 0.2034 - mae: 0.3871\n",
            "Epoch 49/1000\n",
            "1/1 [==============================] - 0s 12ms/step - loss: 0.2021 - mse: 0.2021 - mae: 0.3858\n",
            "Epoch 50/1000\n",
            "1/1 [==============================] - 0s 6ms/step - loss: 0.2007 - mse: 0.2007 - mae: 0.3845\n",
            "Epoch 51/1000\n",
            "1/1 [==============================] - 0s 12ms/step - loss: 0.1993 - mse: 0.1993 - mae: 0.3832\n",
            "Epoch 52/1000\n",
            "1/1 [==============================] - 0s 7ms/step - loss: 0.1980 - mse: 0.1980 - mae: 0.3819\n",
            "Epoch 53/1000\n",
            "1/1 [==============================] - 0s 8ms/step - loss: 0.1967 - mse: 0.1967 - mae: 0.3806\n",
            "Epoch 54/1000\n",
            "1/1 [==============================] - 0s 10ms/step - loss: 0.1953 - mse: 0.1953 - mae: 0.3794\n",
            "Epoch 55/1000\n",
            "1/1 [==============================] - 0s 9ms/step - loss: 0.1940 - mse: 0.1940 - mae: 0.3781\n",
            "Epoch 56/1000\n",
            "1/1 [==============================] - 0s 7ms/step - loss: 0.1927 - mse: 0.1927 - mae: 0.3768\n",
            "Epoch 57/1000\n",
            "1/1 [==============================] - 0s 10ms/step - loss: 0.1914 - mse: 0.1914 - mae: 0.3755\n",
            "Epoch 58/1000\n",
            "1/1 [==============================] - 0s 5ms/step - loss: 0.1901 - mse: 0.1901 - mae: 0.3742\n",
            "Epoch 59/1000\n",
            "1/1 [==============================] - 0s 7ms/step - loss: 0.1888 - mse: 0.1888 - mae: 0.3730\n",
            "Epoch 60/1000\n",
            "1/1 [==============================] - 0s 6ms/step - loss: 0.1876 - mse: 0.1876 - mae: 0.3717\n",
            "Epoch 61/1000\n",
            "1/1 [==============================] - 0s 8ms/step - loss: 0.1863 - mse: 0.1863 - mae: 0.3705\n",
            "Epoch 62/1000\n",
            "1/1 [==============================] - 0s 5ms/step - loss: 0.1850 - mse: 0.1850 - mae: 0.3692\n",
            "Epoch 63/1000\n",
            "1/1 [==============================] - 0s 11ms/step - loss: 0.1838 - mse: 0.1838 - mae: 0.3680\n",
            "Epoch 64/1000\n",
            "1/1 [==============================] - 0s 5ms/step - loss: 0.1825 - mse: 0.1825 - mae: 0.3667\n",
            "Epoch 65/1000\n",
            "1/1 [==============================] - 0s 5ms/step - loss: 0.1813 - mse: 0.1813 - mae: 0.3655\n",
            "Epoch 66/1000\n",
            "1/1 [==============================] - 0s 6ms/step - loss: 0.1801 - mse: 0.1801 - mae: 0.3642\n",
            "Epoch 67/1000\n",
            "1/1 [==============================] - 0s 6ms/step - loss: 0.1789 - mse: 0.1789 - mae: 0.3630\n",
            "Epoch 68/1000\n",
            "1/1 [==============================] - 0s 9ms/step - loss: 0.1777 - mse: 0.1777 - mae: 0.3618\n",
            "Epoch 69/1000\n",
            "1/1 [==============================] - 0s 5ms/step - loss: 0.1765 - mse: 0.1765 - mae: 0.3606\n",
            "Epoch 70/1000\n",
            "1/1 [==============================] - 0s 6ms/step - loss: 0.1753 - mse: 0.1753 - mae: 0.3593\n",
            "Epoch 71/1000\n",
            "1/1 [==============================] - 0s 11ms/step - loss: 0.1741 - mse: 0.1741 - mae: 0.3581\n",
            "Epoch 72/1000\n",
            "1/1 [==============================] - 0s 4ms/step - loss: 0.1729 - mse: 0.1729 - mae: 0.3569\n",
            "Epoch 73/1000\n",
            "1/1 [==============================] - 0s 5ms/step - loss: 0.1717 - mse: 0.1717 - mae: 0.3557\n",
            "Epoch 74/1000\n",
            "1/1 [==============================] - 0s 7ms/step - loss: 0.1706 - mse: 0.1706 - mae: 0.3545\n",
            "Epoch 75/1000\n",
            "1/1 [==============================] - 0s 3ms/step - loss: 0.1694 - mse: 0.1694 - mae: 0.3533\n",
            "Epoch 76/1000\n",
            "1/1 [==============================] - 0s 5ms/step - loss: 0.1683 - mse: 0.1683 - mae: 0.3521\n",
            "Epoch 77/1000\n",
            "1/1 [==============================] - 0s 5ms/step - loss: 0.1672 - mse: 0.1672 - mae: 0.3509\n",
            "Epoch 78/1000\n",
            "1/1 [==============================] - 0s 5ms/step - loss: 0.1660 - mse: 0.1660 - mae: 0.3497\n",
            "Epoch 79/1000\n",
            "1/1 [==============================] - 0s 6ms/step - loss: 0.1649 - mse: 0.1649 - mae: 0.3486\n",
            "Epoch 80/1000\n",
            "1/1 [==============================] - 0s 7ms/step - loss: 0.1638 - mse: 0.1638 - mae: 0.3474\n",
            "Epoch 81/1000\n",
            "1/1 [==============================] - 0s 13ms/step - loss: 0.1627 - mse: 0.1627 - mae: 0.3462\n",
            "Epoch 82/1000\n",
            "1/1 [==============================] - 0s 19ms/step - loss: 0.1616 - mse: 0.1616 - mae: 0.3450\n",
            "Epoch 83/1000\n",
            "1/1 [==============================] - 0s 12ms/step - loss: 0.1605 - mse: 0.1605 - mae: 0.3439\n",
            "Epoch 84/1000\n",
            "1/1 [==============================] - 0s 5ms/step - loss: 0.1594 - mse: 0.1594 - mae: 0.3427\n",
            "Epoch 85/1000\n",
            "1/1 [==============================] - 0s 7ms/step - loss: 0.1583 - mse: 0.1583 - mae: 0.3415\n",
            "Epoch 86/1000\n",
            "1/1 [==============================] - 0s 7ms/step - loss: 0.1573 - mse: 0.1573 - mae: 0.3404\n",
            "Epoch 87/1000\n",
            "1/1 [==============================] - 0s 11ms/step - loss: 0.1562 - mse: 0.1562 - mae: 0.3392\n",
            "Epoch 88/1000\n",
            "1/1 [==============================] - 0s 5ms/step - loss: 0.1552 - mse: 0.1552 - mae: 0.3381\n",
            "Epoch 89/1000\n",
            "1/1 [==============================] - 0s 6ms/step - loss: 0.1541 - mse: 0.1541 - mae: 0.3369\n",
            "Epoch 90/1000\n",
            "1/1 [==============================] - 0s 7ms/step - loss: 0.1531 - mse: 0.1531 - mae: 0.3358\n",
            "Epoch 91/1000\n",
            "1/1 [==============================] - 0s 11ms/step - loss: 0.1520 - mse: 0.1520 - mae: 0.3347\n",
            "Epoch 92/1000\n",
            "1/1 [==============================] - 0s 7ms/step - loss: 0.1510 - mse: 0.1510 - mae: 0.3335\n",
            "Epoch 93/1000\n",
            "1/1 [==============================] - 0s 6ms/step - loss: 0.1500 - mse: 0.1500 - mae: 0.3324\n",
            "Epoch 94/1000\n",
            "1/1 [==============================] - 0s 10ms/step - loss: 0.1490 - mse: 0.1490 - mae: 0.3313\n",
            "Epoch 95/1000\n",
            "1/1 [==============================] - 0s 17ms/step - loss: 0.1480 - mse: 0.1480 - mae: 0.3302\n",
            "Epoch 96/1000\n",
            "1/1 [==============================] - 0s 11ms/step - loss: 0.1470 - mse: 0.1470 - mae: 0.3291\n",
            "Epoch 97/1000\n",
            "1/1 [==============================] - 0s 4ms/step - loss: 0.1460 - mse: 0.1460 - mae: 0.3279\n",
            "Epoch 98/1000\n",
            "1/1 [==============================] - 0s 5ms/step - loss: 0.1450 - mse: 0.1450 - mae: 0.3268\n",
            "Epoch 99/1000\n",
            "1/1 [==============================] - 0s 5ms/step - loss: 0.1440 - mse: 0.1440 - mae: 0.3257\n",
            "Epoch 100/1000\n",
            "1/1 [==============================] - 0s 8ms/step - loss: 0.1430 - mse: 0.1430 - mae: 0.3246\n",
            "Epoch 101/1000\n",
            "1/1 [==============================] - 0s 5ms/step - loss: 0.1421 - mse: 0.1421 - mae: 0.3235\n",
            "Epoch 102/1000\n",
            "1/1 [==============================] - 0s 4ms/step - loss: 0.1411 - mse: 0.1411 - mae: 0.3224\n",
            "Epoch 103/1000\n",
            "1/1 [==============================] - 0s 7ms/step - loss: 0.1402 - mse: 0.1402 - mae: 0.3213\n",
            "Epoch 104/1000\n",
            "1/1 [==============================] - 0s 6ms/step - loss: 0.1392 - mse: 0.1392 - mae: 0.3203\n",
            "Epoch 105/1000\n",
            "1/1 [==============================] - 0s 6ms/step - loss: 0.1383 - mse: 0.1383 - mae: 0.3192\n",
            "Epoch 106/1000\n",
            "1/1 [==============================] - 0s 5ms/step - loss: 0.1373 - mse: 0.1373 - mae: 0.3181\n",
            "Epoch 107/1000\n",
            "1/1 [==============================] - 0s 6ms/step - loss: 0.1364 - mse: 0.1364 - mae: 0.3170\n",
            "Epoch 108/1000\n",
            "1/1 [==============================] - 0s 6ms/step - loss: 0.1355 - mse: 0.1355 - mae: 0.3159\n",
            "Epoch 109/1000\n",
            "1/1 [==============================] - 0s 7ms/step - loss: 0.1346 - mse: 0.1346 - mae: 0.3149\n",
            "Epoch 110/1000\n",
            "1/1 [==============================] - 0s 9ms/step - loss: 0.1337 - mse: 0.1337 - mae: 0.3138\n",
            "Epoch 111/1000\n",
            "1/1 [==============================] - 0s 7ms/step - loss: 0.1328 - mse: 0.1328 - mae: 0.3128\n",
            "Epoch 112/1000\n",
            "1/1 [==============================] - 0s 11ms/step - loss: 0.1319 - mse: 0.1319 - mae: 0.3117\n",
            "Epoch 113/1000\n",
            "1/1 [==============================] - 0s 6ms/step - loss: 0.1310 - mse: 0.1310 - mae: 0.3106\n",
            "Epoch 114/1000\n",
            "1/1 [==============================] - 0s 11ms/step - loss: 0.1301 - mse: 0.1301 - mae: 0.3096\n",
            "Epoch 115/1000\n",
            "1/1 [==============================] - 0s 9ms/step - loss: 0.1292 - mse: 0.1292 - mae: 0.3085\n",
            "Epoch 116/1000\n",
            "1/1 [==============================] - 0s 12ms/step - loss: 0.1284 - mse: 0.1284 - mae: 0.3075\n",
            "Epoch 117/1000\n",
            "1/1 [==============================] - 0s 5ms/step - loss: 0.1275 - mse: 0.1275 - mae: 0.3065\n",
            "Epoch 118/1000\n",
            "1/1 [==============================] - 0s 6ms/step - loss: 0.1266 - mse: 0.1266 - mae: 0.3054\n",
            "Epoch 119/1000\n",
            "1/1 [==============================] - 0s 7ms/step - loss: 0.1258 - mse: 0.1258 - mae: 0.3044\n",
            "Epoch 120/1000\n",
            "1/1 [==============================] - 0s 7ms/step - loss: 0.1249 - mse: 0.1249 - mae: 0.3034\n",
            "Epoch 121/1000\n",
            "1/1 [==============================] - 0s 5ms/step - loss: 0.1241 - mse: 0.1241 - mae: 0.3023\n",
            "Epoch 122/1000\n",
            "1/1 [==============================] - 0s 6ms/step - loss: 0.1232 - mse: 0.1232 - mae: 0.3013\n",
            "Epoch 123/1000\n",
            "1/1 [==============================] - 0s 7ms/step - loss: 0.1224 - mse: 0.1224 - mae: 0.3003\n",
            "Epoch 124/1000\n",
            "1/1 [==============================] - 0s 4ms/step - loss: 0.1216 - mse: 0.1216 - mae: 0.2993\n",
            "Epoch 125/1000\n",
            "1/1 [==============================] - 0s 6ms/step - loss: 0.1208 - mse: 0.1208 - mae: 0.2983\n",
            "Epoch 126/1000\n",
            "1/1 [==============================] - 0s 6ms/step - loss: 0.1199 - mse: 0.1199 - mae: 0.2973\n",
            "Epoch 127/1000\n",
            "1/1 [==============================] - 0s 7ms/step - loss: 0.1191 - mse: 0.1191 - mae: 0.2963\n",
            "Epoch 128/1000\n",
            "1/1 [==============================] - 0s 16ms/step - loss: 0.1183 - mse: 0.1183 - mae: 0.2953\n",
            "Epoch 129/1000\n",
            "1/1 [==============================] - 0s 6ms/step - loss: 0.1175 - mse: 0.1175 - mae: 0.2943\n",
            "Epoch 130/1000\n",
            "1/1 [==============================] - 0s 13ms/step - loss: 0.1167 - mse: 0.1167 - mae: 0.2933\n",
            "Epoch 131/1000\n",
            "1/1 [==============================] - 0s 17ms/step - loss: 0.1160 - mse: 0.1160 - mae: 0.2923\n",
            "Epoch 132/1000\n",
            "1/1 [==============================] - 0s 8ms/step - loss: 0.1152 - mse: 0.1152 - mae: 0.2913\n",
            "Epoch 133/1000\n",
            "1/1 [==============================] - 0s 20ms/step - loss: 0.1144 - mse: 0.1144 - mae: 0.2903\n",
            "Epoch 134/1000\n",
            "1/1 [==============================] - 0s 17ms/step - loss: 0.1136 - mse: 0.1136 - mae: 0.2893\n",
            "Epoch 135/1000\n",
            "1/1 [==============================] - 0s 8ms/step - loss: 0.1129 - mse: 0.1129 - mae: 0.2883\n",
            "Epoch 136/1000\n",
            "1/1 [==============================] - 0s 8ms/step - loss: 0.1121 - mse: 0.1121 - mae: 0.2874\n",
            "Epoch 137/1000\n",
            "1/1 [==============================] - 0s 14ms/step - loss: 0.1113 - mse: 0.1113 - mae: 0.2864\n",
            "Epoch 138/1000\n",
            "1/1 [==============================] - 0s 4ms/step - loss: 0.1106 - mse: 0.1106 - mae: 0.2854\n",
            "Epoch 139/1000\n",
            "1/1 [==============================] - 0s 12ms/step - loss: 0.1098 - mse: 0.1098 - mae: 0.2845\n",
            "Epoch 140/1000\n",
            "1/1 [==============================] - 0s 5ms/step - loss: 0.1091 - mse: 0.1091 - mae: 0.2835\n",
            "Epoch 141/1000\n",
            "1/1 [==============================] - 0s 5ms/step - loss: 0.1084 - mse: 0.1084 - mae: 0.2825\n",
            "Epoch 142/1000\n",
            "1/1 [==============================] - 0s 8ms/step - loss: 0.1076 - mse: 0.1076 - mae: 0.2816\n",
            "Epoch 143/1000\n",
            "1/1 [==============================] - 0s 4ms/step - loss: 0.1069 - mse: 0.1069 - mae: 0.2806\n",
            "Epoch 144/1000\n",
            "1/1 [==============================] - 0s 19ms/step - loss: 0.1062 - mse: 0.1062 - mae: 0.2797\n",
            "Epoch 145/1000\n",
            "1/1 [==============================] - 0s 13ms/step - loss: 0.1055 - mse: 0.1055 - mae: 0.2787\n",
            "Epoch 146/1000\n",
            "1/1 [==============================] - 0s 15ms/step - loss: 0.1047 - mse: 0.1047 - mae: 0.2778\n",
            "Epoch 147/1000\n",
            "1/1 [==============================] - 0s 10ms/step - loss: 0.1040 - mse: 0.1040 - mae: 0.2769\n",
            "Epoch 148/1000\n",
            "1/1 [==============================] - 0s 4ms/step - loss: 0.1033 - mse: 0.1033 - mae: 0.2759\n",
            "Epoch 149/1000\n",
            "1/1 [==============================] - 0s 10ms/step - loss: 0.1026 - mse: 0.1026 - mae: 0.2750\n",
            "Epoch 150/1000\n",
            "1/1 [==============================] - 0s 5ms/step - loss: 0.1019 - mse: 0.1019 - mae: 0.2741\n",
            "Epoch 151/1000\n",
            "1/1 [==============================] - 0s 7ms/step - loss: 0.1013 - mse: 0.1013 - mae: 0.2731\n",
            "Epoch 152/1000\n",
            "1/1 [==============================] - 0s 11ms/step - loss: 0.1006 - mse: 0.1006 - mae: 0.2722\n",
            "Epoch 153/1000\n",
            "1/1 [==============================] - 0s 6ms/step - loss: 0.0999 - mse: 0.0999 - mae: 0.2713\n",
            "Epoch 154/1000\n",
            "1/1 [==============================] - 0s 4ms/step - loss: 0.0992 - mse: 0.0992 - mae: 0.2704\n",
            "Epoch 155/1000\n",
            "1/1 [==============================] - 0s 6ms/step - loss: 0.0986 - mse: 0.0986 - mae: 0.2695\n",
            "Epoch 156/1000\n",
            "1/1 [==============================] - 0s 4ms/step - loss: 0.0979 - mse: 0.0979 - mae: 0.2685\n",
            "Epoch 157/1000\n",
            "1/1 [==============================] - 0s 5ms/step - loss: 0.0972 - mse: 0.0972 - mae: 0.2676\n",
            "Epoch 158/1000\n",
            "1/1 [==============================] - 0s 4ms/step - loss: 0.0966 - mse: 0.0966 - mae: 0.2667\n",
            "Epoch 159/1000\n",
            "1/1 [==============================] - 0s 9ms/step - loss: 0.0959 - mse: 0.0959 - mae: 0.2658\n",
            "Epoch 160/1000\n",
            "1/1 [==============================] - 0s 9ms/step - loss: 0.0953 - mse: 0.0953 - mae: 0.2649\n",
            "Epoch 161/1000\n",
            "1/1 [==============================] - 0s 4ms/step - loss: 0.0946 - mse: 0.0946 - mae: 0.2640\n",
            "Epoch 162/1000\n",
            "1/1 [==============================] - 0s 10ms/step - loss: 0.0940 - mse: 0.0940 - mae: 0.2631\n",
            "Epoch 163/1000\n",
            "1/1 [==============================] - 0s 7ms/step - loss: 0.0934 - mse: 0.0934 - mae: 0.2623\n",
            "Epoch 164/1000\n",
            "1/1 [==============================] - 0s 11ms/step - loss: 0.0927 - mse: 0.0927 - mae: 0.2614\n",
            "Epoch 165/1000\n",
            "1/1 [==============================] - 0s 8ms/step - loss: 0.0921 - mse: 0.0921 - mae: 0.2605\n",
            "Epoch 166/1000\n",
            "1/1 [==============================] - 0s 8ms/step - loss: 0.0915 - mse: 0.0915 - mae: 0.2596\n",
            "Epoch 167/1000\n",
            "1/1 [==============================] - 0s 10ms/step - loss: 0.0909 - mse: 0.0909 - mae: 0.2587\n",
            "Epoch 168/1000\n",
            "1/1 [==============================] - 0s 6ms/step - loss: 0.0902 - mse: 0.0902 - mae: 0.2579\n",
            "Epoch 169/1000\n",
            "1/1 [==============================] - 0s 8ms/step - loss: 0.0896 - mse: 0.0896 - mae: 0.2570\n",
            "Epoch 170/1000\n",
            "1/1 [==============================] - 0s 7ms/step - loss: 0.0890 - mse: 0.0890 - mae: 0.2561\n",
            "Epoch 171/1000\n",
            "1/1 [==============================] - 0s 7ms/step - loss: 0.0884 - mse: 0.0884 - mae: 0.2552\n",
            "Epoch 172/1000\n",
            "1/1 [==============================] - 0s 7ms/step - loss: 0.0878 - mse: 0.0878 - mae: 0.2544\n",
            "Epoch 173/1000\n",
            "1/1 [==============================] - 0s 6ms/step - loss: 0.0872 - mse: 0.0872 - mae: 0.2535\n",
            "Epoch 174/1000\n",
            "1/1 [==============================] - 0s 6ms/step - loss: 0.0867 - mse: 0.0867 - mae: 0.2527\n",
            "Epoch 175/1000\n",
            "1/1 [==============================] - 0s 6ms/step - loss: 0.0861 - mse: 0.0861 - mae: 0.2518\n",
            "Epoch 176/1000\n",
            "1/1 [==============================] - 0s 7ms/step - loss: 0.0855 - mse: 0.0855 - mae: 0.2510\n",
            "Epoch 177/1000\n",
            "1/1 [==============================] - 0s 9ms/step - loss: 0.0849 - mse: 0.0849 - mae: 0.2501\n",
            "Epoch 178/1000\n",
            "1/1 [==============================] - 0s 6ms/step - loss: 0.0843 - mse: 0.0843 - mae: 0.2493\n",
            "Epoch 179/1000\n",
            "1/1 [==============================] - 0s 9ms/step - loss: 0.0838 - mse: 0.0838 - mae: 0.2484\n",
            "Epoch 180/1000\n",
            "1/1 [==============================] - 0s 4ms/step - loss: 0.0832 - mse: 0.0832 - mae: 0.2476\n",
            "Epoch 181/1000\n",
            "1/1 [==============================] - 0s 10ms/step - loss: 0.0826 - mse: 0.0826 - mae: 0.2467\n",
            "Epoch 182/1000\n",
            "1/1 [==============================] - 0s 8ms/step - loss: 0.0821 - mse: 0.0821 - mae: 0.2459\n",
            "Epoch 183/1000\n",
            "1/1 [==============================] - 0s 12ms/step - loss: 0.0815 - mse: 0.0815 - mae: 0.2451\n",
            "Epoch 184/1000\n",
            "1/1 [==============================] - 0s 4ms/step - loss: 0.0810 - mse: 0.0810 - mae: 0.2442\n",
            "Epoch 185/1000\n",
            "1/1 [==============================] - 0s 10ms/step - loss: 0.0804 - mse: 0.0804 - mae: 0.2434\n",
            "Epoch 186/1000\n",
            "1/1 [==============================] - 0s 4ms/step - loss: 0.0799 - mse: 0.0799 - mae: 0.2426\n",
            "Epoch 187/1000\n",
            "1/1 [==============================] - 0s 4ms/step - loss: 0.0793 - mse: 0.0793 - mae: 0.2418\n",
            "Epoch 188/1000\n",
            "1/1 [==============================] - 0s 6ms/step - loss: 0.0788 - mse: 0.0788 - mae: 0.2410\n",
            "Epoch 189/1000\n",
            "1/1 [==============================] - 0s 4ms/step - loss: 0.0783 - mse: 0.0783 - mae: 0.2401\n",
            "Epoch 190/1000\n",
            "1/1 [==============================] - 0s 4ms/step - loss: 0.0778 - mse: 0.0778 - mae: 0.2393\n",
            "Epoch 191/1000\n",
            "1/1 [==============================] - 0s 6ms/step - loss: 0.0772 - mse: 0.0772 - mae: 0.2385\n",
            "Epoch 192/1000\n",
            "1/1 [==============================] - 0s 6ms/step - loss: 0.0767 - mse: 0.0767 - mae: 0.2377\n",
            "Epoch 193/1000\n",
            "1/1 [==============================] - 0s 4ms/step - loss: 0.0762 - mse: 0.0762 - mae: 0.2369\n",
            "Epoch 194/1000\n",
            "1/1 [==============================] - 0s 6ms/step - loss: 0.0757 - mse: 0.0757 - mae: 0.2361\n",
            "Epoch 195/1000\n",
            "1/1 [==============================] - 0s 13ms/step - loss: 0.0752 - mse: 0.0752 - mae: 0.2353\n",
            "Epoch 196/1000\n",
            "1/1 [==============================] - 0s 9ms/step - loss: 0.0747 - mse: 0.0747 - mae: 0.2345\n",
            "Epoch 197/1000\n",
            "1/1 [==============================] - 0s 8ms/step - loss: 0.0742 - mse: 0.0742 - mae: 0.2337\n",
            "Epoch 198/1000\n",
            "1/1 [==============================] - 0s 6ms/step - loss: 0.0737 - mse: 0.0737 - mae: 0.2329\n",
            "Epoch 199/1000\n",
            "1/1 [==============================] - 0s 6ms/step - loss: 0.0732 - mse: 0.0732 - mae: 0.2322\n",
            "Epoch 200/1000\n",
            "1/1 [==============================] - 0s 8ms/step - loss: 0.0727 - mse: 0.0727 - mae: 0.2314\n",
            "Epoch 201/1000\n",
            "1/1 [==============================] - 0s 11ms/step - loss: 0.0722 - mse: 0.0722 - mae: 0.2306\n",
            "Epoch 202/1000\n",
            "1/1 [==============================] - 0s 19ms/step - loss: 0.0717 - mse: 0.0717 - mae: 0.2298\n",
            "Epoch 203/1000\n",
            "1/1 [==============================] - 0s 6ms/step - loss: 0.0712 - mse: 0.0712 - mae: 0.2290\n",
            "Epoch 204/1000\n",
            "1/1 [==============================] - 0s 12ms/step - loss: 0.0707 - mse: 0.0707 - mae: 0.2283\n",
            "Epoch 205/1000\n",
            "1/1 [==============================] - 0s 9ms/step - loss: 0.0702 - mse: 0.0702 - mae: 0.2275\n",
            "Epoch 206/1000\n",
            "1/1 [==============================] - 0s 8ms/step - loss: 0.0698 - mse: 0.0698 - mae: 0.2267\n",
            "Epoch 207/1000\n",
            "1/1 [==============================] - 0s 10ms/step - loss: 0.0693 - mse: 0.0693 - mae: 0.2259\n",
            "Epoch 208/1000\n",
            "1/1 [==============================] - 0s 8ms/step - loss: 0.0688 - mse: 0.0688 - mae: 0.2252\n",
            "Epoch 209/1000\n",
            "1/1 [==============================] - 0s 7ms/step - loss: 0.0684 - mse: 0.0684 - mae: 0.2244\n",
            "Epoch 210/1000\n",
            "1/1 [==============================] - 0s 7ms/step - loss: 0.0679 - mse: 0.0679 - mae: 0.2237\n",
            "Epoch 211/1000\n",
            "1/1 [==============================] - 0s 7ms/step - loss: 0.0674 - mse: 0.0674 - mae: 0.2229\n",
            "Epoch 212/1000\n",
            "1/1 [==============================] - 0s 7ms/step - loss: 0.0670 - mse: 0.0670 - mae: 0.2222\n",
            "Epoch 213/1000\n",
            "1/1 [==============================] - 0s 10ms/step - loss: 0.0665 - mse: 0.0665 - mae: 0.2214\n",
            "Epoch 214/1000\n",
            "1/1 [==============================] - 0s 6ms/step - loss: 0.0661 - mse: 0.0661 - mae: 0.2207\n",
            "Epoch 215/1000\n",
            "1/1 [==============================] - 0s 9ms/step - loss: 0.0656 - mse: 0.0656 - mae: 0.2199\n",
            "Epoch 216/1000\n",
            "1/1 [==============================] - 0s 6ms/step - loss: 0.0652 - mse: 0.0652 - mae: 0.2192\n",
            "Epoch 217/1000\n",
            "1/1 [==============================] - 0s 7ms/step - loss: 0.0648 - mse: 0.0648 - mae: 0.2184\n",
            "Epoch 218/1000\n",
            "1/1 [==============================] - 0s 7ms/step - loss: 0.0643 - mse: 0.0643 - mae: 0.2177\n",
            "Epoch 219/1000\n",
            "1/1 [==============================] - 0s 6ms/step - loss: 0.0639 - mse: 0.0639 - mae: 0.2169\n",
            "Epoch 220/1000\n",
            "1/1 [==============================] - 0s 7ms/step - loss: 0.0635 - mse: 0.0635 - mae: 0.2162\n",
            "Epoch 221/1000\n",
            "1/1 [==============================] - 0s 8ms/step - loss: 0.0630 - mse: 0.0630 - mae: 0.2155\n",
            "Epoch 222/1000\n",
            "1/1 [==============================] - 0s 8ms/step - loss: 0.0626 - mse: 0.0626 - mae: 0.2148\n",
            "Epoch 223/1000\n",
            "1/1 [==============================] - 0s 8ms/step - loss: 0.0622 - mse: 0.0622 - mae: 0.2140\n",
            "Epoch 224/1000\n",
            "1/1 [==============================] - 0s 6ms/step - loss: 0.0618 - mse: 0.0618 - mae: 0.2133\n",
            "Epoch 225/1000\n",
            "1/1 [==============================] - 0s 5ms/step - loss: 0.0613 - mse: 0.0613 - mae: 0.2126\n",
            "Epoch 226/1000\n",
            "1/1 [==============================] - 0s 14ms/step - loss: 0.0609 - mse: 0.0609 - mae: 0.2119\n",
            "Epoch 227/1000\n",
            "1/1 [==============================] - 0s 7ms/step - loss: 0.0605 - mse: 0.0605 - mae: 0.2111\n",
            "Epoch 228/1000\n",
            "1/1 [==============================] - 0s 8ms/step - loss: 0.0601 - mse: 0.0601 - mae: 0.2104\n",
            "Epoch 229/1000\n",
            "1/1 [==============================] - 0s 6ms/step - loss: 0.0597 - mse: 0.0597 - mae: 0.2097\n",
            "Epoch 230/1000\n",
            "1/1 [==============================] - 0s 6ms/step - loss: 0.0593 - mse: 0.0593 - mae: 0.2090\n",
            "Epoch 231/1000\n",
            "1/1 [==============================] - 0s 7ms/step - loss: 0.0589 - mse: 0.0589 - mae: 0.2083\n",
            "Epoch 232/1000\n",
            "1/1 [==============================] - 0s 9ms/step - loss: 0.0585 - mse: 0.0585 - mae: 0.2076\n",
            "Epoch 233/1000\n",
            "1/1 [==============================] - 0s 7ms/step - loss: 0.0581 - mse: 0.0581 - mae: 0.2069\n",
            "Epoch 234/1000\n",
            "1/1 [==============================] - 0s 7ms/step - loss: 0.0577 - mse: 0.0577 - mae: 0.2062\n",
            "Epoch 235/1000\n",
            "1/1 [==============================] - 0s 8ms/step - loss: 0.0573 - mse: 0.0573 - mae: 0.2055\n",
            "Epoch 236/1000\n",
            "1/1 [==============================] - 0s 7ms/step - loss: 0.0569 - mse: 0.0569 - mae: 0.2048\n",
            "Epoch 237/1000\n",
            "1/1 [==============================] - 0s 12ms/step - loss: 0.0566 - mse: 0.0566 - mae: 0.2041\n",
            "Epoch 238/1000\n",
            "1/1 [==============================] - 0s 6ms/step - loss: 0.0562 - mse: 0.0562 - mae: 0.2034\n",
            "Epoch 239/1000\n",
            "1/1 [==============================] - 0s 14ms/step - loss: 0.0558 - mse: 0.0558 - mae: 0.2027\n",
            "Epoch 240/1000\n",
            "1/1 [==============================] - 0s 7ms/step - loss: 0.0554 - mse: 0.0554 - mae: 0.2021\n",
            "Epoch 241/1000\n",
            "1/1 [==============================] - 0s 8ms/step - loss: 0.0550 - mse: 0.0550 - mae: 0.2014\n",
            "Epoch 242/1000\n",
            "1/1 [==============================] - 0s 7ms/step - loss: 0.0547 - mse: 0.0547 - mae: 0.2007\n",
            "Epoch 243/1000\n",
            "1/1 [==============================] - 0s 11ms/step - loss: 0.0543 - mse: 0.0543 - mae: 0.2000\n",
            "Epoch 244/1000\n",
            "1/1 [==============================] - 0s 12ms/step - loss: 0.0539 - mse: 0.0539 - mae: 0.1993\n",
            "Epoch 245/1000\n",
            "1/1 [==============================] - 0s 12ms/step - loss: 0.0536 - mse: 0.0536 - mae: 0.1987\n",
            "Epoch 246/1000\n",
            "1/1 [==============================] - 0s 12ms/step - loss: 0.0532 - mse: 0.0532 - mae: 0.1980\n",
            "Epoch 247/1000\n",
            "1/1 [==============================] - 0s 13ms/step - loss: 0.0528 - mse: 0.0528 - mae: 0.1973\n",
            "Epoch 248/1000\n",
            "1/1 [==============================] - 0s 11ms/step - loss: 0.0525 - mse: 0.0525 - mae: 0.1967\n",
            "Epoch 249/1000\n",
            "1/1 [==============================] - 0s 12ms/step - loss: 0.0521 - mse: 0.0521 - mae: 0.1960\n",
            "Epoch 250/1000\n",
            "1/1 [==============================] - 0s 5ms/step - loss: 0.0518 - mse: 0.0518 - mae: 0.1953\n",
            "Epoch 251/1000\n",
            "1/1 [==============================] - 0s 10ms/step - loss: 0.0514 - mse: 0.0514 - mae: 0.1947\n",
            "Epoch 252/1000\n",
            "1/1 [==============================] - 0s 4ms/step - loss: 0.0511 - mse: 0.0511 - mae: 0.1940\n",
            "Epoch 253/1000\n",
            "1/1 [==============================] - 0s 5ms/step - loss: 0.0507 - mse: 0.0507 - mae: 0.1934\n",
            "Epoch 254/1000\n",
            "1/1 [==============================] - 0s 8ms/step - loss: 0.0504 - mse: 0.0504 - mae: 0.1927\n",
            "Epoch 255/1000\n",
            "1/1 [==============================] - 0s 4ms/step - loss: 0.0501 - mse: 0.0501 - mae: 0.1920\n",
            "Epoch 256/1000\n",
            "1/1 [==============================] - 0s 10ms/step - loss: 0.0497 - mse: 0.0497 - mae: 0.1914\n",
            "Epoch 257/1000\n",
            "1/1 [==============================] - 0s 4ms/step - loss: 0.0494 - mse: 0.0494 - mae: 0.1907\n",
            "Epoch 258/1000\n",
            "1/1 [==============================] - 0s 4ms/step - loss: 0.0491 - mse: 0.0491 - mae: 0.1901\n",
            "Epoch 259/1000\n",
            "1/1 [==============================] - 0s 4ms/step - loss: 0.0487 - mse: 0.0487 - mae: 0.1895\n",
            "Epoch 260/1000\n",
            "1/1 [==============================] - 0s 6ms/step - loss: 0.0484 - mse: 0.0484 - mae: 0.1888\n",
            "Epoch 261/1000\n",
            "1/1 [==============================] - 0s 9ms/step - loss: 0.0481 - mse: 0.0481 - mae: 0.1882\n",
            "Epoch 262/1000\n",
            "1/1 [==============================] - 0s 4ms/step - loss: 0.0477 - mse: 0.0477 - mae: 0.1875\n",
            "Epoch 263/1000\n",
            "1/1 [==============================] - 0s 4ms/step - loss: 0.0474 - mse: 0.0474 - mae: 0.1869\n",
            "Epoch 264/1000\n",
            "1/1 [==============================] - 0s 4ms/step - loss: 0.0471 - mse: 0.0471 - mae: 0.1863\n",
            "Epoch 265/1000\n",
            "1/1 [==============================] - 0s 4ms/step - loss: 0.0468 - mse: 0.0468 - mae: 0.1857\n",
            "Epoch 266/1000\n",
            "1/1 [==============================] - 0s 9ms/step - loss: 0.0465 - mse: 0.0465 - mae: 0.1850\n",
            "Epoch 267/1000\n",
            "1/1 [==============================] - 0s 4ms/step - loss: 0.0462 - mse: 0.0462 - mae: 0.1844\n",
            "Epoch 268/1000\n",
            "1/1 [==============================] - 0s 4ms/step - loss: 0.0458 - mse: 0.0458 - mae: 0.1838\n",
            "Epoch 269/1000\n",
            "1/1 [==============================] - 0s 4ms/step - loss: 0.0455 - mse: 0.0455 - mae: 0.1832\n",
            "Epoch 270/1000\n",
            "1/1 [==============================] - 0s 5ms/step - loss: 0.0452 - mse: 0.0452 - mae: 0.1825\n",
            "Epoch 271/1000\n",
            "1/1 [==============================] - 0s 8ms/step - loss: 0.0449 - mse: 0.0449 - mae: 0.1819\n",
            "Epoch 272/1000\n",
            "1/1 [==============================] - 0s 4ms/step - loss: 0.0446 - mse: 0.0446 - mae: 0.1813\n",
            "Epoch 273/1000\n",
            "1/1 [==============================] - 0s 6ms/step - loss: 0.0443 - mse: 0.0443 - mae: 0.1807\n",
            "Epoch 274/1000\n",
            "1/1 [==============================] - 0s 6ms/step - loss: 0.0440 - mse: 0.0440 - mae: 0.1801\n",
            "Epoch 275/1000\n",
            "1/1 [==============================] - 0s 8ms/step - loss: 0.0437 - mse: 0.0437 - mae: 0.1795\n",
            "Epoch 276/1000\n",
            "1/1 [==============================] - 0s 4ms/step - loss: 0.0434 - mse: 0.0434 - mae: 0.1789\n",
            "Epoch 277/1000\n",
            "1/1 [==============================] - 0s 8ms/step - loss: 0.0431 - mse: 0.0431 - mae: 0.1783\n",
            "Epoch 278/1000\n",
            "1/1 [==============================] - 0s 4ms/step - loss: 0.0428 - mse: 0.0428 - mae: 0.1777\n",
            "Epoch 279/1000\n",
            "1/1 [==============================] - 0s 5ms/step - loss: 0.0426 - mse: 0.0426 - mae: 0.1771\n",
            "Epoch 280/1000\n",
            "1/1 [==============================] - 0s 5ms/step - loss: 0.0423 - mse: 0.0423 - mae: 0.1765\n",
            "Epoch 281/1000\n",
            "1/1 [==============================] - 0s 6ms/step - loss: 0.0420 - mse: 0.0420 - mae: 0.1759\n",
            "Epoch 282/1000\n",
            "1/1 [==============================] - 0s 10ms/step - loss: 0.0417 - mse: 0.0417 - mae: 0.1753\n",
            "Epoch 283/1000\n",
            "1/1 [==============================] - 0s 6ms/step - loss: 0.0414 - mse: 0.0414 - mae: 0.1747\n",
            "Epoch 284/1000\n",
            "1/1 [==============================] - 0s 7ms/step - loss: 0.0411 - mse: 0.0411 - mae: 0.1741\n",
            "Epoch 285/1000\n",
            "1/1 [==============================] - 0s 7ms/step - loss: 0.0409 - mse: 0.0409 - mae: 0.1735\n",
            "Epoch 286/1000\n",
            "1/1 [==============================] - 0s 7ms/step - loss: 0.0406 - mse: 0.0406 - mae: 0.1729\n",
            "Epoch 287/1000\n",
            "1/1 [==============================] - 0s 13ms/step - loss: 0.0403 - mse: 0.0403 - mae: 0.1723\n",
            "Epoch 288/1000\n",
            "1/1 [==============================] - 0s 6ms/step - loss: 0.0400 - mse: 0.0400 - mae: 0.1717\n",
            "Epoch 289/1000\n",
            "1/1 [==============================] - 0s 6ms/step - loss: 0.0398 - mse: 0.0398 - mae: 0.1712\n",
            "Epoch 290/1000\n",
            "1/1 [==============================] - 0s 6ms/step - loss: 0.0395 - mse: 0.0395 - mae: 0.1706\n",
            "Epoch 291/1000\n",
            "1/1 [==============================] - 0s 7ms/step - loss: 0.0392 - mse: 0.0392 - mae: 0.1700\n",
            "Epoch 292/1000\n",
            "1/1 [==============================] - 0s 5ms/step - loss: 0.0390 - mse: 0.0390 - mae: 0.1694\n",
            "Epoch 293/1000\n",
            "1/1 [==============================] - 0s 4ms/step - loss: 0.0387 - mse: 0.0387 - mae: 0.1689\n",
            "Epoch 294/1000\n",
            "1/1 [==============================] - 0s 9ms/step - loss: 0.0384 - mse: 0.0384 - mae: 0.1683\n",
            "Epoch 295/1000\n",
            "1/1 [==============================] - 0s 4ms/step - loss: 0.0382 - mse: 0.0382 - mae: 0.1677\n",
            "Epoch 296/1000\n",
            "1/1 [==============================] - 0s 4ms/step - loss: 0.0379 - mse: 0.0379 - mae: 0.1671\n",
            "Epoch 297/1000\n",
            "1/1 [==============================] - 0s 9ms/step - loss: 0.0377 - mse: 0.0377 - mae: 0.1666\n",
            "Epoch 298/1000\n",
            "1/1 [==============================] - 0s 9ms/step - loss: 0.0374 - mse: 0.0374 - mae: 0.1660\n",
            "Epoch 299/1000\n",
            "1/1 [==============================] - 0s 7ms/step - loss: 0.0372 - mse: 0.0372 - mae: 0.1655\n",
            "Epoch 300/1000\n",
            "1/1 [==============================] - 0s 12ms/step - loss: 0.0369 - mse: 0.0369 - mae: 0.1649\n",
            "Epoch 301/1000\n",
            "1/1 [==============================] - 0s 13ms/step - loss: 0.0367 - mse: 0.0367 - mae: 0.1643\n",
            "Epoch 302/1000\n",
            "1/1 [==============================] - 0s 13ms/step - loss: 0.0364 - mse: 0.0364 - mae: 0.1638\n",
            "Epoch 303/1000\n",
            "1/1 [==============================] - 0s 8ms/step - loss: 0.0362 - mse: 0.0362 - mae: 0.1632\n",
            "Epoch 304/1000\n",
            "1/1 [==============================] - 0s 10ms/step - loss: 0.0359 - mse: 0.0359 - mae: 0.1627\n",
            "Epoch 305/1000\n",
            "1/1 [==============================] - 0s 8ms/step - loss: 0.0357 - mse: 0.0357 - mae: 0.1621\n",
            "Epoch 306/1000\n",
            "1/1 [==============================] - 0s 6ms/step - loss: 0.0354 - mse: 0.0354 - mae: 0.1616\n",
            "Epoch 307/1000\n",
            "1/1 [==============================] - 0s 8ms/step - loss: 0.0352 - mse: 0.0352 - mae: 0.1610\n",
            "Epoch 308/1000\n",
            "1/1 [==============================] - 0s 6ms/step - loss: 0.0350 - mse: 0.0350 - mae: 0.1605\n",
            "Epoch 309/1000\n",
            "1/1 [==============================] - 0s 6ms/step - loss: 0.0347 - mse: 0.0347 - mae: 0.1599\n",
            "Epoch 310/1000\n",
            "1/1 [==============================] - 0s 7ms/step - loss: 0.0345 - mse: 0.0345 - mae: 0.1594\n",
            "Epoch 311/1000\n",
            "1/1 [==============================] - 0s 7ms/step - loss: 0.0343 - mse: 0.0343 - mae: 0.1589\n",
            "Epoch 312/1000\n",
            "1/1 [==============================] - 0s 6ms/step - loss: 0.0340 - mse: 0.0340 - mae: 0.1583\n",
            "Epoch 313/1000\n",
            "1/1 [==============================] - 0s 8ms/step - loss: 0.0338 - mse: 0.0338 - mae: 0.1578\n",
            "Epoch 314/1000\n",
            "1/1 [==============================] - 0s 8ms/step - loss: 0.0336 - mse: 0.0336 - mae: 0.1573\n",
            "Epoch 315/1000\n",
            "1/1 [==============================] - 0s 6ms/step - loss: 0.0333 - mse: 0.0333 - mae: 0.1567\n",
            "Epoch 316/1000\n",
            "1/1 [==============================] - 0s 7ms/step - loss: 0.0331 - mse: 0.0331 - mae: 0.1562\n",
            "Epoch 317/1000\n",
            "1/1 [==============================] - 0s 6ms/step - loss: 0.0329 - mse: 0.0329 - mae: 0.1557\n",
            "Epoch 318/1000\n",
            "1/1 [==============================] - 0s 7ms/step - loss: 0.0327 - mse: 0.0327 - mae: 0.1551\n",
            "Epoch 319/1000\n",
            "1/1 [==============================] - 0s 10ms/step - loss: 0.0325 - mse: 0.0325 - mae: 0.1546\n",
            "Epoch 320/1000\n",
            "1/1 [==============================] - 0s 6ms/step - loss: 0.0322 - mse: 0.0322 - mae: 0.1541\n",
            "Epoch 321/1000\n",
            "1/1 [==============================] - 0s 5ms/step - loss: 0.0320 - mse: 0.0320 - mae: 0.1536\n",
            "Epoch 322/1000\n",
            "1/1 [==============================] - 0s 8ms/step - loss: 0.0318 - mse: 0.0318 - mae: 0.1531\n",
            "Epoch 323/1000\n",
            "1/1 [==============================] - 0s 10ms/step - loss: 0.0316 - mse: 0.0316 - mae: 0.1525\n",
            "Epoch 324/1000\n",
            "1/1 [==============================] - 0s 6ms/step - loss: 0.0314 - mse: 0.0314 - mae: 0.1520\n",
            "Epoch 325/1000\n",
            "1/1 [==============================] - 0s 8ms/step - loss: 0.0312 - mse: 0.0312 - mae: 0.1515\n",
            "Epoch 326/1000\n",
            "1/1 [==============================] - 0s 15ms/step - loss: 0.0309 - mse: 0.0309 - mae: 0.1510\n",
            "Epoch 327/1000\n",
            "1/1 [==============================] - 0s 10ms/step - loss: 0.0307 - mse: 0.0307 - mae: 0.1505\n",
            "Epoch 328/1000\n",
            "1/1 [==============================] - 0s 9ms/step - loss: 0.0305 - mse: 0.0305 - mae: 0.1500\n",
            "Epoch 329/1000\n",
            "1/1 [==============================] - 0s 9ms/step - loss: 0.0303 - mse: 0.0303 - mae: 0.1495\n",
            "Epoch 330/1000\n",
            "1/1 [==============================] - 0s 11ms/step - loss: 0.0301 - mse: 0.0301 - mae: 0.1490\n",
            "Epoch 331/1000\n",
            "1/1 [==============================] - 0s 7ms/step - loss: 0.0299 - mse: 0.0299 - mae: 0.1485\n",
            "Epoch 332/1000\n",
            "1/1 [==============================] - 0s 13ms/step - loss: 0.0297 - mse: 0.0297 - mae: 0.1480\n",
            "Epoch 333/1000\n",
            "1/1 [==============================] - 0s 4ms/step - loss: 0.0295 - mse: 0.0295 - mae: 0.1475\n",
            "Epoch 334/1000\n",
            "1/1 [==============================] - 0s 7ms/step - loss: 0.0293 - mse: 0.0293 - mae: 0.1470\n",
            "Epoch 335/1000\n",
            "1/1 [==============================] - 0s 8ms/step - loss: 0.0291 - mse: 0.0291 - mae: 0.1465\n",
            "Epoch 336/1000\n",
            "1/1 [==============================] - 0s 4ms/step - loss: 0.0289 - mse: 0.0289 - mae: 0.1460\n",
            "Epoch 337/1000\n",
            "1/1 [==============================] - 0s 4ms/step - loss: 0.0287 - mse: 0.0287 - mae: 0.1455\n",
            "Epoch 338/1000\n",
            "1/1 [==============================] - 0s 8ms/step - loss: 0.0285 - mse: 0.0285 - mae: 0.1450\n",
            "Epoch 339/1000\n",
            "1/1 [==============================] - 0s 4ms/step - loss: 0.0283 - mse: 0.0283 - mae: 0.1445\n",
            "Epoch 340/1000\n",
            "1/1 [==============================] - 0s 7ms/step - loss: 0.0281 - mse: 0.0281 - mae: 0.1440\n",
            "Epoch 341/1000\n",
            "1/1 [==============================] - 0s 13ms/step - loss: 0.0280 - mse: 0.0280 - mae: 0.1435\n",
            "Epoch 342/1000\n",
            "1/1 [==============================] - 0s 4ms/step - loss: 0.0278 - mse: 0.0278 - mae: 0.1430\n",
            "Epoch 343/1000\n",
            "1/1 [==============================] - 0s 12ms/step - loss: 0.0276 - mse: 0.0276 - mae: 0.1426\n",
            "Epoch 344/1000\n",
            "1/1 [==============================] - 0s 7ms/step - loss: 0.0274 - mse: 0.0274 - mae: 0.1421\n",
            "Epoch 345/1000\n",
            "1/1 [==============================] - 0s 4ms/step - loss: 0.0272 - mse: 0.0272 - mae: 0.1416\n",
            "Epoch 346/1000\n",
            "1/1 [==============================] - 0s 7ms/step - loss: 0.0270 - mse: 0.0270 - mae: 0.1411\n",
            "Epoch 347/1000\n",
            "1/1 [==============================] - 0s 4ms/step - loss: 0.0268 - mse: 0.0268 - mae: 0.1406\n",
            "Epoch 348/1000\n",
            "1/1 [==============================] - 0s 4ms/step - loss: 0.0267 - mse: 0.0267 - mae: 0.1402\n",
            "Epoch 349/1000\n",
            "1/1 [==============================] - 0s 5ms/step - loss: 0.0265 - mse: 0.0265 - mae: 0.1397\n",
            "Epoch 350/1000\n",
            "1/1 [==============================] - 0s 11ms/step - loss: 0.0263 - mse: 0.0263 - mae: 0.1392\n",
            "Epoch 351/1000\n",
            "1/1 [==============================] - 0s 4ms/step - loss: 0.0261 - mse: 0.0261 - mae: 0.1387\n",
            "Epoch 352/1000\n",
            "1/1 [==============================] - 0s 4ms/step - loss: 0.0260 - mse: 0.0260 - mae: 0.1383\n",
            "Epoch 353/1000\n",
            "1/1 [==============================] - 0s 4ms/step - loss: 0.0258 - mse: 0.0258 - mae: 0.1378\n",
            "Epoch 354/1000\n",
            "1/1 [==============================] - 0s 4ms/step - loss: 0.0256 - mse: 0.0256 - mae: 0.1373\n",
            "Epoch 355/1000\n",
            "1/1 [==============================] - 0s 9ms/step - loss: 0.0254 - mse: 0.0254 - mae: 0.1369\n",
            "Epoch 356/1000\n",
            "1/1 [==============================] - 0s 4ms/step - loss: 0.0253 - mse: 0.0253 - mae: 0.1364\n",
            "Epoch 357/1000\n",
            "1/1 [==============================] - 0s 4ms/step - loss: 0.0251 - mse: 0.0251 - mae: 0.1360\n",
            "Epoch 358/1000\n",
            "1/1 [==============================] - 0s 7ms/step - loss: 0.0249 - mse: 0.0249 - mae: 0.1355\n",
            "Epoch 359/1000\n",
            "1/1 [==============================] - 0s 4ms/step - loss: 0.0248 - mse: 0.0248 - mae: 0.1350\n",
            "Epoch 360/1000\n",
            "1/1 [==============================] - 0s 5ms/step - loss: 0.0246 - mse: 0.0246 - mae: 0.1346\n",
            "Epoch 361/1000\n",
            "1/1 [==============================] - 0s 5ms/step - loss: 0.0244 - mse: 0.0244 - mae: 0.1341\n",
            "Epoch 362/1000\n",
            "1/1 [==============================] - 0s 5ms/step - loss: 0.0243 - mse: 0.0243 - mae: 0.1337\n",
            "Epoch 363/1000\n",
            "1/1 [==============================] - 0s 7ms/step - loss: 0.0241 - mse: 0.0241 - mae: 0.1332\n",
            "Epoch 364/1000\n",
            "1/1 [==============================] - 0s 9ms/step - loss: 0.0239 - mse: 0.0239 - mae: 0.1328\n",
            "Epoch 365/1000\n",
            "1/1 [==============================] - 0s 7ms/step - loss: 0.0238 - mse: 0.0238 - mae: 0.1323\n",
            "Epoch 366/1000\n",
            "1/1 [==============================] - 0s 7ms/step - loss: 0.0236 - mse: 0.0236 - mae: 0.1319\n",
            "Epoch 367/1000\n",
            "1/1 [==============================] - 0s 5ms/step - loss: 0.0234 - mse: 0.0234 - mae: 0.1314\n",
            "Epoch 368/1000\n",
            "1/1 [==============================] - 0s 6ms/step - loss: 0.0233 - mse: 0.0233 - mae: 0.1310\n",
            "Epoch 369/1000\n",
            "1/1 [==============================] - 0s 5ms/step - loss: 0.0231 - mse: 0.0231 - mae: 0.1305\n",
            "Epoch 370/1000\n",
            "1/1 [==============================] - 0s 8ms/step - loss: 0.0230 - mse: 0.0230 - mae: 0.1301\n",
            "Epoch 371/1000\n",
            "1/1 [==============================] - 0s 11ms/step - loss: 0.0228 - mse: 0.0228 - mae: 0.1297\n",
            "Epoch 372/1000\n",
            "1/1 [==============================] - 0s 8ms/step - loss: 0.0227 - mse: 0.0227 - mae: 0.1292\n",
            "Epoch 373/1000\n",
            "1/1 [==============================] - 0s 5ms/step - loss: 0.0225 - mse: 0.0225 - mae: 0.1288\n",
            "Epoch 374/1000\n",
            "1/1 [==============================] - 0s 5ms/step - loss: 0.0224 - mse: 0.0224 - mae: 0.1283\n",
            "Epoch 375/1000\n",
            "1/1 [==============================] - 0s 6ms/step - loss: 0.0222 - mse: 0.0222 - mae: 0.1279\n",
            "Epoch 376/1000\n",
            "1/1 [==============================] - 0s 4ms/step - loss: 0.0221 - mse: 0.0221 - mae: 0.1275\n",
            "Epoch 377/1000\n",
            "1/1 [==============================] - 0s 6ms/step - loss: 0.0219 - mse: 0.0219 - mae: 0.1270\n",
            "Epoch 378/1000\n",
            "1/1 [==============================] - 0s 5ms/step - loss: 0.0218 - mse: 0.0218 - mae: 0.1266\n",
            "Epoch 379/1000\n",
            "1/1 [==============================] - 0s 6ms/step - loss: 0.0216 - mse: 0.0216 - mae: 0.1262\n",
            "Epoch 380/1000\n",
            "1/1 [==============================] - 0s 7ms/step - loss: 0.0215 - mse: 0.0215 - mae: 0.1258\n",
            "Epoch 381/1000\n",
            "1/1 [==============================] - 0s 7ms/step - loss: 0.0213 - mse: 0.0213 - mae: 0.1253\n",
            "Epoch 382/1000\n",
            "1/1 [==============================] - 0s 26ms/step - loss: 0.0212 - mse: 0.0212 - mae: 0.1249\n",
            "Epoch 383/1000\n",
            "1/1 [==============================] - 0s 10ms/step - loss: 0.0210 - mse: 0.0210 - mae: 0.1245\n",
            "Epoch 384/1000\n",
            "1/1 [==============================] - 0s 11ms/step - loss: 0.0209 - mse: 0.0209 - mae: 0.1241\n",
            "Epoch 385/1000\n",
            "1/1 [==============================] - 0s 9ms/step - loss: 0.0208 - mse: 0.0208 - mae: 0.1237\n",
            "Epoch 386/1000\n",
            "1/1 [==============================] - 0s 8ms/step - loss: 0.0206 - mse: 0.0206 - mae: 0.1232\n",
            "Epoch 387/1000\n",
            "1/1 [==============================] - 0s 11ms/step - loss: 0.0205 - mse: 0.0205 - mae: 0.1228\n",
            "Epoch 388/1000\n",
            "1/1 [==============================] - 0s 16ms/step - loss: 0.0203 - mse: 0.0203 - mae: 0.1224\n",
            "Epoch 389/1000\n",
            "1/1 [==============================] - 0s 13ms/step - loss: 0.0202 - mse: 0.0202 - mae: 0.1220\n",
            "Epoch 390/1000\n",
            "1/1 [==============================] - 0s 10ms/step - loss: 0.0201 - mse: 0.0201 - mae: 0.1216\n",
            "Epoch 391/1000\n",
            "1/1 [==============================] - 0s 14ms/step - loss: 0.0199 - mse: 0.0199 - mae: 0.1212\n",
            "Epoch 392/1000\n",
            "1/1 [==============================] - 0s 16ms/step - loss: 0.0198 - mse: 0.0198 - mae: 0.1208\n",
            "Epoch 393/1000\n",
            "1/1 [==============================] - 0s 10ms/step - loss: 0.0197 - mse: 0.0197 - mae: 0.1203\n",
            "Epoch 394/1000\n",
            "1/1 [==============================] - 0s 12ms/step - loss: 0.0195 - mse: 0.0195 - mae: 0.1199\n",
            "Epoch 395/1000\n",
            "1/1 [==============================] - 0s 12ms/step - loss: 0.0194 - mse: 0.0194 - mae: 0.1195\n",
            "Epoch 396/1000\n",
            "1/1 [==============================] - 0s 14ms/step - loss: 0.0193 - mse: 0.0193 - mae: 0.1191\n",
            "Epoch 397/1000\n",
            "1/1 [==============================] - 0s 12ms/step - loss: 0.0191 - mse: 0.0191 - mae: 0.1187\n",
            "Epoch 398/1000\n",
            "1/1 [==============================] - 0s 12ms/step - loss: 0.0190 - mse: 0.0190 - mae: 0.1183\n",
            "Epoch 399/1000\n",
            "1/1 [==============================] - 0s 17ms/step - loss: 0.0189 - mse: 0.0189 - mae: 0.1179\n",
            "Epoch 400/1000\n",
            "1/1 [==============================] - 0s 14ms/step - loss: 0.0187 - mse: 0.0187 - mae: 0.1175\n",
            "Epoch 401/1000\n",
            "1/1 [==============================] - 0s 16ms/step - loss: 0.0186 - mse: 0.0186 - mae: 0.1171\n",
            "Epoch 402/1000\n",
            "1/1 [==============================] - 0s 6ms/step - loss: 0.0185 - mse: 0.0185 - mae: 0.1167\n",
            "Epoch 403/1000\n",
            "1/1 [==============================] - 0s 9ms/step - loss: 0.0184 - mse: 0.0184 - mae: 0.1163\n",
            "Epoch 404/1000\n",
            "1/1 [==============================] - 0s 9ms/step - loss: 0.0182 - mse: 0.0182 - mae: 0.1159\n",
            "Epoch 405/1000\n",
            "1/1 [==============================] - 0s 24ms/step - loss: 0.0181 - mse: 0.0181 - mae: 0.1156\n",
            "Epoch 406/1000\n",
            "1/1 [==============================] - 0s 5ms/step - loss: 0.0180 - mse: 0.0180 - mae: 0.1152\n",
            "Epoch 407/1000\n",
            "1/1 [==============================] - 0s 11ms/step - loss: 0.0179 - mse: 0.0179 - mae: 0.1148\n",
            "Epoch 408/1000\n",
            "1/1 [==============================] - 0s 7ms/step - loss: 0.0178 - mse: 0.0178 - mae: 0.1144\n",
            "Epoch 409/1000\n",
            "1/1 [==============================] - 0s 16ms/step - loss: 0.0176 - mse: 0.0176 - mae: 0.1140\n",
            "Epoch 410/1000\n",
            "1/1 [==============================] - 0s 10ms/step - loss: 0.0175 - mse: 0.0175 - mae: 0.1136\n",
            "Epoch 411/1000\n",
            "1/1 [==============================] - 0s 6ms/step - loss: 0.0174 - mse: 0.0174 - mae: 0.1132\n",
            "Epoch 412/1000\n",
            "1/1 [==============================] - 0s 11ms/step - loss: 0.0173 - mse: 0.0173 - mae: 0.1128\n",
            "Epoch 413/1000\n",
            "1/1 [==============================] - 0s 9ms/step - loss: 0.0172 - mse: 0.0172 - mae: 0.1125\n",
            "Epoch 414/1000\n",
            "1/1 [==============================] - 0s 8ms/step - loss: 0.0171 - mse: 0.0171 - mae: 0.1121\n",
            "Epoch 415/1000\n",
            "1/1 [==============================] - 0s 9ms/step - loss: 0.0169 - mse: 0.0169 - mae: 0.1117\n",
            "Epoch 416/1000\n",
            "1/1 [==============================] - 0s 8ms/step - loss: 0.0168 - mse: 0.0168 - mae: 0.1113\n",
            "Epoch 417/1000\n",
            "1/1 [==============================] - 0s 9ms/step - loss: 0.0167 - mse: 0.0167 - mae: 0.1110\n",
            "Epoch 418/1000\n",
            "1/1 [==============================] - 0s 16ms/step - loss: 0.0166 - mse: 0.0166 - mae: 0.1106\n",
            "Epoch 419/1000\n",
            "1/1 [==============================] - 0s 14ms/step - loss: 0.0165 - mse: 0.0165 - mae: 0.1102\n",
            "Epoch 420/1000\n",
            "1/1 [==============================] - 0s 13ms/step - loss: 0.0164 - mse: 0.0164 - mae: 0.1098\n",
            "Epoch 421/1000\n",
            "1/1 [==============================] - 0s 16ms/step - loss: 0.0163 - mse: 0.0163 - mae: 0.1095\n",
            "Epoch 422/1000\n",
            "1/1 [==============================] - 0s 20ms/step - loss: 0.0162 - mse: 0.0162 - mae: 0.1091\n",
            "Epoch 423/1000\n",
            "1/1 [==============================] - 0s 35ms/step - loss: 0.0160 - mse: 0.0160 - mae: 0.1087\n",
            "Epoch 424/1000\n",
            "1/1 [==============================] - 0s 12ms/step - loss: 0.0159 - mse: 0.0159 - mae: 0.1084\n",
            "Epoch 425/1000\n",
            "1/1 [==============================] - 0s 9ms/step - loss: 0.0158 - mse: 0.0158 - mae: 0.1080\n",
            "Epoch 426/1000\n",
            "1/1 [==============================] - 0s 13ms/step - loss: 0.0157 - mse: 0.0157 - mae: 0.1076\n",
            "Epoch 427/1000\n",
            "1/1 [==============================] - 0s 15ms/step - loss: 0.0156 - mse: 0.0156 - mae: 0.1073\n",
            "Epoch 428/1000\n",
            "1/1 [==============================] - 0s 15ms/step - loss: 0.0155 - mse: 0.0155 - mae: 0.1069\n",
            "Epoch 429/1000\n",
            "1/1 [==============================] - 0s 10ms/step - loss: 0.0154 - mse: 0.0154 - mae: 0.1065\n",
            "Epoch 430/1000\n",
            "1/1 [==============================] - 0s 16ms/step - loss: 0.0153 - mse: 0.0153 - mae: 0.1062\n",
            "Epoch 431/1000\n",
            "1/1 [==============================] - 0s 6ms/step - loss: 0.0152 - mse: 0.0152 - mae: 0.1058\n",
            "Epoch 432/1000\n",
            "1/1 [==============================] - 0s 5ms/step - loss: 0.0151 - mse: 0.0151 - mae: 0.1055\n",
            "Epoch 433/1000\n",
            "1/1 [==============================] - 0s 7ms/step - loss: 0.0150 - mse: 0.0150 - mae: 0.1051\n",
            "Epoch 434/1000\n",
            "1/1 [==============================] - 0s 9ms/step - loss: 0.0149 - mse: 0.0149 - mae: 0.1047\n",
            "Epoch 435/1000\n",
            "1/1 [==============================] - 0s 4ms/step - loss: 0.0148 - mse: 0.0148 - mae: 0.1044\n",
            "Epoch 436/1000\n",
            "1/1 [==============================] - 0s 11ms/step - loss: 0.0147 - mse: 0.0147 - mae: 0.1040\n",
            "Epoch 437/1000\n",
            "1/1 [==============================] - 0s 7ms/step - loss: 0.0146 - mse: 0.0146 - mae: 0.1037\n",
            "Epoch 438/1000\n",
            "1/1 [==============================] - 0s 10ms/step - loss: 0.0145 - mse: 0.0145 - mae: 0.1033\n",
            "Epoch 439/1000\n",
            "1/1 [==============================] - 0s 11ms/step - loss: 0.0144 - mse: 0.0144 - mae: 0.1030\n",
            "Epoch 440/1000\n",
            "1/1 [==============================] - 0s 6ms/step - loss: 0.0143 - mse: 0.0143 - mae: 0.1026\n",
            "Epoch 441/1000\n",
            "1/1 [==============================] - 0s 6ms/step - loss: 0.0142 - mse: 0.0142 - mae: 0.1023\n",
            "Epoch 442/1000\n",
            "1/1 [==============================] - 0s 6ms/step - loss: 0.0141 - mse: 0.0141 - mae: 0.1019\n",
            "Epoch 443/1000\n",
            "1/1 [==============================] - 0s 7ms/step - loss: 0.0140 - mse: 0.0140 - mae: 0.1016\n",
            "Epoch 444/1000\n",
            "1/1 [==============================] - 0s 19ms/step - loss: 0.0139 - mse: 0.0139 - mae: 0.1013\n",
            "Epoch 445/1000\n",
            "1/1 [==============================] - 0s 6ms/step - loss: 0.0138 - mse: 0.0138 - mae: 0.1009\n",
            "Epoch 446/1000\n",
            "1/1 [==============================] - 0s 6ms/step - loss: 0.0137 - mse: 0.0137 - mae: 0.1006\n",
            "Epoch 447/1000\n",
            "1/1 [==============================] - 0s 10ms/step - loss: 0.0136 - mse: 0.0136 - mae: 0.1002\n",
            "Epoch 448/1000\n",
            "1/1 [==============================] - 0s 14ms/step - loss: 0.0135 - mse: 0.0135 - mae: 0.0999\n",
            "Epoch 449/1000\n",
            "1/1 [==============================] - 0s 11ms/step - loss: 0.0135 - mse: 0.0135 - mae: 0.0996\n",
            "Epoch 450/1000\n",
            "1/1 [==============================] - 0s 6ms/step - loss: 0.0134 - mse: 0.0134 - mae: 0.0992\n",
            "Epoch 451/1000\n",
            "1/1 [==============================] - 0s 11ms/step - loss: 0.0133 - mse: 0.0133 - mae: 0.0989\n",
            "Epoch 452/1000\n",
            "1/1 [==============================] - 0s 23ms/step - loss: 0.0132 - mse: 0.0132 - mae: 0.0985\n",
            "Epoch 453/1000\n",
            "1/1 [==============================] - 0s 6ms/step - loss: 0.0131 - mse: 0.0131 - mae: 0.0982\n",
            "Epoch 454/1000\n",
            "1/1 [==============================] - 0s 6ms/step - loss: 0.0130 - mse: 0.0130 - mae: 0.0979\n",
            "Epoch 455/1000\n",
            "1/1 [==============================] - 0s 11ms/step - loss: 0.0129 - mse: 0.0129 - mae: 0.0976\n",
            "Epoch 456/1000\n",
            "1/1 [==============================] - 0s 8ms/step - loss: 0.0128 - mse: 0.0128 - mae: 0.0972\n",
            "Epoch 457/1000\n",
            "1/1 [==============================] - 0s 11ms/step - loss: 0.0127 - mse: 0.0127 - mae: 0.0969\n",
            "Epoch 458/1000\n",
            "1/1 [==============================] - 0s 17ms/step - loss: 0.0127 - mse: 0.0127 - mae: 0.0966\n",
            "Epoch 459/1000\n",
            "1/1 [==============================] - 0s 8ms/step - loss: 0.0126 - mse: 0.0126 - mae: 0.0962\n",
            "Epoch 460/1000\n",
            "1/1 [==============================] - 0s 11ms/step - loss: 0.0125 - mse: 0.0125 - mae: 0.0959\n",
            "Epoch 461/1000\n",
            "1/1 [==============================] - 0s 8ms/step - loss: 0.0124 - mse: 0.0124 - mae: 0.0956\n",
            "Epoch 462/1000\n",
            "1/1 [==============================] - 0s 7ms/step - loss: 0.0123 - mse: 0.0123 - mae: 0.0953\n",
            "Epoch 463/1000\n",
            "1/1 [==============================] - 0s 15ms/step - loss: 0.0122 - mse: 0.0122 - mae: 0.0949\n",
            "Epoch 464/1000\n",
            "1/1 [==============================] - 0s 13ms/step - loss: 0.0122 - mse: 0.0122 - mae: 0.0946\n",
            "Epoch 465/1000\n",
            "1/1 [==============================] - 0s 7ms/step - loss: 0.0121 - mse: 0.0121 - mae: 0.0943\n",
            "Epoch 466/1000\n",
            "1/1 [==============================] - 0s 7ms/step - loss: 0.0120 - mse: 0.0120 - mae: 0.0940\n",
            "Epoch 467/1000\n",
            "1/1 [==============================] - 0s 7ms/step - loss: 0.0119 - mse: 0.0119 - mae: 0.0937\n",
            "Epoch 468/1000\n",
            "1/1 [==============================] - 0s 6ms/step - loss: 0.0118 - mse: 0.0118 - mae: 0.0934\n",
            "Epoch 469/1000\n",
            "1/1 [==============================] - 0s 7ms/step - loss: 0.0117 - mse: 0.0117 - mae: 0.0930\n",
            "Epoch 470/1000\n",
            "1/1 [==============================] - 0s 9ms/step - loss: 0.0117 - mse: 0.0117 - mae: 0.0927\n",
            "Epoch 471/1000\n",
            "1/1 [==============================] - 0s 7ms/step - loss: 0.0116 - mse: 0.0116 - mae: 0.0924\n",
            "Epoch 472/1000\n",
            "1/1 [==============================] - 0s 7ms/step - loss: 0.0115 - mse: 0.0115 - mae: 0.0921\n",
            "Epoch 473/1000\n",
            "1/1 [==============================] - 0s 4ms/step - loss: 0.0114 - mse: 0.0114 - mae: 0.0918\n",
            "Epoch 474/1000\n",
            "1/1 [==============================] - 0s 9ms/step - loss: 0.0114 - mse: 0.0114 - mae: 0.0915\n",
            "Epoch 475/1000\n",
            "1/1 [==============================] - 0s 25ms/step - loss: 0.0113 - mse: 0.0113 - mae: 0.0912\n",
            "Epoch 476/1000\n",
            "1/1 [==============================] - 0s 15ms/step - loss: 0.0112 - mse: 0.0112 - mae: 0.0909\n",
            "Epoch 477/1000\n",
            "1/1 [==============================] - 0s 22ms/step - loss: 0.0111 - mse: 0.0111 - mae: 0.0905\n",
            "Epoch 478/1000\n",
            "1/1 [==============================] - 0s 5ms/step - loss: 0.0111 - mse: 0.0111 - mae: 0.0902\n",
            "Epoch 479/1000\n",
            "1/1 [==============================] - 0s 11ms/step - loss: 0.0110 - mse: 0.0110 - mae: 0.0899\n",
            "Epoch 480/1000\n",
            "1/1 [==============================] - 0s 12ms/step - loss: 0.0109 - mse: 0.0109 - mae: 0.0896\n",
            "Epoch 481/1000\n",
            "1/1 [==============================] - 0s 25ms/step - loss: 0.0108 - mse: 0.0108 - mae: 0.0893\n",
            "Epoch 482/1000\n",
            "1/1 [==============================] - 0s 10ms/step - loss: 0.0108 - mse: 0.0108 - mae: 0.0890\n",
            "Epoch 483/1000\n",
            "1/1 [==============================] - 0s 11ms/step - loss: 0.0107 - mse: 0.0107 - mae: 0.0887\n",
            "Epoch 484/1000\n",
            "1/1 [==============================] - 0s 14ms/step - loss: 0.0106 - mse: 0.0106 - mae: 0.0884\n",
            "Epoch 485/1000\n",
            "1/1 [==============================] - 0s 27ms/step - loss: 0.0105 - mse: 0.0105 - mae: 0.0881\n",
            "Epoch 486/1000\n",
            "1/1 [==============================] - 0s 19ms/step - loss: 0.0105 - mse: 0.0105 - mae: 0.0878\n",
            "Epoch 487/1000\n",
            "1/1 [==============================] - 0s 7ms/step - loss: 0.0104 - mse: 0.0104 - mae: 0.0875\n",
            "Epoch 488/1000\n",
            "1/1 [==============================] - 0s 14ms/step - loss: 0.0103 - mse: 0.0103 - mae: 0.0872\n",
            "Epoch 489/1000\n",
            "1/1 [==============================] - 0s 15ms/step - loss: 0.0103 - mse: 0.0103 - mae: 0.0869\n",
            "Epoch 490/1000\n",
            "1/1 [==============================] - 0s 7ms/step - loss: 0.0102 - mse: 0.0102 - mae: 0.0866\n",
            "Epoch 491/1000\n",
            "1/1 [==============================] - 0s 10ms/step - loss: 0.0101 - mse: 0.0101 - mae: 0.0864\n",
            "Epoch 492/1000\n",
            "1/1 [==============================] - 0s 16ms/step - loss: 0.0101 - mse: 0.0101 - mae: 0.0861\n",
            "Epoch 493/1000\n",
            "1/1 [==============================] - 0s 9ms/step - loss: 0.0100 - mse: 0.0100 - mae: 0.0858\n",
            "Epoch 494/1000\n",
            "1/1 [==============================] - 0s 16ms/step - loss: 0.0099 - mse: 0.0099 - mae: 0.0855\n",
            "Epoch 495/1000\n",
            "1/1 [==============================] - 0s 17ms/step - loss: 0.0099 - mse: 0.0099 - mae: 0.0852\n",
            "Epoch 496/1000\n",
            "1/1 [==============================] - 0s 10ms/step - loss: 0.0098 - mse: 0.0098 - mae: 0.0849\n",
            "Epoch 497/1000\n",
            "1/1 [==============================] - 0s 5ms/step - loss: 0.0097 - mse: 0.0097 - mae: 0.0846\n",
            "Epoch 498/1000\n",
            "1/1 [==============================] - 0s 8ms/step - loss: 0.0097 - mse: 0.0097 - mae: 0.0843\n",
            "Epoch 499/1000\n",
            "1/1 [==============================] - 0s 6ms/step - loss: 0.0096 - mse: 0.0096 - mae: 0.0840\n",
            "Epoch 500/1000\n",
            "1/1 [==============================] - 0s 9ms/step - loss: 0.0095 - mse: 0.0095 - mae: 0.0838\n",
            "Epoch 501/1000\n",
            "1/1 [==============================] - 0s 6ms/step - loss: 0.0095 - mse: 0.0095 - mae: 0.0835\n",
            "Epoch 502/1000\n",
            "1/1 [==============================] - 0s 7ms/step - loss: 0.0094 - mse: 0.0094 - mae: 0.0832\n",
            "Epoch 503/1000\n",
            "1/1 [==============================] - 0s 7ms/step - loss: 0.0093 - mse: 0.0093 - mae: 0.0829\n",
            "Epoch 504/1000\n",
            "1/1 [==============================] - 0s 11ms/step - loss: 0.0093 - mse: 0.0093 - mae: 0.0826\n",
            "Epoch 505/1000\n",
            "1/1 [==============================] - 0s 13ms/step - loss: 0.0092 - mse: 0.0092 - mae: 0.0824\n",
            "Epoch 506/1000\n",
            "1/1 [==============================] - 0s 14ms/step - loss: 0.0091 - mse: 0.0091 - mae: 0.0821\n",
            "Epoch 507/1000\n",
            "1/1 [==============================] - 0s 12ms/step - loss: 0.0091 - mse: 0.0091 - mae: 0.0818\n",
            "Epoch 508/1000\n",
            "1/1 [==============================] - 0s 5ms/step - loss: 0.0090 - mse: 0.0090 - mae: 0.0815\n",
            "Epoch 509/1000\n",
            "1/1 [==============================] - 0s 6ms/step - loss: 0.0090 - mse: 0.0090 - mae: 0.0812\n",
            "Epoch 510/1000\n",
            "1/1 [==============================] - 0s 7ms/step - loss: 0.0089 - mse: 0.0089 - mae: 0.0810\n",
            "Epoch 511/1000\n",
            "1/1 [==============================] - 0s 7ms/step - loss: 0.0088 - mse: 0.0088 - mae: 0.0807\n",
            "Epoch 512/1000\n",
            "1/1 [==============================] - 0s 7ms/step - loss: 0.0088 - mse: 0.0088 - mae: 0.0804\n",
            "Epoch 513/1000\n",
            "1/1 [==============================] - 0s 9ms/step - loss: 0.0087 - mse: 0.0087 - mae: 0.0802\n",
            "Epoch 514/1000\n",
            "1/1 [==============================] - 0s 5ms/step - loss: 0.0087 - mse: 0.0087 - mae: 0.0799\n",
            "Epoch 515/1000\n",
            "1/1 [==============================] - 0s 9ms/step - loss: 0.0086 - mse: 0.0086 - mae: 0.0796\n",
            "Epoch 516/1000\n",
            "1/1 [==============================] - 0s 9ms/step - loss: 0.0085 - mse: 0.0085 - mae: 0.0793\n",
            "Epoch 517/1000\n",
            "1/1 [==============================] - 0s 4ms/step - loss: 0.0085 - mse: 0.0085 - mae: 0.0791\n",
            "Epoch 518/1000\n",
            "1/1 [==============================] - 0s 12ms/step - loss: 0.0084 - mse: 0.0084 - mae: 0.0788\n",
            "Epoch 519/1000\n",
            "1/1 [==============================] - 0s 11ms/step - loss: 0.0084 - mse: 0.0084 - mae: 0.0785\n",
            "Epoch 520/1000\n",
            "1/1 [==============================] - 0s 11ms/step - loss: 0.0083 - mse: 0.0083 - mae: 0.0783\n",
            "Epoch 521/1000\n",
            "1/1 [==============================] - 0s 18ms/step - loss: 0.0083 - mse: 0.0083 - mae: 0.0780\n",
            "Epoch 522/1000\n",
            "1/1 [==============================] - 0s 54ms/step - loss: 0.0082 - mse: 0.0082 - mae: 0.0777\n",
            "Epoch 523/1000\n",
            "1/1 [==============================] - 0s 9ms/step - loss: 0.0081 - mse: 0.0081 - mae: 0.0775\n",
            "Epoch 524/1000\n",
            "1/1 [==============================] - 0s 17ms/step - loss: 0.0081 - mse: 0.0081 - mae: 0.0772\n",
            "Epoch 525/1000\n",
            "1/1 [==============================] - 0s 40ms/step - loss: 0.0080 - mse: 0.0080 - mae: 0.0770\n",
            "Epoch 526/1000\n",
            "1/1 [==============================] - 0s 12ms/step - loss: 0.0080 - mse: 0.0080 - mae: 0.0767\n",
            "Epoch 527/1000\n",
            "1/1 [==============================] - 0s 14ms/step - loss: 0.0079 - mse: 0.0079 - mae: 0.0764\n",
            "Epoch 528/1000\n",
            "1/1 [==============================] - 0s 19ms/step - loss: 0.0079 - mse: 0.0079 - mae: 0.0762\n",
            "Epoch 529/1000\n",
            "1/1 [==============================] - 0s 11ms/step - loss: 0.0078 - mse: 0.0078 - mae: 0.0759\n",
            "Epoch 530/1000\n",
            "1/1 [==============================] - 0s 10ms/step - loss: 0.0078 - mse: 0.0078 - mae: 0.0757\n",
            "Epoch 531/1000\n",
            "1/1 [==============================] - 0s 14ms/step - loss: 0.0077 - mse: 0.0077 - mae: 0.0754\n",
            "Epoch 532/1000\n",
            "1/1 [==============================] - 0s 14ms/step - loss: 0.0077 - mse: 0.0077 - mae: 0.0752\n",
            "Epoch 533/1000\n",
            "1/1 [==============================] - 0s 6ms/step - loss: 0.0076 - mse: 0.0076 - mae: 0.0749\n",
            "Epoch 534/1000\n",
            "1/1 [==============================] - 0s 8ms/step - loss: 0.0076 - mse: 0.0076 - mae: 0.0747\n",
            "Epoch 535/1000\n",
            "1/1 [==============================] - 0s 4ms/step - loss: 0.0075 - mse: 0.0075 - mae: 0.0744\n",
            "Epoch 536/1000\n",
            "1/1 [==============================] - 0s 20ms/step - loss: 0.0075 - mse: 0.0075 - mae: 0.0741\n",
            "Epoch 537/1000\n",
            "1/1 [==============================] - 0s 11ms/step - loss: 0.0074 - mse: 0.0074 - mae: 0.0739\n",
            "Epoch 538/1000\n",
            "1/1 [==============================] - 0s 11ms/step - loss: 0.0074 - mse: 0.0074 - mae: 0.0736\n",
            "Epoch 539/1000\n",
            "1/1 [==============================] - 0s 18ms/step - loss: 0.0073 - mse: 0.0073 - mae: 0.0734\n",
            "Epoch 540/1000\n",
            "1/1 [==============================] - 0s 18ms/step - loss: 0.0073 - mse: 0.0073 - mae: 0.0732\n",
            "Epoch 541/1000\n",
            "1/1 [==============================] - 0s 17ms/step - loss: 0.0072 - mse: 0.0072 - mae: 0.0729\n",
            "Epoch 542/1000\n",
            "1/1 [==============================] - 0s 24ms/step - loss: 0.0072 - mse: 0.0072 - mae: 0.0727\n",
            "Epoch 543/1000\n",
            "1/1 [==============================] - 0s 15ms/step - loss: 0.0071 - mse: 0.0071 - mae: 0.0724\n",
            "Epoch 544/1000\n",
            "1/1 [==============================] - 0s 13ms/step - loss: 0.0071 - mse: 0.0071 - mae: 0.0722\n",
            "Epoch 545/1000\n",
            "1/1 [==============================] - 0s 7ms/step - loss: 0.0070 - mse: 0.0070 - mae: 0.0719\n",
            "Epoch 546/1000\n",
            "1/1 [==============================] - 0s 7ms/step - loss: 0.0070 - mse: 0.0070 - mae: 0.0717\n",
            "Epoch 547/1000\n",
            "1/1 [==============================] - 0s 5ms/step - loss: 0.0069 - mse: 0.0069 - mae: 0.0714\n",
            "Epoch 548/1000\n",
            "1/1 [==============================] - 0s 10ms/step - loss: 0.0069 - mse: 0.0069 - mae: 0.0712\n",
            "Epoch 549/1000\n",
            "1/1 [==============================] - 0s 6ms/step - loss: 0.0068 - mse: 0.0068 - mae: 0.0710\n",
            "Epoch 550/1000\n",
            "1/1 [==============================] - 0s 7ms/step - loss: 0.0068 - mse: 0.0068 - mae: 0.0707\n",
            "Epoch 551/1000\n",
            "1/1 [==============================] - 0s 9ms/step - loss: 0.0067 - mse: 0.0067 - mae: 0.0705\n",
            "Epoch 552/1000\n",
            "1/1 [==============================] - 0s 11ms/step - loss: 0.0067 - mse: 0.0067 - mae: 0.0702\n",
            "Epoch 553/1000\n",
            "1/1 [==============================] - 0s 12ms/step - loss: 0.0067 - mse: 0.0067 - mae: 0.0700\n",
            "Epoch 554/1000\n",
            "1/1 [==============================] - 0s 16ms/step - loss: 0.0066 - mse: 0.0066 - mae: 0.0698\n",
            "Epoch 555/1000\n",
            "1/1 [==============================] - 0s 18ms/step - loss: 0.0066 - mse: 0.0066 - mae: 0.0695\n",
            "Epoch 556/1000\n",
            "1/1 [==============================] - 0s 11ms/step - loss: 0.0065 - mse: 0.0065 - mae: 0.0693\n",
            "Epoch 557/1000\n",
            "1/1 [==============================] - 0s 19ms/step - loss: 0.0065 - mse: 0.0065 - mae: 0.0691\n",
            "Epoch 558/1000\n",
            "1/1 [==============================] - 0s 9ms/step - loss: 0.0064 - mse: 0.0064 - mae: 0.0688\n",
            "Epoch 559/1000\n",
            "1/1 [==============================] - 0s 15ms/step - loss: 0.0064 - mse: 0.0064 - mae: 0.0686\n",
            "Epoch 560/1000\n",
            "1/1 [==============================] - 0s 17ms/step - loss: 0.0063 - mse: 0.0063 - mae: 0.0684\n",
            "Epoch 561/1000\n",
            "1/1 [==============================] - 0s 16ms/step - loss: 0.0063 - mse: 0.0063 - mae: 0.0681\n",
            "Epoch 562/1000\n",
            "1/1 [==============================] - 0s 10ms/step - loss: 0.0063 - mse: 0.0063 - mae: 0.0679\n",
            "Epoch 563/1000\n",
            "1/1 [==============================] - 0s 22ms/step - loss: 0.0062 - mse: 0.0062 - mae: 0.0677\n",
            "Epoch 564/1000\n",
            "1/1 [==============================] - 0s 7ms/step - loss: 0.0062 - mse: 0.0062 - mae: 0.0674\n",
            "Epoch 565/1000\n",
            "1/1 [==============================] - 0s 15ms/step - loss: 0.0061 - mse: 0.0061 - mae: 0.0672\n",
            "Epoch 566/1000\n",
            "1/1 [==============================] - 0s 11ms/step - loss: 0.0061 - mse: 0.0061 - mae: 0.0670\n",
            "Epoch 567/1000\n",
            "1/1 [==============================] - 0s 14ms/step - loss: 0.0060 - mse: 0.0060 - mae: 0.0668\n",
            "Epoch 568/1000\n",
            "1/1 [==============================] - 0s 10ms/step - loss: 0.0060 - mse: 0.0060 - mae: 0.0665\n",
            "Epoch 569/1000\n",
            "1/1 [==============================] - 0s 24ms/step - loss: 0.0060 - mse: 0.0060 - mae: 0.0663\n",
            "Epoch 570/1000\n",
            "1/1 [==============================] - 0s 13ms/step - loss: 0.0059 - mse: 0.0059 - mae: 0.0661\n",
            "Epoch 571/1000\n",
            "1/1 [==============================] - 0s 13ms/step - loss: 0.0059 - mse: 0.0059 - mae: 0.0659\n",
            "Epoch 572/1000\n",
            "1/1 [==============================] - 0s 16ms/step - loss: 0.0058 - mse: 0.0058 - mae: 0.0656\n",
            "Epoch 573/1000\n",
            "1/1 [==============================] - 0s 20ms/step - loss: 0.0058 - mse: 0.0058 - mae: 0.0654\n",
            "Epoch 574/1000\n",
            "1/1 [==============================] - 0s 15ms/step - loss: 0.0058 - mse: 0.0058 - mae: 0.0652\n",
            "Epoch 575/1000\n",
            "1/1 [==============================] - 0s 21ms/step - loss: 0.0057 - mse: 0.0057 - mae: 0.0650\n",
            "Epoch 576/1000\n",
            "1/1 [==============================] - 0s 18ms/step - loss: 0.0057 - mse: 0.0057 - mae: 0.0648\n",
            "Epoch 577/1000\n",
            "1/1 [==============================] - 0s 14ms/step - loss: 0.0057 - mse: 0.0057 - mae: 0.0645\n",
            "Epoch 578/1000\n",
            "1/1 [==============================] - 0s 14ms/step - loss: 0.0056 - mse: 0.0056 - mae: 0.0643\n",
            "Epoch 579/1000\n",
            "1/1 [==============================] - 0s 12ms/step - loss: 0.0056 - mse: 0.0056 - mae: 0.0641\n",
            "Epoch 580/1000\n",
            "1/1 [==============================] - 0s 18ms/step - loss: 0.0055 - mse: 0.0055 - mae: 0.0639\n",
            "Epoch 581/1000\n",
            "1/1 [==============================] - 0s 13ms/step - loss: 0.0055 - mse: 0.0055 - mae: 0.0637\n",
            "Epoch 582/1000\n",
            "1/1 [==============================] - 0s 15ms/step - loss: 0.0055 - mse: 0.0055 - mae: 0.0635\n",
            "Epoch 583/1000\n",
            "1/1 [==============================] - 0s 10ms/step - loss: 0.0054 - mse: 0.0054 - mae: 0.0632\n",
            "Epoch 584/1000\n",
            "1/1 [==============================] - 0s 8ms/step - loss: 0.0054 - mse: 0.0054 - mae: 0.0630\n",
            "Epoch 585/1000\n",
            "1/1 [==============================] - 0s 4ms/step - loss: 0.0054 - mse: 0.0054 - mae: 0.0628\n",
            "Epoch 586/1000\n",
            "1/1 [==============================] - 0s 11ms/step - loss: 0.0053 - mse: 0.0053 - mae: 0.0626\n",
            "Epoch 587/1000\n",
            "1/1 [==============================] - 0s 10ms/step - loss: 0.0053 - mse: 0.0053 - mae: 0.0624\n",
            "Epoch 588/1000\n",
            "1/1 [==============================] - 0s 13ms/step - loss: 0.0052 - mse: 0.0052 - mae: 0.0622\n",
            "Epoch 589/1000\n",
            "1/1 [==============================] - 0s 16ms/step - loss: 0.0052 - mse: 0.0052 - mae: 0.0620\n",
            "Epoch 590/1000\n",
            "1/1 [==============================] - 0s 7ms/step - loss: 0.0052 - mse: 0.0052 - mae: 0.0618\n",
            "Epoch 591/1000\n",
            "1/1 [==============================] - 0s 21ms/step - loss: 0.0051 - mse: 0.0051 - mae: 0.0615\n",
            "Epoch 592/1000\n",
            "1/1 [==============================] - 0s 12ms/step - loss: 0.0051 - mse: 0.0051 - mae: 0.0613\n",
            "Epoch 593/1000\n",
            "1/1 [==============================] - 0s 12ms/step - loss: 0.0051 - mse: 0.0051 - mae: 0.0611\n",
            "Epoch 594/1000\n",
            "1/1 [==============================] - 0s 18ms/step - loss: 0.0050 - mse: 0.0050 - mae: 0.0609\n",
            "Epoch 595/1000\n",
            "1/1 [==============================] - 0s 15ms/step - loss: 0.0050 - mse: 0.0050 - mae: 0.0607\n",
            "Epoch 596/1000\n",
            "1/1 [==============================] - 0s 19ms/step - loss: 0.0050 - mse: 0.0050 - mae: 0.0605\n",
            "Epoch 597/1000\n",
            "1/1 [==============================] - 0s 10ms/step - loss: 0.0049 - mse: 0.0049 - mae: 0.0603\n",
            "Epoch 598/1000\n",
            "1/1 [==============================] - 0s 12ms/step - loss: 0.0049 - mse: 0.0049 - mae: 0.0601\n",
            "Epoch 599/1000\n",
            "1/1 [==============================] - 0s 6ms/step - loss: 0.0049 - mse: 0.0049 - mae: 0.0599\n",
            "Epoch 600/1000\n",
            "1/1 [==============================] - 0s 9ms/step - loss: 0.0048 - mse: 0.0048 - mae: 0.0597\n",
            "Epoch 601/1000\n",
            "1/1 [==============================] - 0s 8ms/step - loss: 0.0048 - mse: 0.0048 - mae: 0.0595\n",
            "Epoch 602/1000\n",
            "1/1 [==============================] - 0s 8ms/step - loss: 0.0048 - mse: 0.0048 - mae: 0.0593\n",
            "Epoch 603/1000\n",
            "1/1 [==============================] - 0s 4ms/step - loss: 0.0047 - mse: 0.0047 - mae: 0.0591\n",
            "Epoch 604/1000\n",
            "1/1 [==============================] - 0s 12ms/step - loss: 0.0047 - mse: 0.0047 - mae: 0.0589\n",
            "Epoch 605/1000\n",
            "1/1 [==============================] - 0s 15ms/step - loss: 0.0047 - mse: 0.0047 - mae: 0.0587\n",
            "Epoch 606/1000\n",
            "1/1 [==============================] - 0s 14ms/step - loss: 0.0046 - mse: 0.0046 - mae: 0.0585\n",
            "Epoch 607/1000\n",
            "1/1 [==============================] - 0s 10ms/step - loss: 0.0046 - mse: 0.0046 - mae: 0.0583\n",
            "Epoch 608/1000\n",
            "1/1 [==============================] - 0s 4ms/step - loss: 0.0046 - mse: 0.0046 - mae: 0.0581\n",
            "Epoch 609/1000\n",
            "1/1 [==============================] - 0s 9ms/step - loss: 0.0046 - mse: 0.0046 - mae: 0.0579\n",
            "Epoch 610/1000\n",
            "1/1 [==============================] - 0s 10ms/step - loss: 0.0045 - mse: 0.0045 - mae: 0.0577\n",
            "Epoch 611/1000\n",
            "1/1 [==============================] - 0s 25ms/step - loss: 0.0045 - mse: 0.0045 - mae: 0.0575\n",
            "Epoch 612/1000\n",
            "1/1 [==============================] - 0s 10ms/step - loss: 0.0045 - mse: 0.0045 - mae: 0.0573\n",
            "Epoch 613/1000\n",
            "1/1 [==============================] - 0s 14ms/step - loss: 0.0044 - mse: 0.0044 - mae: 0.0571\n",
            "Epoch 614/1000\n",
            "1/1 [==============================] - 0s 7ms/step - loss: 0.0044 - mse: 0.0044 - mae: 0.0569\n",
            "Epoch 615/1000\n",
            "1/1 [==============================] - 0s 6ms/step - loss: 0.0044 - mse: 0.0044 - mae: 0.0567\n",
            "Epoch 616/1000\n",
            "1/1 [==============================] - 0s 8ms/step - loss: 0.0043 - mse: 0.0043 - mae: 0.0566\n",
            "Epoch 617/1000\n",
            "1/1 [==============================] - 0s 13ms/step - loss: 0.0043 - mse: 0.0043 - mae: 0.0564\n",
            "Epoch 618/1000\n",
            "1/1 [==============================] - 0s 7ms/step - loss: 0.0043 - mse: 0.0043 - mae: 0.0562\n",
            "Epoch 619/1000\n",
            "1/1 [==============================] - 0s 18ms/step - loss: 0.0043 - mse: 0.0043 - mae: 0.0560\n",
            "Epoch 620/1000\n",
            "1/1 [==============================] - 0s 8ms/step - loss: 0.0042 - mse: 0.0042 - mae: 0.0558\n",
            "Epoch 621/1000\n",
            "1/1 [==============================] - 0s 11ms/step - loss: 0.0042 - mse: 0.0042 - mae: 0.0556\n",
            "Epoch 622/1000\n",
            "1/1 [==============================] - 0s 9ms/step - loss: 0.0042 - mse: 0.0042 - mae: 0.0554\n",
            "Epoch 623/1000\n",
            "1/1 [==============================] - 0s 9ms/step - loss: 0.0041 - mse: 0.0041 - mae: 0.0552\n",
            "Epoch 624/1000\n",
            "1/1 [==============================] - 0s 5ms/step - loss: 0.0041 - mse: 0.0041 - mae: 0.0550\n",
            "Epoch 625/1000\n",
            "1/1 [==============================] - 0s 20ms/step - loss: 0.0041 - mse: 0.0041 - mae: 0.0549\n",
            "Epoch 626/1000\n",
            "1/1 [==============================] - 0s 11ms/step - loss: 0.0041 - mse: 0.0041 - mae: 0.0547\n",
            "Epoch 627/1000\n",
            "1/1 [==============================] - 0s 9ms/step - loss: 0.0040 - mse: 0.0040 - mae: 0.0545\n",
            "Epoch 628/1000\n",
            "1/1 [==============================] - 0s 6ms/step - loss: 0.0040 - mse: 0.0040 - mae: 0.0543\n",
            "Epoch 629/1000\n",
            "1/1 [==============================] - 0s 7ms/step - loss: 0.0040 - mse: 0.0040 - mae: 0.0541\n",
            "Epoch 630/1000\n",
            "1/1 [==============================] - 0s 12ms/step - loss: 0.0039 - mse: 0.0039 - mae: 0.0539\n",
            "Epoch 631/1000\n",
            "1/1 [==============================] - 0s 11ms/step - loss: 0.0039 - mse: 0.0039 - mae: 0.0537\n",
            "Epoch 632/1000\n",
            "1/1 [==============================] - 0s 9ms/step - loss: 0.0039 - mse: 0.0039 - mae: 0.0536\n",
            "Epoch 633/1000\n",
            "1/1 [==============================] - 0s 7ms/step - loss: 0.0039 - mse: 0.0039 - mae: 0.0534\n",
            "Epoch 634/1000\n",
            "1/1 [==============================] - 0s 12ms/step - loss: 0.0038 - mse: 0.0038 - mae: 0.0532\n",
            "Epoch 635/1000\n",
            "1/1 [==============================] - 0s 11ms/step - loss: 0.0038 - mse: 0.0038 - mae: 0.0530\n",
            "Epoch 636/1000\n",
            "1/1 [==============================] - 0s 21ms/step - loss: 0.0038 - mse: 0.0038 - mae: 0.0528\n",
            "Epoch 637/1000\n",
            "1/1 [==============================] - 0s 16ms/step - loss: 0.0038 - mse: 0.0038 - mae: 0.0527\n",
            "Epoch 638/1000\n",
            "1/1 [==============================] - 0s 12ms/step - loss: 0.0037 - mse: 0.0037 - mae: 0.0525\n",
            "Epoch 639/1000\n",
            "1/1 [==============================] - 0s 13ms/step - loss: 0.0037 - mse: 0.0037 - mae: 0.0523\n",
            "Epoch 640/1000\n",
            "1/1 [==============================] - 0s 21ms/step - loss: 0.0037 - mse: 0.0037 - mae: 0.0521\n",
            "Epoch 641/1000\n",
            "1/1 [==============================] - 0s 14ms/step - loss: 0.0037 - mse: 0.0037 - mae: 0.0520\n",
            "Epoch 642/1000\n",
            "1/1 [==============================] - 0s 15ms/step - loss: 0.0036 - mse: 0.0036 - mae: 0.0518\n",
            "Epoch 643/1000\n",
            "1/1 [==============================] - 0s 9ms/step - loss: 0.0036 - mse: 0.0036 - mae: 0.0516\n",
            "Epoch 644/1000\n",
            "1/1 [==============================] - 0s 9ms/step - loss: 0.0036 - mse: 0.0036 - mae: 0.0514\n",
            "Epoch 645/1000\n",
            "1/1 [==============================] - 0s 9ms/step - loss: 0.0036 - mse: 0.0036 - mae: 0.0513\n",
            "Epoch 646/1000\n",
            "1/1 [==============================] - 0s 22ms/step - loss: 0.0035 - mse: 0.0035 - mae: 0.0511\n",
            "Epoch 647/1000\n",
            "1/1 [==============================] - 0s 11ms/step - loss: 0.0035 - mse: 0.0035 - mae: 0.0509\n",
            "Epoch 648/1000\n",
            "1/1 [==============================] - 0s 12ms/step - loss: 0.0035 - mse: 0.0035 - mae: 0.0507\n",
            "Epoch 649/1000\n",
            "1/1 [==============================] - 0s 19ms/step - loss: 0.0035 - mse: 0.0035 - mae: 0.0506\n",
            "Epoch 650/1000\n",
            "1/1 [==============================] - 0s 9ms/step - loss: 0.0034 - mse: 0.0034 - mae: 0.0504\n",
            "Epoch 651/1000\n",
            "1/1 [==============================] - 0s 6ms/step - loss: 0.0034 - mse: 0.0034 - mae: 0.0502\n",
            "Epoch 652/1000\n",
            "1/1 [==============================] - 0s 16ms/step - loss: 0.0034 - mse: 0.0034 - mae: 0.0501\n",
            "Epoch 653/1000\n",
            "1/1 [==============================] - 0s 17ms/step - loss: 0.0034 - mse: 0.0034 - mae: 0.0499\n",
            "Epoch 654/1000\n",
            "1/1 [==============================] - 0s 7ms/step - loss: 0.0034 - mse: 0.0034 - mae: 0.0497\n",
            "Epoch 655/1000\n",
            "1/1 [==============================] - 0s 10ms/step - loss: 0.0033 - mse: 0.0033 - mae: 0.0496\n",
            "Epoch 656/1000\n",
            "1/1 [==============================] - 0s 15ms/step - loss: 0.0033 - mse: 0.0033 - mae: 0.0494\n",
            "Epoch 657/1000\n",
            "1/1 [==============================] - 0s 11ms/step - loss: 0.0033 - mse: 0.0033 - mae: 0.0492\n",
            "Epoch 658/1000\n",
            "1/1 [==============================] - 0s 12ms/step - loss: 0.0033 - mse: 0.0033 - mae: 0.0491\n",
            "Epoch 659/1000\n",
            "1/1 [==============================] - 0s 20ms/step - loss: 0.0032 - mse: 0.0032 - mae: 0.0489\n",
            "Epoch 660/1000\n",
            "1/1 [==============================] - 0s 10ms/step - loss: 0.0032 - mse: 0.0032 - mae: 0.0487\n",
            "Epoch 661/1000\n",
            "1/1 [==============================] - 0s 21ms/step - loss: 0.0032 - mse: 0.0032 - mae: 0.0486\n",
            "Epoch 662/1000\n",
            "1/1 [==============================] - 0s 6ms/step - loss: 0.0032 - mse: 0.0032 - mae: 0.0484\n",
            "Epoch 663/1000\n",
            "1/1 [==============================] - 0s 5ms/step - loss: 0.0032 - mse: 0.0032 - mae: 0.0482\n",
            "Epoch 664/1000\n",
            "1/1 [==============================] - 0s 12ms/step - loss: 0.0031 - mse: 0.0031 - mae: 0.0481\n",
            "Epoch 665/1000\n",
            "1/1 [==============================] - 0s 16ms/step - loss: 0.0031 - mse: 0.0031 - mae: 0.0479\n",
            "Epoch 666/1000\n",
            "1/1 [==============================] - 0s 12ms/step - loss: 0.0031 - mse: 0.0031 - mae: 0.0477\n",
            "Epoch 667/1000\n",
            "1/1 [==============================] - 0s 10ms/step - loss: 0.0031 - mse: 0.0031 - mae: 0.0476\n",
            "Epoch 668/1000\n",
            "1/1 [==============================] - 0s 5ms/step - loss: 0.0031 - mse: 0.0031 - mae: 0.0474\n",
            "Epoch 669/1000\n",
            "1/1 [==============================] - 0s 6ms/step - loss: 0.0030 - mse: 0.0030 - mae: 0.0473\n",
            "Epoch 670/1000\n",
            "1/1 [==============================] - 0s 9ms/step - loss: 0.0030 - mse: 0.0030 - mae: 0.0471\n",
            "Epoch 671/1000\n",
            "1/1 [==============================] - 0s 12ms/step - loss: 0.0030 - mse: 0.0030 - mae: 0.0469\n",
            "Epoch 672/1000\n",
            "1/1 [==============================] - 0s 12ms/step - loss: 0.0030 - mse: 0.0030 - mae: 0.0468\n",
            "Epoch 673/1000\n",
            "1/1 [==============================] - 0s 12ms/step - loss: 0.0030 - mse: 0.0030 - mae: 0.0466\n",
            "Epoch 674/1000\n",
            "1/1 [==============================] - 0s 15ms/step - loss: 0.0029 - mse: 0.0029 - mae: 0.0465\n",
            "Epoch 675/1000\n",
            "1/1 [==============================] - 0s 11ms/step - loss: 0.0029 - mse: 0.0029 - mae: 0.0463\n",
            "Epoch 676/1000\n",
            "1/1 [==============================] - 0s 19ms/step - loss: 0.0029 - mse: 0.0029 - mae: 0.0462\n",
            "Epoch 677/1000\n",
            "1/1 [==============================] - 0s 13ms/step - loss: 0.0029 - mse: 0.0029 - mae: 0.0460\n",
            "Epoch 678/1000\n",
            "1/1 [==============================] - 0s 12ms/step - loss: 0.0029 - mse: 0.0029 - mae: 0.0458\n",
            "Epoch 679/1000\n",
            "1/1 [==============================] - 0s 7ms/step - loss: 0.0028 - mse: 0.0028 - mae: 0.0457\n",
            "Epoch 680/1000\n",
            "1/1 [==============================] - 0s 12ms/step - loss: 0.0028 - mse: 0.0028 - mae: 0.0455\n",
            "Epoch 681/1000\n",
            "1/1 [==============================] - 0s 12ms/step - loss: 0.0028 - mse: 0.0028 - mae: 0.0454\n",
            "Epoch 682/1000\n",
            "1/1 [==============================] - 0s 10ms/step - loss: 0.0028 - mse: 0.0028 - mae: 0.0452\n",
            "Epoch 683/1000\n",
            "1/1 [==============================] - 0s 8ms/step - loss: 0.0028 - mse: 0.0028 - mae: 0.0451\n",
            "Epoch 684/1000\n",
            "1/1 [==============================] - 0s 12ms/step - loss: 0.0027 - mse: 0.0027 - mae: 0.0449\n",
            "Epoch 685/1000\n",
            "1/1 [==============================] - 0s 15ms/step - loss: 0.0027 - mse: 0.0027 - mae: 0.0448\n",
            "Epoch 686/1000\n",
            "1/1 [==============================] - 0s 13ms/step - loss: 0.0027 - mse: 0.0027 - mae: 0.0446\n",
            "Epoch 687/1000\n",
            "1/1 [==============================] - 0s 18ms/step - loss: 0.0027 - mse: 0.0027 - mae: 0.0445\n",
            "Epoch 688/1000\n",
            "1/1 [==============================] - 0s 9ms/step - loss: 0.0027 - mse: 0.0027 - mae: 0.0443\n",
            "Epoch 689/1000\n",
            "1/1 [==============================] - 0s 12ms/step - loss: 0.0026 - mse: 0.0026 - mae: 0.0442\n",
            "Epoch 690/1000\n",
            "1/1 [==============================] - 0s 17ms/step - loss: 0.0026 - mse: 0.0026 - mae: 0.0440\n",
            "Epoch 691/1000\n",
            "1/1 [==============================] - 0s 5ms/step - loss: 0.0026 - mse: 0.0026 - mae: 0.0439\n",
            "Epoch 692/1000\n",
            "1/1 [==============================] - 0s 12ms/step - loss: 0.0026 - mse: 0.0026 - mae: 0.0437\n",
            "Epoch 693/1000\n",
            "1/1 [==============================] - 0s 10ms/step - loss: 0.0026 - mse: 0.0026 - mae: 0.0436\n",
            "Epoch 694/1000\n",
            "1/1 [==============================] - 0s 12ms/step - loss: 0.0026 - mse: 0.0026 - mae: 0.0434\n",
            "Epoch 695/1000\n",
            "1/1 [==============================] - 0s 19ms/step - loss: 0.0025 - mse: 0.0025 - mae: 0.0433\n",
            "Epoch 696/1000\n",
            "1/1 [==============================] - 0s 5ms/step - loss: 0.0025 - mse: 0.0025 - mae: 0.0431\n",
            "Epoch 697/1000\n",
            "1/1 [==============================] - 0s 20ms/step - loss: 0.0025 - mse: 0.0025 - mae: 0.0430\n",
            "Epoch 698/1000\n",
            "1/1 [==============================] - 0s 11ms/step - loss: 0.0025 - mse: 0.0025 - mae: 0.0428\n",
            "Epoch 699/1000\n",
            "1/1 [==============================] - 0s 23ms/step - loss: 0.0025 - mse: 0.0025 - mae: 0.0427\n",
            "Epoch 700/1000\n",
            "1/1 [==============================] - 0s 15ms/step - loss: 0.0025 - mse: 0.0025 - mae: 0.0425\n",
            "Epoch 701/1000\n",
            "1/1 [==============================] - 0s 5ms/step - loss: 0.0024 - mse: 0.0024 - mae: 0.0424\n",
            "Epoch 702/1000\n",
            "1/1 [==============================] - 0s 6ms/step - loss: 0.0024 - mse: 0.0024 - mae: 0.0423\n",
            "Epoch 703/1000\n",
            "1/1 [==============================] - 0s 11ms/step - loss: 0.0024 - mse: 0.0024 - mae: 0.0421\n",
            "Epoch 704/1000\n",
            "1/1 [==============================] - 0s 12ms/step - loss: 0.0024 - mse: 0.0024 - mae: 0.0420\n",
            "Epoch 705/1000\n",
            "1/1 [==============================] - 0s 11ms/step - loss: 0.0024 - mse: 0.0024 - mae: 0.0418\n",
            "Epoch 706/1000\n",
            "1/1 [==============================] - 0s 12ms/step - loss: 0.0024 - mse: 0.0024 - mae: 0.0417\n",
            "Epoch 707/1000\n",
            "1/1 [==============================] - 0s 11ms/step - loss: 0.0023 - mse: 0.0023 - mae: 0.0416\n",
            "Epoch 708/1000\n",
            "1/1 [==============================] - 0s 12ms/step - loss: 0.0023 - mse: 0.0023 - mae: 0.0414\n",
            "Epoch 709/1000\n",
            "1/1 [==============================] - 0s 8ms/step - loss: 0.0023 - mse: 0.0023 - mae: 0.0413\n",
            "Epoch 710/1000\n",
            "1/1 [==============================] - 0s 10ms/step - loss: 0.0023 - mse: 0.0023 - mae: 0.0411\n",
            "Epoch 711/1000\n",
            "1/1 [==============================] - 0s 13ms/step - loss: 0.0023 - mse: 0.0023 - mae: 0.0410\n",
            "Epoch 712/1000\n",
            "1/1 [==============================] - 0s 11ms/step - loss: 0.0023 - mse: 0.0023 - mae: 0.0409\n",
            "Epoch 713/1000\n",
            "1/1 [==============================] - 0s 14ms/step - loss: 0.0023 - mse: 0.0023 - mae: 0.0407\n",
            "Epoch 714/1000\n",
            "1/1 [==============================] - 0s 11ms/step - loss: 0.0022 - mse: 0.0022 - mae: 0.0406\n",
            "Epoch 715/1000\n",
            "1/1 [==============================] - 0s 5ms/step - loss: 0.0022 - mse: 0.0022 - mae: 0.0404\n",
            "Epoch 716/1000\n",
            "1/1 [==============================] - 0s 7ms/step - loss: 0.0022 - mse: 0.0022 - mae: 0.0403\n",
            "Epoch 717/1000\n",
            "1/1 [==============================] - 0s 6ms/step - loss: 0.0022 - mse: 0.0022 - mae: 0.0402\n",
            "Epoch 718/1000\n",
            "1/1 [==============================] - 0s 9ms/step - loss: 0.0022 - mse: 0.0022 - mae: 0.0400\n",
            "Epoch 719/1000\n",
            "1/1 [==============================] - 0s 12ms/step - loss: 0.0022 - mse: 0.0022 - mae: 0.0399\n",
            "Epoch 720/1000\n",
            "1/1 [==============================] - 0s 7ms/step - loss: 0.0021 - mse: 0.0021 - mae: 0.0398\n",
            "Epoch 721/1000\n",
            "1/1 [==============================] - 0s 9ms/step - loss: 0.0021 - mse: 0.0021 - mae: 0.0396\n",
            "Epoch 722/1000\n",
            "1/1 [==============================] - 0s 12ms/step - loss: 0.0021 - mse: 0.0021 - mae: 0.0395\n",
            "Epoch 723/1000\n",
            "1/1 [==============================] - 0s 18ms/step - loss: 0.0021 - mse: 0.0021 - mae: 0.0394\n",
            "Epoch 724/1000\n",
            "1/1 [==============================] - 0s 22ms/step - loss: 0.0021 - mse: 0.0021 - mae: 0.0392\n",
            "Epoch 725/1000\n",
            "1/1 [==============================] - 0s 16ms/step - loss: 0.0021 - mse: 0.0021 - mae: 0.0391\n",
            "Epoch 726/1000\n",
            "1/1 [==============================] - 0s 10ms/step - loss: 0.0021 - mse: 0.0021 - mae: 0.0390\n",
            "Epoch 727/1000\n",
            "1/1 [==============================] - 0s 19ms/step - loss: 0.0020 - mse: 0.0020 - mae: 0.0388\n",
            "Epoch 728/1000\n",
            "1/1 [==============================] - 0s 19ms/step - loss: 0.0020 - mse: 0.0020 - mae: 0.0387\n",
            "Epoch 729/1000\n",
            "1/1 [==============================] - 0s 15ms/step - loss: 0.0020 - mse: 0.0020 - mae: 0.0386\n",
            "Epoch 730/1000\n",
            "1/1 [==============================] - 0s 18ms/step - loss: 0.0020 - mse: 0.0020 - mae: 0.0384\n",
            "Epoch 731/1000\n",
            "1/1 [==============================] - 0s 13ms/step - loss: 0.0020 - mse: 0.0020 - mae: 0.0383\n",
            "Epoch 732/1000\n",
            "1/1 [==============================] - 0s 7ms/step - loss: 0.0020 - mse: 0.0020 - mae: 0.0382\n",
            "Epoch 733/1000\n",
            "1/1 [==============================] - 0s 9ms/step - loss: 0.0020 - mse: 0.0020 - mae: 0.0381\n",
            "Epoch 734/1000\n",
            "1/1 [==============================] - 0s 15ms/step - loss: 0.0020 - mse: 0.0020 - mae: 0.0379\n",
            "Epoch 735/1000\n",
            "1/1 [==============================] - 0s 7ms/step - loss: 0.0019 - mse: 0.0019 - mae: 0.0378\n",
            "Epoch 736/1000\n",
            "1/1 [==============================] - 0s 28ms/step - loss: 0.0019 - mse: 0.0019 - mae: 0.0377\n",
            "Epoch 737/1000\n",
            "1/1 [==============================] - 0s 6ms/step - loss: 0.0019 - mse: 0.0019 - mae: 0.0375\n",
            "Epoch 738/1000\n",
            "1/1 [==============================] - 0s 8ms/step - loss: 0.0019 - mse: 0.0019 - mae: 0.0374\n",
            "Epoch 739/1000\n",
            "1/1 [==============================] - 0s 14ms/step - loss: 0.0019 - mse: 0.0019 - mae: 0.0373\n",
            "Epoch 740/1000\n",
            "1/1 [==============================] - 0s 15ms/step - loss: 0.0019 - mse: 0.0019 - mae: 0.0372\n",
            "Epoch 741/1000\n",
            "1/1 [==============================] - 0s 12ms/step - loss: 0.0019 - mse: 0.0019 - mae: 0.0370\n",
            "Epoch 742/1000\n",
            "1/1 [==============================] - 0s 16ms/step - loss: 0.0018 - mse: 0.0018 - mae: 0.0369\n",
            "Epoch 743/1000\n",
            "1/1 [==============================] - 0s 12ms/step - loss: 0.0018 - mse: 0.0018 - mae: 0.0368\n",
            "Epoch 744/1000\n",
            "1/1 [==============================] - 0s 10ms/step - loss: 0.0018 - mse: 0.0018 - mae: 0.0367\n",
            "Epoch 745/1000\n",
            "1/1 [==============================] - 0s 20ms/step - loss: 0.0018 - mse: 0.0018 - mae: 0.0365\n",
            "Epoch 746/1000\n",
            "1/1 [==============================] - 0s 13ms/step - loss: 0.0018 - mse: 0.0018 - mae: 0.0364\n",
            "Epoch 747/1000\n",
            "1/1 [==============================] - 0s 11ms/step - loss: 0.0018 - mse: 0.0018 - mae: 0.0363\n",
            "Epoch 748/1000\n",
            "1/1 [==============================] - 0s 11ms/step - loss: 0.0018 - mse: 0.0018 - mae: 0.0362\n",
            "Epoch 749/1000\n",
            "1/1 [==============================] - 0s 11ms/step - loss: 0.0018 - mse: 0.0018 - mae: 0.0360\n",
            "Epoch 750/1000\n",
            "1/1 [==============================] - 0s 10ms/step - loss: 0.0018 - mse: 0.0018 - mae: 0.0359\n",
            "Epoch 751/1000\n",
            "1/1 [==============================] - 0s 11ms/step - loss: 0.0017 - mse: 0.0017 - mae: 0.0358\n",
            "Epoch 752/1000\n",
            "1/1 [==============================] - 0s 8ms/step - loss: 0.0017 - mse: 0.0017 - mae: 0.0357\n",
            "Epoch 753/1000\n",
            "1/1 [==============================] - 0s 10ms/step - loss: 0.0017 - mse: 0.0017 - mae: 0.0356\n",
            "Epoch 754/1000\n",
            "1/1 [==============================] - 0s 11ms/step - loss: 0.0017 - mse: 0.0017 - mae: 0.0354\n",
            "Epoch 755/1000\n",
            "1/1 [==============================] - 0s 10ms/step - loss: 0.0017 - mse: 0.0017 - mae: 0.0353\n",
            "Epoch 756/1000\n",
            "1/1 [==============================] - 0s 14ms/step - loss: 0.0017 - mse: 0.0017 - mae: 0.0352\n",
            "Epoch 757/1000\n",
            "1/1 [==============================] - 0s 19ms/step - loss: 0.0017 - mse: 0.0017 - mae: 0.0351\n",
            "Epoch 758/1000\n",
            "1/1 [==============================] - 0s 11ms/step - loss: 0.0017 - mse: 0.0017 - mae: 0.0350\n",
            "Epoch 759/1000\n",
            "1/1 [==============================] - 0s 9ms/step - loss: 0.0016 - mse: 0.0016 - mae: 0.0348\n",
            "Epoch 760/1000\n",
            "1/1 [==============================] - 0s 13ms/step - loss: 0.0016 - mse: 0.0016 - mae: 0.0347\n",
            "Epoch 761/1000\n",
            "1/1 [==============================] - 0s 12ms/step - loss: 0.0016 - mse: 0.0016 - mae: 0.0346\n",
            "Epoch 762/1000\n",
            "1/1 [==============================] - 0s 13ms/step - loss: 0.0016 - mse: 0.0016 - mae: 0.0345\n",
            "Epoch 763/1000\n",
            "1/1 [==============================] - 0s 14ms/step - loss: 0.0016 - mse: 0.0016 - mae: 0.0344\n",
            "Epoch 764/1000\n",
            "1/1 [==============================] - 0s 12ms/step - loss: 0.0016 - mse: 0.0016 - mae: 0.0343\n",
            "Epoch 765/1000\n",
            "1/1 [==============================] - 0s 16ms/step - loss: 0.0016 - mse: 0.0016 - mae: 0.0341\n",
            "Epoch 766/1000\n",
            "1/1 [==============================] - 0s 14ms/step - loss: 0.0016 - mse: 0.0016 - mae: 0.0340\n",
            "Epoch 767/1000\n",
            "1/1 [==============================] - 0s 12ms/step - loss: 0.0016 - mse: 0.0016 - mae: 0.0339\n",
            "Epoch 768/1000\n",
            "1/1 [==============================] - 0s 17ms/step - loss: 0.0016 - mse: 0.0016 - mae: 0.0338\n",
            "Epoch 769/1000\n",
            "1/1 [==============================] - 0s 13ms/step - loss: 0.0015 - mse: 0.0015 - mae: 0.0337\n",
            "Epoch 770/1000\n",
            "1/1 [==============================] - 0s 10ms/step - loss: 0.0015 - mse: 0.0015 - mae: 0.0336\n",
            "Epoch 771/1000\n",
            "1/1 [==============================] - 0s 14ms/step - loss: 0.0015 - mse: 0.0015 - mae: 0.0335\n",
            "Epoch 772/1000\n",
            "1/1 [==============================] - 0s 10ms/step - loss: 0.0015 - mse: 0.0015 - mae: 0.0333\n",
            "Epoch 773/1000\n",
            "1/1 [==============================] - 0s 13ms/step - loss: 0.0015 - mse: 0.0015 - mae: 0.0332\n",
            "Epoch 774/1000\n",
            "1/1 [==============================] - 0s 19ms/step - loss: 0.0015 - mse: 0.0015 - mae: 0.0331\n",
            "Epoch 775/1000\n",
            "1/1 [==============================] - 0s 24ms/step - loss: 0.0015 - mse: 0.0015 - mae: 0.0330\n",
            "Epoch 776/1000\n",
            "1/1 [==============================] - 0s 26ms/step - loss: 0.0015 - mse: 0.0015 - mae: 0.0329\n",
            "Epoch 777/1000\n",
            "1/1 [==============================] - 0s 14ms/step - loss: 0.0015 - mse: 0.0015 - mae: 0.0328\n",
            "Epoch 778/1000\n",
            "1/1 [==============================] - 0s 14ms/step - loss: 0.0014 - mse: 0.0014 - mae: 0.0327\n",
            "Epoch 779/1000\n",
            "1/1 [==============================] - 0s 8ms/step - loss: 0.0014 - mse: 0.0014 - mae: 0.0326\n",
            "Epoch 780/1000\n",
            "1/1 [==============================] - 0s 13ms/step - loss: 0.0014 - mse: 0.0014 - mae: 0.0325\n",
            "Epoch 781/1000\n",
            "1/1 [==============================] - 0s 12ms/step - loss: 0.0014 - mse: 0.0014 - mae: 0.0323\n",
            "Epoch 782/1000\n",
            "1/1 [==============================] - 0s 11ms/step - loss: 0.0014 - mse: 0.0014 - mae: 0.0322\n",
            "Epoch 783/1000\n",
            "1/1 [==============================] - 0s 9ms/step - loss: 0.0014 - mse: 0.0014 - mae: 0.0321\n",
            "Epoch 784/1000\n",
            "1/1 [==============================] - 0s 13ms/step - loss: 0.0014 - mse: 0.0014 - mae: 0.0320\n",
            "Epoch 785/1000\n",
            "1/1 [==============================] - 0s 8ms/step - loss: 0.0014 - mse: 0.0014 - mae: 0.0319\n",
            "Epoch 786/1000\n",
            "1/1 [==============================] - 0s 18ms/step - loss: 0.0014 - mse: 0.0014 - mae: 0.0318\n",
            "Epoch 787/1000\n",
            "1/1 [==============================] - 0s 5ms/step - loss: 0.0014 - mse: 0.0014 - mae: 0.0317\n",
            "Epoch 788/1000\n",
            "1/1 [==============================] - 0s 19ms/step - loss: 0.0014 - mse: 0.0014 - mae: 0.0316\n",
            "Epoch 789/1000\n",
            "1/1 [==============================] - 0s 6ms/step - loss: 0.0013 - mse: 0.0013 - mae: 0.0315\n",
            "Epoch 790/1000\n",
            "1/1 [==============================] - 0s 22ms/step - loss: 0.0013 - mse: 0.0013 - mae: 0.0314\n",
            "Epoch 791/1000\n",
            "1/1 [==============================] - 0s 5ms/step - loss: 0.0013 - mse: 0.0013 - mae: 0.0313\n",
            "Epoch 792/1000\n",
            "1/1 [==============================] - 0s 6ms/step - loss: 0.0013 - mse: 0.0013 - mae: 0.0312\n",
            "Epoch 793/1000\n",
            "1/1 [==============================] - 0s 11ms/step - loss: 0.0013 - mse: 0.0013 - mae: 0.0311\n",
            "Epoch 794/1000\n",
            "1/1 [==============================] - 0s 9ms/step - loss: 0.0013 - mse: 0.0013 - mae: 0.0309\n",
            "Epoch 795/1000\n",
            "1/1 [==============================] - 0s 12ms/step - loss: 0.0013 - mse: 0.0013 - mae: 0.0308\n",
            "Epoch 796/1000\n",
            "1/1 [==============================] - 0s 10ms/step - loss: 0.0013 - mse: 0.0013 - mae: 0.0307\n",
            "Epoch 797/1000\n",
            "1/1 [==============================] - 0s 4ms/step - loss: 0.0013 - mse: 0.0013 - mae: 0.0306\n",
            "Epoch 798/1000\n",
            "1/1 [==============================] - 0s 7ms/step - loss: 0.0013 - mse: 0.0013 - mae: 0.0305\n",
            "Epoch 799/1000\n",
            "1/1 [==============================] - 0s 9ms/step - loss: 0.0013 - mse: 0.0013 - mae: 0.0304\n",
            "Epoch 800/1000\n",
            "1/1 [==============================] - 0s 5ms/step - loss: 0.0012 - mse: 0.0012 - mae: 0.0303\n",
            "Epoch 801/1000\n",
            "1/1 [==============================] - 0s 8ms/step - loss: 0.0012 - mse: 0.0012 - mae: 0.0302\n",
            "Epoch 802/1000\n",
            "1/1 [==============================] - 0s 6ms/step - loss: 0.0012 - mse: 0.0012 - mae: 0.0301\n",
            "Epoch 803/1000\n",
            "1/1 [==============================] - 0s 11ms/step - loss: 0.0012 - mse: 0.0012 - mae: 0.0300\n",
            "Epoch 804/1000\n",
            "1/1 [==============================] - 0s 15ms/step - loss: 0.0012 - mse: 0.0012 - mae: 0.0299\n",
            "Epoch 805/1000\n",
            "1/1 [==============================] - 0s 15ms/step - loss: 0.0012 - mse: 0.0012 - mae: 0.0298\n",
            "Epoch 806/1000\n",
            "1/1 [==============================] - 0s 8ms/step - loss: 0.0012 - mse: 0.0012 - mae: 0.0297\n",
            "Epoch 807/1000\n",
            "1/1 [==============================] - 0s 7ms/step - loss: 0.0012 - mse: 0.0012 - mae: 0.0296\n",
            "Epoch 808/1000\n",
            "1/1 [==============================] - 0s 8ms/step - loss: 0.0012 - mse: 0.0012 - mae: 0.0295\n",
            "Epoch 809/1000\n",
            "1/1 [==============================] - 0s 7ms/step - loss: 0.0012 - mse: 0.0012 - mae: 0.0294\n",
            "Epoch 810/1000\n",
            "1/1 [==============================] - 0s 7ms/step - loss: 0.0012 - mse: 0.0012 - mae: 0.0293\n",
            "Epoch 811/1000\n",
            "1/1 [==============================] - 0s 12ms/step - loss: 0.0012 - mse: 0.0012 - mae: 0.0292\n",
            "Epoch 812/1000\n",
            "1/1 [==============================] - 0s 12ms/step - loss: 0.0012 - mse: 0.0012 - mae: 0.0291\n",
            "Epoch 813/1000\n",
            "1/1 [==============================] - 0s 19ms/step - loss: 0.0011 - mse: 0.0011 - mae: 0.0290\n",
            "Epoch 814/1000\n",
            "1/1 [==============================] - 0s 10ms/step - loss: 0.0011 - mse: 0.0011 - mae: 0.0289\n",
            "Epoch 815/1000\n",
            "1/1 [==============================] - 0s 10ms/step - loss: 0.0011 - mse: 0.0011 - mae: 0.0288\n",
            "Epoch 816/1000\n",
            "1/1 [==============================] - 0s 7ms/step - loss: 0.0011 - mse: 0.0011 - mae: 0.0287\n",
            "Epoch 817/1000\n",
            "1/1 [==============================] - 0s 5ms/step - loss: 0.0011 - mse: 0.0011 - mae: 0.0286\n",
            "Epoch 818/1000\n",
            "1/1 [==============================] - 0s 6ms/step - loss: 0.0011 - mse: 0.0011 - mae: 0.0285\n",
            "Epoch 819/1000\n",
            "1/1 [==============================] - 0s 7ms/step - loss: 0.0011 - mse: 0.0011 - mae: 0.0284\n",
            "Epoch 820/1000\n",
            "1/1 [==============================] - 0s 11ms/step - loss: 0.0011 - mse: 0.0011 - mae: 0.0283\n",
            "Epoch 821/1000\n",
            "1/1 [==============================] - 0s 10ms/step - loss: 0.0011 - mse: 0.0011 - mae: 0.0282\n",
            "Epoch 822/1000\n",
            "1/1 [==============================] - 0s 8ms/step - loss: 0.0011 - mse: 0.0011 - mae: 0.0281\n",
            "Epoch 823/1000\n",
            "1/1 [==============================] - 0s 13ms/step - loss: 0.0011 - mse: 0.0011 - mae: 0.0281\n",
            "Epoch 824/1000\n",
            "1/1 [==============================] - 0s 5ms/step - loss: 0.0011 - mse: 0.0011 - mae: 0.0280\n",
            "Epoch 825/1000\n",
            "1/1 [==============================] - 0s 18ms/step - loss: 0.0011 - mse: 0.0011 - mae: 0.0279\n",
            "Epoch 826/1000\n",
            "1/1 [==============================] - 0s 5ms/step - loss: 0.0010 - mse: 0.0010 - mae: 0.0278\n",
            "Epoch 827/1000\n",
            "1/1 [==============================] - 0s 9ms/step - loss: 0.0010 - mse: 0.0010 - mae: 0.0277\n",
            "Epoch 828/1000\n",
            "1/1 [==============================] - 0s 10ms/step - loss: 0.0010 - mse: 0.0010 - mae: 0.0276\n",
            "Epoch 829/1000\n",
            "1/1 [==============================] - 0s 19ms/step - loss: 0.0010 - mse: 0.0010 - mae: 0.0275\n",
            "Epoch 830/1000\n",
            "1/1 [==============================] - 0s 12ms/step - loss: 0.0010 - mse: 0.0010 - mae: 0.0274\n",
            "Epoch 831/1000\n",
            "1/1 [==============================] - 0s 9ms/step - loss: 0.0010 - mse: 0.0010 - mae: 0.0273\n",
            "Epoch 832/1000\n",
            "1/1 [==============================] - 0s 8ms/step - loss: 0.0010 - mse: 0.0010 - mae: 0.0272\n",
            "Epoch 833/1000\n",
            "1/1 [==============================] - 0s 9ms/step - loss: 9.9824e-04 - mse: 9.9824e-04 - mae: 0.0271\n",
            "Epoch 834/1000\n",
            "1/1 [==============================] - 0s 8ms/step - loss: 9.9152e-04 - mse: 9.9152e-04 - mae: 0.0270\n",
            "Epoch 835/1000\n",
            "1/1 [==============================] - 0s 10ms/step - loss: 9.8483e-04 - mse: 9.8483e-04 - mae: 0.0269\n",
            "Epoch 836/1000\n",
            "1/1 [==============================] - 0s 29ms/step - loss: 9.7819e-04 - mse: 9.7819e-04 - mae: 0.0268\n",
            "Epoch 837/1000\n",
            "1/1 [==============================] - 0s 12ms/step - loss: 9.7158e-04 - mse: 9.7158e-04 - mae: 0.0268\n",
            "Epoch 838/1000\n",
            "1/1 [==============================] - 0s 8ms/step - loss: 9.6503e-04 - mse: 9.6503e-04 - mae: 0.0267\n",
            "Epoch 839/1000\n",
            "1/1 [==============================] - 0s 34ms/step - loss: 9.5849e-04 - mse: 9.5849e-04 - mae: 0.0266\n",
            "Epoch 840/1000\n",
            "1/1 [==============================] - 0s 21ms/step - loss: 9.5203e-04 - mse: 9.5203e-04 - mae: 0.0265\n",
            "Epoch 841/1000\n",
            "1/1 [==============================] - 0s 6ms/step - loss: 9.4563e-04 - mse: 9.4563e-04 - mae: 0.0264\n",
            "Epoch 842/1000\n",
            "1/1 [==============================] - 0s 10ms/step - loss: 9.3922e-04 - mse: 9.3922e-04 - mae: 0.0263\n",
            "Epoch 843/1000\n",
            "1/1 [==============================] - 0s 4ms/step - loss: 9.3290e-04 - mse: 9.3290e-04 - mae: 0.0262\n",
            "Epoch 844/1000\n",
            "1/1 [==============================] - 0s 7ms/step - loss: 9.2660e-04 - mse: 9.2660e-04 - mae: 0.0261\n",
            "Epoch 845/1000\n",
            "1/1 [==============================] - 0s 8ms/step - loss: 9.2033e-04 - mse: 9.2033e-04 - mae: 0.0260\n",
            "Epoch 846/1000\n",
            "1/1 [==============================] - 0s 5ms/step - loss: 9.1412e-04 - mse: 9.1412e-04 - mae: 0.0260\n",
            "Epoch 847/1000\n",
            "1/1 [==============================] - 0s 8ms/step - loss: 9.0795e-04 - mse: 9.0795e-04 - mae: 0.0259\n",
            "Epoch 848/1000\n",
            "1/1 [==============================] - 0s 6ms/step - loss: 9.0182e-04 - mse: 9.0182e-04 - mae: 0.0258\n",
            "Epoch 849/1000\n",
            "1/1 [==============================] - 0s 14ms/step - loss: 8.9573e-04 - mse: 8.9573e-04 - mae: 0.0257\n",
            "Epoch 850/1000\n",
            "1/1 [==============================] - 0s 18ms/step - loss: 8.8970e-04 - mse: 8.8970e-04 - mae: 0.0256\n",
            "Epoch 851/1000\n",
            "1/1 [==============================] - 0s 12ms/step - loss: 8.8369e-04 - mse: 8.8369e-04 - mae: 0.0255\n",
            "Epoch 852/1000\n",
            "1/1 [==============================] - 0s 21ms/step - loss: 8.7772e-04 - mse: 8.7772e-04 - mae: 0.0254\n",
            "Epoch 853/1000\n",
            "1/1 [==============================] - 0s 12ms/step - loss: 8.7179e-04 - mse: 8.7179e-04 - mae: 0.0253\n",
            "Epoch 854/1000\n",
            "1/1 [==============================] - 0s 19ms/step - loss: 8.6590e-04 - mse: 8.6590e-04 - mae: 0.0253\n",
            "Epoch 855/1000\n",
            "1/1 [==============================] - 0s 11ms/step - loss: 8.6007e-04 - mse: 8.6007e-04 - mae: 0.0252\n",
            "Epoch 856/1000\n",
            "1/1 [==============================] - 0s 12ms/step - loss: 8.5425e-04 - mse: 8.5425e-04 - mae: 0.0251\n",
            "Epoch 857/1000\n",
            "1/1 [==============================] - 0s 21ms/step - loss: 8.4848e-04 - mse: 8.4848e-04 - mae: 0.0250\n",
            "Epoch 858/1000\n",
            "1/1 [==============================] - 0s 15ms/step - loss: 8.4277e-04 - mse: 8.4277e-04 - mae: 0.0249\n",
            "Epoch 859/1000\n",
            "1/1 [==============================] - 0s 19ms/step - loss: 8.3706e-04 - mse: 8.3706e-04 - mae: 0.0248\n",
            "Epoch 860/1000\n",
            "1/1 [==============================] - 0s 9ms/step - loss: 8.3144e-04 - mse: 8.3144e-04 - mae: 0.0247\n",
            "Epoch 861/1000\n",
            "1/1 [==============================] - 0s 7ms/step - loss: 8.2581e-04 - mse: 8.2581e-04 - mae: 0.0247\n",
            "Epoch 862/1000\n",
            "1/1 [==============================] - 0s 12ms/step - loss: 8.2023e-04 - mse: 8.2023e-04 - mae: 0.0246\n",
            "Epoch 863/1000\n",
            "1/1 [==============================] - 0s 11ms/step - loss: 8.1470e-04 - mse: 8.1470e-04 - mae: 0.0245\n",
            "Epoch 864/1000\n",
            "1/1 [==============================] - 0s 9ms/step - loss: 8.0919e-04 - mse: 8.0919e-04 - mae: 0.0244\n",
            "Epoch 865/1000\n",
            "1/1 [==============================] - 0s 9ms/step - loss: 8.0373e-04 - mse: 8.0373e-04 - mae: 0.0243\n",
            "Epoch 866/1000\n",
            "1/1 [==============================] - 0s 10ms/step - loss: 7.9829e-04 - mse: 7.9829e-04 - mae: 0.0243\n",
            "Epoch 867/1000\n",
            "1/1 [==============================] - 0s 21ms/step - loss: 7.9294e-04 - mse: 7.9294e-04 - mae: 0.0242\n",
            "Epoch 868/1000\n",
            "1/1 [==============================] - 0s 11ms/step - loss: 7.8757e-04 - mse: 7.8757e-04 - mae: 0.0241\n",
            "Epoch 869/1000\n",
            "1/1 [==============================] - 0s 21ms/step - loss: 7.8225e-04 - mse: 7.8225e-04 - mae: 0.0240\n",
            "Epoch 870/1000\n",
            "1/1 [==============================] - 0s 22ms/step - loss: 7.7697e-04 - mse: 7.7697e-04 - mae: 0.0239\n",
            "Epoch 871/1000\n",
            "1/1 [==============================] - 0s 5ms/step - loss: 7.7172e-04 - mse: 7.7172e-04 - mae: 0.0238\n",
            "Epoch 872/1000\n",
            "1/1 [==============================] - 0s 9ms/step - loss: 7.6653e-04 - mse: 7.6653e-04 - mae: 0.0238\n",
            "Epoch 873/1000\n",
            "1/1 [==============================] - 0s 25ms/step - loss: 7.6134e-04 - mse: 7.6134e-04 - mae: 0.0237\n",
            "Epoch 874/1000\n",
            "1/1 [==============================] - 0s 8ms/step - loss: 7.5620e-04 - mse: 7.5620e-04 - mae: 0.0236\n",
            "Epoch 875/1000\n",
            "1/1 [==============================] - 0s 4ms/step - loss: 7.5109e-04 - mse: 7.5109e-04 - mae: 0.0235\n",
            "Epoch 876/1000\n",
            "1/1 [==============================] - 0s 11ms/step - loss: 7.4603e-04 - mse: 7.4603e-04 - mae: 0.0234\n",
            "Epoch 877/1000\n",
            "1/1 [==============================] - 0s 16ms/step - loss: 7.4099e-04 - mse: 7.4099e-04 - mae: 0.0234\n",
            "Epoch 878/1000\n",
            "1/1 [==============================] - 0s 8ms/step - loss: 7.3598e-04 - mse: 7.3598e-04 - mae: 0.0233\n",
            "Epoch 879/1000\n",
            "1/1 [==============================] - 0s 16ms/step - loss: 7.3102e-04 - mse: 7.3102e-04 - mae: 0.0232\n",
            "Epoch 880/1000\n",
            "1/1 [==============================] - 0s 13ms/step - loss: 7.2609e-04 - mse: 7.2609e-04 - mae: 0.0231\n",
            "Epoch 881/1000\n",
            "1/1 [==============================] - 0s 16ms/step - loss: 7.2119e-04 - mse: 7.2119e-04 - mae: 0.0231\n",
            "Epoch 882/1000\n",
            "1/1 [==============================] - 0s 13ms/step - loss: 7.1631e-04 - mse: 7.1631e-04 - mae: 0.0230\n",
            "Epoch 883/1000\n",
            "1/1 [==============================] - 0s 36ms/step - loss: 7.1148e-04 - mse: 7.1148e-04 - mae: 0.0229\n",
            "Epoch 884/1000\n",
            "1/1 [==============================] - 0s 21ms/step - loss: 7.0666e-04 - mse: 7.0666e-04 - mae: 0.0228\n",
            "Epoch 885/1000\n",
            "1/1 [==============================] - 0s 11ms/step - loss: 7.0191e-04 - mse: 7.0191e-04 - mae: 0.0227\n",
            "Epoch 886/1000\n",
            "1/1 [==============================] - 0s 19ms/step - loss: 6.9717e-04 - mse: 6.9717e-04 - mae: 0.0227\n",
            "Epoch 887/1000\n",
            "1/1 [==============================] - 0s 14ms/step - loss: 6.9247e-04 - mse: 6.9247e-04 - mae: 0.0226\n",
            "Epoch 888/1000\n",
            "1/1 [==============================] - 0s 11ms/step - loss: 6.8779e-04 - mse: 6.8779e-04 - mae: 0.0225\n",
            "Epoch 889/1000\n",
            "1/1 [==============================] - 0s 13ms/step - loss: 6.8314e-04 - mse: 6.8314e-04 - mae: 0.0224\n",
            "Epoch 890/1000\n",
            "1/1 [==============================] - 0s 11ms/step - loss: 6.7852e-04 - mse: 6.7852e-04 - mae: 0.0224\n",
            "Epoch 891/1000\n",
            "1/1 [==============================] - 0s 9ms/step - loss: 6.7396e-04 - mse: 6.7396e-04 - mae: 0.0223\n",
            "Epoch 892/1000\n",
            "1/1 [==============================] - 0s 13ms/step - loss: 6.6940e-04 - mse: 6.6940e-04 - mae: 0.0222\n",
            "Epoch 893/1000\n",
            "1/1 [==============================] - 0s 17ms/step - loss: 6.6489e-04 - mse: 6.6489e-04 - mae: 0.0221\n",
            "Epoch 894/1000\n",
            "1/1 [==============================] - 0s 6ms/step - loss: 6.6040e-04 - mse: 6.6040e-04 - mae: 0.0221\n",
            "Epoch 895/1000\n",
            "1/1 [==============================] - 0s 14ms/step - loss: 6.5593e-04 - mse: 6.5593e-04 - mae: 0.0220\n",
            "Epoch 896/1000\n",
            "1/1 [==============================] - 0s 13ms/step - loss: 6.5150e-04 - mse: 6.5150e-04 - mae: 0.0219\n",
            "Epoch 897/1000\n",
            "1/1 [==============================] - 0s 11ms/step - loss: 6.4712e-04 - mse: 6.4712e-04 - mae: 0.0218\n",
            "Epoch 898/1000\n",
            "1/1 [==============================] - 0s 14ms/step - loss: 6.4275e-04 - mse: 6.4275e-04 - mae: 0.0218\n",
            "Epoch 899/1000\n",
            "1/1 [==============================] - 0s 15ms/step - loss: 6.3841e-04 - mse: 6.3841e-04 - mae: 0.0217\n",
            "Epoch 900/1000\n",
            "1/1 [==============================] - 0s 7ms/step - loss: 6.3409e-04 - mse: 6.3409e-04 - mae: 0.0216\n",
            "Epoch 901/1000\n",
            "1/1 [==============================] - 0s 12ms/step - loss: 6.2982e-04 - mse: 6.2982e-04 - mae: 0.0215\n",
            "Epoch 902/1000\n",
            "1/1 [==============================] - 0s 19ms/step - loss: 6.2557e-04 - mse: 6.2557e-04 - mae: 0.0215\n",
            "Epoch 903/1000\n",
            "1/1 [==============================] - 0s 18ms/step - loss: 6.2134e-04 - mse: 6.2134e-04 - mae: 0.0214\n",
            "Epoch 904/1000\n",
            "1/1 [==============================] - 0s 12ms/step - loss: 6.1715e-04 - mse: 6.1715e-04 - mae: 0.0213\n",
            "Epoch 905/1000\n",
            "1/1 [==============================] - 0s 18ms/step - loss: 6.1299e-04 - mse: 6.1299e-04 - mae: 0.0213\n",
            "Epoch 906/1000\n",
            "1/1 [==============================] - 0s 17ms/step - loss: 6.0885e-04 - mse: 6.0885e-04 - mae: 0.0212\n",
            "Epoch 907/1000\n",
            "1/1 [==============================] - 0s 10ms/step - loss: 6.0472e-04 - mse: 6.0472e-04 - mae: 0.0211\n",
            "Epoch 908/1000\n",
            "1/1 [==============================] - 0s 8ms/step - loss: 6.0065e-04 - mse: 6.0065e-04 - mae: 0.0210\n",
            "Epoch 909/1000\n",
            "1/1 [==============================] - 0s 12ms/step - loss: 5.9659e-04 - mse: 5.9659e-04 - mae: 0.0210\n",
            "Epoch 910/1000\n",
            "1/1 [==============================] - 0s 16ms/step - loss: 5.9258e-04 - mse: 5.9258e-04 - mae: 0.0209\n",
            "Epoch 911/1000\n",
            "1/1 [==============================] - 0s 6ms/step - loss: 5.8857e-04 - mse: 5.8857e-04 - mae: 0.0208\n",
            "Epoch 912/1000\n",
            "1/1 [==============================] - 0s 18ms/step - loss: 5.8460e-04 - mse: 5.8460e-04 - mae: 0.0208\n",
            "Epoch 913/1000\n",
            "1/1 [==============================] - 0s 18ms/step - loss: 5.8064e-04 - mse: 5.8064e-04 - mae: 0.0207\n",
            "Epoch 914/1000\n",
            "1/1 [==============================] - 0s 13ms/step - loss: 5.7674e-04 - mse: 5.7674e-04 - mae: 0.0206\n",
            "Epoch 915/1000\n",
            "1/1 [==============================] - 0s 13ms/step - loss: 5.7285e-04 - mse: 5.7285e-04 - mae: 0.0205\n",
            "Epoch 916/1000\n",
            "1/1 [==============================] - 0s 12ms/step - loss: 5.6897e-04 - mse: 5.6897e-04 - mae: 0.0205\n",
            "Epoch 917/1000\n",
            "1/1 [==============================] - 0s 15ms/step - loss: 5.6513e-04 - mse: 5.6513e-04 - mae: 0.0204\n",
            "Epoch 918/1000\n",
            "1/1 [==============================] - 0s 9ms/step - loss: 5.6132e-04 - mse: 5.6132e-04 - mae: 0.0203\n",
            "Epoch 919/1000\n",
            "1/1 [==============================] - 0s 13ms/step - loss: 5.5753e-04 - mse: 5.5753e-04 - mae: 0.0203\n",
            "Epoch 920/1000\n",
            "1/1 [==============================] - 0s 12ms/step - loss: 5.5377e-04 - mse: 5.5377e-04 - mae: 0.0202\n",
            "Epoch 921/1000\n",
            "1/1 [==============================] - 0s 11ms/step - loss: 5.5004e-04 - mse: 5.5004e-04 - mae: 0.0201\n",
            "Epoch 922/1000\n",
            "1/1 [==============================] - 0s 13ms/step - loss: 5.4631e-04 - mse: 5.4631e-04 - mae: 0.0201\n",
            "Epoch 923/1000\n",
            "1/1 [==============================] - 0s 12ms/step - loss: 5.4263e-04 - mse: 5.4263e-04 - mae: 0.0200\n",
            "Epoch 924/1000\n",
            "1/1 [==============================] - 0s 7ms/step - loss: 5.3895e-04 - mse: 5.3895e-04 - mae: 0.0199\n",
            "Epoch 925/1000\n",
            "1/1 [==============================] - 0s 9ms/step - loss: 5.3532e-04 - mse: 5.3532e-04 - mae: 0.0199\n",
            "Epoch 926/1000\n",
            "1/1 [==============================] - 0s 13ms/step - loss: 5.3171e-04 - mse: 5.3171e-04 - mae: 0.0198\n",
            "Epoch 927/1000\n",
            "1/1 [==============================] - 0s 14ms/step - loss: 5.2811e-04 - mse: 5.2811e-04 - mae: 0.0197\n",
            "Epoch 928/1000\n",
            "1/1 [==============================] - 0s 14ms/step - loss: 5.2455e-04 - mse: 5.2455e-04 - mae: 0.0197\n",
            "Epoch 929/1000\n",
            "1/1 [==============================] - 0s 21ms/step - loss: 5.2101e-04 - mse: 5.2101e-04 - mae: 0.0196\n",
            "Epoch 930/1000\n",
            "1/1 [==============================] - 0s 19ms/step - loss: 5.1748e-04 - mse: 5.1748e-04 - mae: 0.0195\n",
            "Epoch 931/1000\n",
            "1/1 [==============================] - 0s 9ms/step - loss: 5.1400e-04 - mse: 5.1400e-04 - mae: 0.0195\n",
            "Epoch 932/1000\n",
            "1/1 [==============================] - 0s 6ms/step - loss: 5.1053e-04 - mse: 5.1053e-04 - mae: 0.0194\n",
            "Epoch 933/1000\n",
            "1/1 [==============================] - 0s 11ms/step - loss: 5.0709e-04 - mse: 5.0709e-04 - mae: 0.0193\n",
            "Epoch 934/1000\n",
            "1/1 [==============================] - 0s 14ms/step - loss: 5.0366e-04 - mse: 5.0366e-04 - mae: 0.0193\n",
            "Epoch 935/1000\n",
            "1/1 [==============================] - 0s 13ms/step - loss: 5.0026e-04 - mse: 5.0026e-04 - mae: 0.0192\n",
            "Epoch 936/1000\n",
            "1/1 [==============================] - 0s 29ms/step - loss: 4.9689e-04 - mse: 4.9689e-04 - mae: 0.0191\n",
            "Epoch 937/1000\n",
            "1/1 [==============================] - 0s 11ms/step - loss: 4.9354e-04 - mse: 4.9354e-04 - mae: 0.0191\n",
            "Epoch 938/1000\n",
            "1/1 [==============================] - 0s 17ms/step - loss: 4.9020e-04 - mse: 4.9020e-04 - mae: 0.0190\n",
            "Epoch 939/1000\n",
            "1/1 [==============================] - 0s 12ms/step - loss: 4.8690e-04 - mse: 4.8690e-04 - mae: 0.0189\n",
            "Epoch 940/1000\n",
            "1/1 [==============================] - 0s 17ms/step - loss: 4.8360e-04 - mse: 4.8360e-04 - mae: 0.0189\n",
            "Epoch 941/1000\n",
            "1/1 [==============================] - 0s 8ms/step - loss: 4.8033e-04 - mse: 4.8033e-04 - mae: 0.0188\n",
            "Epoch 942/1000\n",
            "1/1 [==============================] - 0s 8ms/step - loss: 4.7710e-04 - mse: 4.7710e-04 - mae: 0.0187\n",
            "Epoch 943/1000\n",
            "1/1 [==============================] - 0s 8ms/step - loss: 4.7389e-04 - mse: 4.7389e-04 - mae: 0.0187\n",
            "Epoch 944/1000\n",
            "1/1 [==============================] - 0s 14ms/step - loss: 4.7067e-04 - mse: 4.7067e-04 - mae: 0.0186\n",
            "Epoch 945/1000\n",
            "1/1 [==============================] - 0s 6ms/step - loss: 4.6750e-04 - mse: 4.6750e-04 - mae: 0.0186\n",
            "Epoch 946/1000\n",
            "1/1 [==============================] - 0s 16ms/step - loss: 4.6435e-04 - mse: 4.6435e-04 - mae: 0.0185\n",
            "Epoch 947/1000\n",
            "1/1 [==============================] - 0s 20ms/step - loss: 4.6122e-04 - mse: 4.6122e-04 - mae: 0.0184\n",
            "Epoch 948/1000\n",
            "1/1 [==============================] - 0s 13ms/step - loss: 4.5810e-04 - mse: 4.5810e-04 - mae: 0.0184\n",
            "Epoch 949/1000\n",
            "1/1 [==============================] - 0s 7ms/step - loss: 4.5500e-04 - mse: 4.5500e-04 - mae: 0.0183\n",
            "Epoch 950/1000\n",
            "1/1 [==============================] - 0s 9ms/step - loss: 4.5193e-04 - mse: 4.5193e-04 - mae: 0.0182\n",
            "Epoch 951/1000\n",
            "1/1 [==============================] - 0s 11ms/step - loss: 4.4888e-04 - mse: 4.4888e-04 - mae: 0.0182\n",
            "Epoch 952/1000\n",
            "1/1 [==============================] - 0s 15ms/step - loss: 4.4585e-04 - mse: 4.4585e-04 - mae: 0.0181\n",
            "Epoch 953/1000\n",
            "1/1 [==============================] - 0s 19ms/step - loss: 4.4283e-04 - mse: 4.4283e-04 - mae: 0.0181\n",
            "Epoch 954/1000\n",
            "1/1 [==============================] - 0s 8ms/step - loss: 4.3986e-04 - mse: 4.3986e-04 - mae: 0.0180\n",
            "Epoch 955/1000\n",
            "1/1 [==============================] - 0s 6ms/step - loss: 4.3688e-04 - mse: 4.3688e-04 - mae: 0.0179\n",
            "Epoch 956/1000\n",
            "1/1 [==============================] - 0s 9ms/step - loss: 4.3394e-04 - mse: 4.3394e-04 - mae: 0.0179\n",
            "Epoch 957/1000\n",
            "1/1 [==============================] - 0s 7ms/step - loss: 4.3100e-04 - mse: 4.3100e-04 - mae: 0.0178\n",
            "Epoch 958/1000\n",
            "1/1 [==============================] - 0s 10ms/step - loss: 4.2811e-04 - mse: 4.2811e-04 - mae: 0.0178\n",
            "Epoch 959/1000\n",
            "1/1 [==============================] - 0s 5ms/step - loss: 4.2521e-04 - mse: 4.2521e-04 - mae: 0.0177\n",
            "Epoch 960/1000\n",
            "1/1 [==============================] - 0s 19ms/step - loss: 4.2233e-04 - mse: 4.2233e-04 - mae: 0.0176\n",
            "Epoch 961/1000\n",
            "1/1 [==============================] - 0s 6ms/step - loss: 4.1949e-04 - mse: 4.1949e-04 - mae: 0.0176\n",
            "Epoch 962/1000\n",
            "1/1 [==============================] - 0s 6ms/step - loss: 4.1666e-04 - mse: 4.1666e-04 - mae: 0.0175\n",
            "Epoch 963/1000\n",
            "1/1 [==============================] - 0s 11ms/step - loss: 4.1384e-04 - mse: 4.1384e-04 - mae: 0.0175\n",
            "Epoch 964/1000\n",
            "1/1 [==============================] - 0s 15ms/step - loss: 4.1105e-04 - mse: 4.1105e-04 - mae: 0.0174\n",
            "Epoch 965/1000\n",
            "1/1 [==============================] - 0s 9ms/step - loss: 4.0828e-04 - mse: 4.0828e-04 - mae: 0.0173\n",
            "Epoch 966/1000\n",
            "1/1 [==============================] - 0s 6ms/step - loss: 4.0552e-04 - mse: 4.0552e-04 - mae: 0.0173\n",
            "Epoch 967/1000\n",
            "1/1 [==============================] - 0s 9ms/step - loss: 4.0277e-04 - mse: 4.0277e-04 - mae: 0.0172\n",
            "Epoch 968/1000\n",
            "1/1 [==============================] - 0s 5ms/step - loss: 4.0006e-04 - mse: 4.0006e-04 - mae: 0.0172\n",
            "Epoch 969/1000\n",
            "1/1 [==============================] - 0s 9ms/step - loss: 3.9736e-04 - mse: 3.9736e-04 - mae: 0.0171\n",
            "Epoch 970/1000\n",
            "1/1 [==============================] - 0s 13ms/step - loss: 3.9467e-04 - mse: 3.9467e-04 - mae: 0.0171\n",
            "Epoch 971/1000\n",
            "1/1 [==============================] - 0s 22ms/step - loss: 3.9202e-04 - mse: 3.9202e-04 - mae: 0.0170\n",
            "Epoch 972/1000\n",
            "1/1 [==============================] - 0s 11ms/step - loss: 3.8936e-04 - mse: 3.8936e-04 - mae: 0.0169\n",
            "Epoch 973/1000\n",
            "1/1 [==============================] - 0s 17ms/step - loss: 3.8675e-04 - mse: 3.8675e-04 - mae: 0.0169\n",
            "Epoch 974/1000\n",
            "1/1 [==============================] - 0s 10ms/step - loss: 3.8413e-04 - mse: 3.8413e-04 - mae: 0.0168\n",
            "Epoch 975/1000\n",
            "1/1 [==============================] - 0s 16ms/step - loss: 3.8153e-04 - mse: 3.8153e-04 - mae: 0.0168\n",
            "Epoch 976/1000\n",
            "1/1 [==============================] - 0s 24ms/step - loss: 3.7896e-04 - mse: 3.7896e-04 - mae: 0.0167\n",
            "Epoch 977/1000\n",
            "1/1 [==============================] - 0s 6ms/step - loss: 3.7640e-04 - mse: 3.7640e-04 - mae: 0.0167\n",
            "Epoch 978/1000\n",
            "1/1 [==============================] - 0s 10ms/step - loss: 3.7385e-04 - mse: 3.7385e-04 - mae: 0.0166\n",
            "Epoch 979/1000\n",
            "1/1 [==============================] - 0s 24ms/step - loss: 3.7133e-04 - mse: 3.7133e-04 - mae: 0.0165\n",
            "Epoch 980/1000\n",
            "1/1 [==============================] - 0s 7ms/step - loss: 3.6883e-04 - mse: 3.6883e-04 - mae: 0.0165\n",
            "Epoch 981/1000\n",
            "1/1 [==============================] - 0s 17ms/step - loss: 3.6634e-04 - mse: 3.6634e-04 - mae: 0.0164\n",
            "Epoch 982/1000\n",
            "1/1 [==============================] - 0s 9ms/step - loss: 3.6388e-04 - mse: 3.6388e-04 - mae: 0.0164\n",
            "Epoch 983/1000\n",
            "1/1 [==============================] - 0s 8ms/step - loss: 3.6142e-04 - mse: 3.6142e-04 - mae: 0.0163\n",
            "Epoch 984/1000\n",
            "1/1 [==============================] - 0s 8ms/step - loss: 3.5896e-04 - mse: 3.5896e-04 - mae: 0.0163\n",
            "Epoch 985/1000\n",
            "1/1 [==============================] - 0s 11ms/step - loss: 3.5655e-04 - mse: 3.5655e-04 - mae: 0.0162\n",
            "Epoch 986/1000\n",
            "1/1 [==============================] - 0s 7ms/step - loss: 3.5413e-04 - mse: 3.5413e-04 - mae: 0.0162\n",
            "Epoch 987/1000\n",
            "1/1 [==============================] - 0s 6ms/step - loss: 3.5176e-04 - mse: 3.5176e-04 - mae: 0.0161\n",
            "Epoch 988/1000\n",
            "1/1 [==============================] - 0s 6ms/step - loss: 3.4937e-04 - mse: 3.4937e-04 - mae: 0.0160\n",
            "Epoch 989/1000\n",
            "1/1 [==============================] - 0s 6ms/step - loss: 3.4702e-04 - mse: 3.4702e-04 - mae: 0.0160\n",
            "Epoch 990/1000\n",
            "1/1 [==============================] - 0s 10ms/step - loss: 3.4467e-04 - mse: 3.4467e-04 - mae: 0.0159\n",
            "Epoch 991/1000\n",
            "1/1 [==============================] - 0s 9ms/step - loss: 3.4236e-04 - mse: 3.4236e-04 - mae: 0.0159\n",
            "Epoch 992/1000\n",
            "1/1 [==============================] - 0s 13ms/step - loss: 3.4003e-04 - mse: 3.4003e-04 - mae: 0.0158\n",
            "Epoch 993/1000\n",
            "1/1 [==============================] - 0s 8ms/step - loss: 3.3775e-04 - mse: 3.3775e-04 - mae: 0.0158\n",
            "Epoch 994/1000\n",
            "1/1 [==============================] - 0s 6ms/step - loss: 3.3545e-04 - mse: 3.3545e-04 - mae: 0.0157\n",
            "Epoch 995/1000\n",
            "1/1 [==============================] - 0s 5ms/step - loss: 3.3319e-04 - mse: 3.3319e-04 - mae: 0.0157\n",
            "Epoch 996/1000\n",
            "1/1 [==============================] - 0s 5ms/step - loss: 3.3094e-04 - mse: 3.3094e-04 - mae: 0.0156\n",
            "Epoch 997/1000\n",
            "1/1 [==============================] - 0s 7ms/step - loss: 3.2872e-04 - mse: 3.2872e-04 - mae: 0.0156\n",
            "Epoch 998/1000\n",
            "1/1 [==============================] - 0s 6ms/step - loss: 3.2649e-04 - mse: 3.2649e-04 - mae: 0.0155\n",
            "Epoch 999/1000\n",
            "1/1 [==============================] - 0s 5ms/step - loss: 3.2430e-04 - mse: 3.2430e-04 - mae: 0.0155\n",
            "Epoch 1000/1000\n",
            "1/1 [==============================] - 0s 6ms/step - loss: 3.2211e-04 - mse: 3.2211e-04 - mae: 0.0154\n"
          ]
        }
      ]
    },
    {
      "cell_type": "code",
      "source": [
        "plt.plot(history.history['loss'],label = 'loss')\n",
        "plt.plot(history.history['mae'],label = 'mae')\n",
        "# epoch 별 훈련 손실 및 평가지표의 시각화 \n",
        "# 앞 부분의 epoch 은 손실이 급격히 감소하는 것을 확인 할수 있다. \n",
        "# "
      ],
      "metadata": {
        "colab": {
          "base_uri": "https://localhost:8080/",
          "height": 286
        },
        "id": "0BKNIBIaFwA6",
        "outputId": "f18f51f2-35d0-4475-df91-eaa4753cda9e"
      },
      "execution_count": 202,
      "outputs": [
        {
          "output_type": "execute_result",
          "data": {
            "text/plain": [
              "[<matplotlib.lines.Line2D at 0x7f3d95db6610>]"
            ]
          },
          "metadata": {},
          "execution_count": 202
        },
        {
          "output_type": "display_data",
          "data": {
            "image/png": "[encoded data removed]",
            "text/plain": [
              "<Figure size 432x288 with 1 Axes>"
            ]
          },
          "metadata": {
            "needs_background": "light"
          }
        }
      ]
    },
    {
      "cell_type": "code",
      "source": [
        "plt.plot(history.history['loss'],label = 'loss')\n",
        "plt.plot(history.history['mae'],label = 'mae')\n",
        "plt.xlim(-1,20)\n",
        "plt.legend()\n",
        "# 5 epoch까지는 손실이 급격히 감소하다가 감소폭이 둔화되면서 조금씩\n",
        "# 감소되는것을 확인할수 있다. 즉 모델 훈련 초기 단계에는 학습이\n",
        "# 매우 빠른 속도로 진행되다가 일정 epoch 이후에는 학습속도가 느려지는\n",
        "# 패턴이 보인다."
      ],
      "metadata": {
        "colab": {
          "base_uri": "https://localhost:8080/",
          "height": 286
        },
        "id": "Qc0fh73cGMIG",
        "outputId": "cd9074e4-93b2-4dd2-a5a5-a3fe5addafaf"
      },
      "execution_count": 203,
      "outputs": [
        {
          "output_type": "execute_result",
          "data": {
            "text/plain": [
              "<matplotlib.legend.Legend at 0x7f3d95d7ddd0>"
            ]
          },
          "metadata": {},
          "execution_count": 203
        },
        {
          "output_type": "display_data",
          "data": {
            "image/png": "[encoded data removed]",
            "text/plain": [
              "<Figure size 432x288 with 1 Axes>"
            ]
          },
          "metadata": {
            "needs_background": "light"
          }
        }
      ]
    },
    {
      "cell_type": "code",
      "source": [
        "# 검증...\n",
        "model.evaluate(x,y)\n",
        "# 일반적으로 검증 데이터 셋을 입력하여 검증한다. 여기서는 별도의 검증 데이터셋을 만들지 않아서 훈련용 데이터를 대입하여 결과를 확인한다.\n",
        "# 두개의 지표 loss와 mse를 확인한다.\n",
        "\n",
        "# 사전에 검증 데이터를 준비하여(훈련용과 검증용으로 나눈... ) 성능을 평가하는것이 일반적이다.\n",
        "# 이러한 방법을 교차 검증 cross validataion라고 부른다."
      ],
      "metadata": {
        "colab": {
          "base_uri": "https://localhost:8080/"
        },
        "id": "sKnBbdooGW9P",
        "outputId": "98d0de4a-eb4b-4d37-d18b-1ab655d1a2df"
      },
      "execution_count": 204,
      "outputs": [
        {
          "output_type": "stream",
          "name": "stdout",
          "text": [
            "1/1 [==============================] - 0s 332ms/step - loss: 3.1993e-04 - mse: 3.1993e-04 - mae: 0.0154\n"
          ]
        },
        {
          "output_type": "execute_result",
          "data": {
            "text/plain": [
              "[0.00031992868753150105, 0.00031992868753150105, 0.01535253506153822]"
            ]
          },
          "metadata": {},
          "execution_count": 204
        }
      ]
    },
    {
      "cell_type": "code",
      "source": [
        "# 예측\n",
        "# 훈련이 완료된 모델의 결과에 predict()메소드를 사용하여 새로운 입력 데이터를\n",
        "# 넣어 주면 모델의 예측 값을 얻게 된다.\n",
        "# 모델이 예측 결과로 출력하는 값은 32.0.... 이다.\n",
        "# 데이터 셋 생성 할때 정의한\n",
        "# y = 3x+2\n",
        "# model.predict([10])는 해당 식에서 x에 10을 대입하였을때 y가 몇인지 예측하는것\n",
        "# 계산한것이 아니라 예측한 값이라는 특징!\n",
        "# 결과가 꽤 근사한 값을 예측한것을 확인할수 있다.\n",
        "\n",
        "model.predict([10])"
      ],
      "metadata": {
        "colab": {
          "base_uri": "https://localhost:8080/"
        },
        "id": "rk0Vig2YGTzv",
        "outputId": "edb753ab-6341-434e-f57a-e1646b3b93cf"
      },
      "execution_count": 205,
      "outputs": [
        {
          "output_type": "execute_result",
          "data": {
            "text/plain": [
              "array([[32.074203]], dtype=float32)"
            ]
          },
          "metadata": {},
          "execution_count": 205
        }
      ]
    },
    {
      "cell_type": "code",
      "source": [
        "model.predict([5])"
      ],
      "metadata": {
        "colab": {
          "base_uri": "https://localhost:8080/"
        },
        "id": "tUYiYSThJ9dZ",
        "outputId": "7d70ae75-0d18-4f28-8672-b351a2fffa28"
      },
      "execution_count": 208,
      "outputs": [
        {
          "output_type": "execute_result",
          "data": {
            "text/plain": [
              "array([[17.016138]], dtype=float32)"
            ]
          },
          "metadata": {},
          "execution_count": 208
        }
      ]
    },
    {
      "cell_type": "code",
      "source": [
        "model.predict([6])"
      ],
      "metadata": {
        "colab": {
          "base_uri": "https://localhost:8080/"
        },
        "id": "AFGyOBOjKT1T",
        "outputId": "6d16059b-9c75-4ed3-859e-691329efef7b"
      },
      "execution_count": 209,
      "outputs": [
        {
          "output_type": "execute_result",
          "data": {
            "text/plain": [
              "array([[20.02775]], dtype=float32)"
            ]
          },
          "metadata": {},
          "execution_count": 209
        }
      ]
    }
  ]
}